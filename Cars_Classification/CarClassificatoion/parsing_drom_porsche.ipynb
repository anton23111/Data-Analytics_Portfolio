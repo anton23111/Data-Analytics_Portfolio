{
 "cells": [
  {
   "cell_type": "code",
   "execution_count": 80,
   "id": "d3a481a7",
   "metadata": {},
   "outputs": [],
   "source": [
    "from selenium import webdriver\n",
    "import time\n",
    "from selenium.webdriver.common.by import By\n",
    "import tqdm\n",
    "import random \n",
    "import pandas as pd\n",
    "import numpy as np"
   ]
  },
  {
   "cell_type": "markdown",
   "id": "884c4041",
   "metadata": {},
   "source": [
    "### Функция для перехода на новую страницу"
   ]
  },
  {
   "cell_type": "code",
   "execution_count": 81,
   "id": "8fd95ba4",
   "metadata": {},
   "outputs": [],
   "source": [
    "def new_page_click(browser, page_num):\n",
    "    if page_num == 1:\n",
    "        browser.find_element(By.XPATH, '/html/body/div[2]/div[5]/div[1]/div[1]/div[5]/div/div[2]/div/div/a').click()\n",
    "        time.sleep(random.randint(1, 3))\n",
    "    else:\n",
    "        browser.find_element(By.XPATH, '/html/body/div[2]/div[4]/div[1]/div[1]/div[5]/div/div[2]/div/div/a').click()\n",
    "        time.sleep(random.randint(1, 3))   "
   ]
  },
  {
   "cell_type": "markdown",
   "id": "07d921f9",
   "metadata": {},
   "source": [
    "### Парсинг марки, модели и года выпуска"
   ]
  },
  {
   "cell_type": "code",
   "execution_count": 115,
   "id": "ddc96d68",
   "metadata": {},
   "outputs": [],
   "source": [
    "def parsing_model(browser, num, page):\n",
    "    xpath = f'/html/body/div[2]/div[{page}]/div[1]/div[1]/div[5]/div/div[1]/a[{num}]/div[2]/div[1]/div[1]/span'\n",
    "    model = browser.find_element(By.XPATH, xpath)\n",
    "    model = model.text\n",
    "    return model"
   ]
  },
  {
   "cell_type": "markdown",
   "id": "b8e5a0b7",
   "metadata": {},
   "source": [
    "### Парсинг города продажи"
   ]
  },
  {
   "cell_type": "code",
   "execution_count": 84,
   "id": "a88b5c5b",
   "metadata": {},
   "outputs": [],
   "source": [
    "def parsing_city(browser, num, page):\n",
    "    xpath = f'/html/body/div[2]/div[{page}]/div[1]/div[1]/div[5]/div/div[1]/a[{num}]/div[3]/div[2]/div/span'\n",
    "    city = browser.find_element(By.XPATH, xpath)\n",
    "    city = city.text\n",
    "    time.sleep(random.randint(1, 3))\n",
    "    return city"
   ]
  },
  {
   "cell_type": "markdown",
   "id": "c89cd70a",
   "metadata": {},
   "source": [
    "### Переход на страницу с автомобилем "
   ]
  },
  {
   "cell_type": "code",
   "execution_count": 85,
   "id": "48955a3f",
   "metadata": {},
   "outputs": [],
   "source": [
    "def click_auto_page(browser, num, page):\n",
    "    xpath = f'/html/body/div[2]/div[{page}]/div[1]/div[1]/div[5]/div/div[1]/a[{num}]/div[2]/div[1]'\n",
    "    browser.find_element(By.XPATH, xpath).click()\n",
    "    time.sleep(random.randint(1, 3))"
   ]
  },
  {
   "cell_type": "markdown",
   "id": "38abf407",
   "metadata": {},
   "source": [
    "### Парсинг характеристик автомобиля"
   ]
  },
  {
   "cell_type": "code",
   "execution_count": 86,
   "id": "5bc6645b",
   "metadata": {},
   "outputs": [],
   "source": [
    "def parsing_characteristic(browser):\n",
    "    xpath = '/html/body/div[2]/div[4]/div[1]/div[1]/div[2]/div[2]/div[2]'\n",
    "    characteristic = browser.find_element(By.XPATH, xpath)\n",
    "    characteristic = characteristic.text\n",
    "    return characteristic    "
   ]
  },
  {
   "cell_type": "markdown",
   "id": "3fa9011a",
   "metadata": {},
   "source": [
    "### Парсинг количества владельцев "
   ]
  },
  {
   "cell_type": "code",
   "execution_count": 87,
   "id": "f056719b",
   "metadata": {},
   "outputs": [],
   "source": [
    "def parsing_number_of_owners(browser):\n",
    "    try:\n",
    "        xpath = '/html/body/div[2]/div[4]/div[1]/div[1]/div[2]/div[2]/div[3]/div[3]/div'\n",
    "        owners = browser.find_element(By.XPATH, xpath)\n",
    "        owners = owners.text\n",
    "        owners = owners.split()\n",
    "        return int(owners[0])\n",
    "    except:\n",
    "        owners = np.NaN\n",
    "        return owners\n",
    "    finally:\n",
    "        time.sleep(random.randint(1, 3))\n",
    "        "
   ]
  },
  {
   "cell_type": "markdown",
   "id": "8cec73ab",
   "metadata": {},
   "source": [
    "### Парсинг цены автомобиля "
   ]
  },
  {
   "cell_type": "code",
   "execution_count": 88,
   "id": "875d3c29",
   "metadata": {},
   "outputs": [],
   "source": [
    "def parsing_price(browser):\n",
    "    xpath = '/html/body/div[2]/div[4]/div[1]/div[1]/div[2]/div[2]/div[1]/div[1]'\n",
    "    price = browser.find_element(By.XPATH, xpath)\n",
    "    price = price.text\n",
    "    price = price.split()[:-1]\n",
    "    price = int(''.join(price))\n",
    "    time.sleep(random.randint(1, 3))\n",
    "    return price"
   ]
  },
  {
   "cell_type": "markdown",
   "id": "69fe8f9e",
   "metadata": {},
   "source": [
    "### Заполняем марку модель и год автомобиля"
   ]
  },
  {
   "cell_type": "code",
   "execution_count": 89,
   "id": "944239d5",
   "metadata": {},
   "outputs": [],
   "source": [
    "def change_model(model, auto):\n",
    "    model = model.split()\n",
    "    auto.append(model[0])\n",
    "    auto.append(' '.join(model[1:-1])[:-1])\n",
    "    auto.append(model[-1])"
   ]
  },
  {
   "cell_type": "markdown",
   "id": "699e3a51",
   "metadata": {},
   "source": [
    "### Заполняем остальные характеристики автомобиля"
   ]
  },
  {
   "cell_type": "code",
   "execution_count": 158,
   "id": "f054e3fb",
   "metadata": {},
   "outputs": [],
   "source": [
    "def change_characteristic(characteristic, auto):\n",
    "    describe = ['Двигатель', 'Мощность', 'Коробка передач', 'Привод', 'Цвет', 'Пробег, км', 'Поколение']\n",
    "    characteristic = characteristic.split('\\n')\n",
    "    for i in range(len(describe)):\n",
    "        for j in range(len(characteristic)):\n",
    "            if describe[i] in characteristic[j]:\n",
    "                ch = characteristic[j].split()\n",
    "                if i == 0:\n",
    "                    if ch[1] == 'бензин,' or ch[1] == 'дизель,':\n",
    "                        auto.append(ch[1][:-1])\n",
    "                        auto.append(float(ch[2]))\n",
    "                    else:\n",
    "                        auto.append('электро')\n",
    "                        auto.append(np.NaN)                      \n",
    "                elif i == 1:\n",
    "                    ch = ch[len(describe[i].split()):2]\n",
    "                    auto.append(' '.join(ch))\n",
    "                elif i == 5:\n",
    "                    if ch[-1] == 'РФ':\n",
    "                        ch = ch[:-4]\n",
    "                        ch = ch[len(describe[i].split()):]\n",
    "                        auto.append(int(''.join(ch)[:-1]))\n",
    "                    elif ch[2] == 'новый':\n",
    "                        auto.append(0)\n",
    "                    else:\n",
    "                        ch = ch[len(describe[i].split()):]\n",
    "                        auto.append(int(''.join(ch))) \n",
    "                else:\n",
    "                    ch = ch[len(describe[i].split()):]\n",
    "                    auto.append(' '.join(ch))\n",
    "                break\n",
    "            elif j == (len(characteristic) - 1):\n",
    "                if i == 0:\n",
    "                    auto.append(np.NaN)\n",
    "                    auto.append(np.NaN)\n",
    "                else:\n",
    "                    auto.append(np.NaN)"
   ]
  },
  {
   "cell_type": "markdown",
   "id": "189bf4e3",
   "metadata": {},
   "source": [
    "### Парсинг одного автомобиля "
   ]
  },
  {
   "cell_type": "code",
   "execution_count": 91,
   "id": "9fc694ab",
   "metadata": {},
   "outputs": [],
   "source": [
    "def parsing_auto(browser, num, page):\n",
    "    auto = []\n",
    "    model = parsing_model(browser, num, page) # парсим марку, модель и год выпуска\n",
    "    change_model(model, auto) # заполняем список\n",
    "    auto.append(parsing_city(browser, num, page)) # парсим город продажи и добавляем в список\n",
    "    click_auto_page(browser, num, page) # кликаем на страницу с автомобилем\n",
    "    characteristic = parsing_characteristic(browser) # парсим характеристики \n",
    "    change_characteristic(characteristic, auto) # заполняем список\n",
    "    auto.append(parsing_number_of_owners(browser)) # парсим количество владельцев\n",
    "    auto.append(parsing_price(browser)) # парсим цену\n",
    "    browser.back() # переходим обратно на страницу с автомобилями \n",
    "    return auto "
   ]
  },
  {
   "cell_type": "markdown",
   "id": "5d6ca656",
   "metadata": {},
   "source": [
    "### Парсим всю страницу "
   ]
  },
  {
   "cell_type": "code",
   "execution_count": 208,
   "id": "1a29911d",
   "metadata": {},
   "outputs": [],
   "source": [
    "def parsing_page(browser, page, cars):\n",
    "    # проходимся циклом по всем автомобилям на странице \n",
    "    for i in tqdm.trange(1, 21):\n",
    "        cars.append(parsing_auto(browser, i, page))\n",
    "    print('Парсинг страницы завершен')\n",
    "            "
   ]
  },
  {
   "cell_type": "code",
   "execution_count": 105,
   "id": "54e8f4e3",
   "metadata": {},
   "outputs": [],
   "source": [
    "# cars = []"
   ]
  },
  {
   "cell_type": "markdown",
   "id": "77259815",
   "metadata": {},
   "source": [
    "### Парсим drom.ru"
   ]
  },
  {
   "cell_type": "code",
   "execution_count": 211,
   "id": "73b135f3",
   "metadata": {},
   "outputs": [
    {
     "name": "stderr",
     "output_type": "stream",
     "text": [
      "100%|███████████████████████████████████████████| 20/20 [04:16<00:00, 12.84s/it]\n"
     ]
    },
    {
     "name": "stdout",
     "output_type": "stream",
     "text": [
      "Парсинг страницы завершен\n"
     ]
    },
    {
     "name": "stderr",
     "output_type": "stream",
     "text": [
      "100%|███████████████████████████████████████████| 20/20 [03:56<00:00, 11.80s/it]\n"
     ]
    },
    {
     "name": "stdout",
     "output_type": "stream",
     "text": [
      "Парсинг страницы завершен\n"
     ]
    },
    {
     "name": "stderr",
     "output_type": "stream",
     "text": [
      "100%|███████████████████████████████████████████| 20/20 [04:24<00:00, 13.22s/it]\n"
     ]
    },
    {
     "name": "stdout",
     "output_type": "stream",
     "text": [
      "Парсинг страницы завершен\n"
     ]
    },
    {
     "name": "stderr",
     "output_type": "stream",
     "text": [
      " 45%|███████████████████▊                        | 9/20 [01:57<02:23, 13.01s/it]\n"
     ]
    },
    {
     "name": "stdout",
     "output_type": "stream",
     "text": [
      "Message: no such element: Unable to locate element: {\"method\":\"xpath\",\"selector\":\"/html/body/div[2]/div[4]/div[1]/div[1]/div[2]/div[2]/div[2]\"}\n",
      "  (Session info: chrome=111.0.5563.64)\n",
      "Stacktrace:\n",
      "0   chromedriver                        0x0000000102b5d1c0 chromedriver + 4248000\n",
      "1   chromedriver                        0x0000000102adddc0 chromedriver + 3726784\n",
      "2   chromedriver                        0x0000000102792ec4 chromedriver + 274116\n",
      "3   chromedriver                        0x00000001027cebe4 chromedriver + 519140\n",
      "4   chromedriver                        0x000000010280a054 chromedriver + 761940\n",
      "5   chromedriver                        0x00000001027c1200 chromedriver + 463360\n",
      "6   chromedriver                        0x00000001027c2318 chromedriver + 467736\n",
      "7   chromedriver                        0x0000000102b2b060 chromedriver + 4042848\n",
      "8   chromedriver                        0x0000000102b2f8a4 chromedriver + 4061348\n",
      "9   chromedriver                        0x0000000102b373d0 chromedriver + 4092880\n",
      "10  chromedriver                        0x0000000102b306e4 chromedriver + 4064996\n",
      "11  chromedriver                        0x0000000102b060fc chromedriver + 3891452\n",
      "12  chromedriver                        0x0000000102b50a64 chromedriver + 4196964\n",
      "13  chromedriver                        0x0000000102b50bb8 chromedriver + 4197304\n",
      "14  chromedriver                        0x0000000102b64650 chromedriver + 4277840\n",
      "15  libsystem_pthread.dylib             0x0000000184eb826c _pthread_start + 148\n",
      "16  libsystem_pthread.dylib             0x0000000184eb308c thread_start + 8\n",
      "\n"
     ]
    }
   ],
   "source": [
    "browser = webdriver.Chrome()\n",
    "browser.get('https://auto.drom.ru/porsche/all/page70/?unsold=1')\n",
    "try:\n",
    "    for i in range(2, 8):\n",
    "        parsing_page(browser, \"4\", cars)\n",
    "        new_page_click(browser, i)\n",
    "except Exception as ex:\n",
    "    print(ex)\n",
    "finally:\n",
    "    browser.close()\n",
    "    browser.quit()\n",
    "    "
   ]
  },
  {
   "cell_type": "code",
   "execution_count": null,
   "id": "51b09f53",
   "metadata": {},
   "outputs": [],
   "source": [
    "# Иногда может возникать ошибка, что на странице нет какого-либо xpath, поэтому парсим \n",
    "# остаток страницы, пропуская автомобиль на котормо возникла ошибка"
   ]
  },
  {
   "cell_type": "code",
   "execution_count": 169,
   "id": "e4d67832",
   "metadata": {},
   "outputs": [],
   "source": [
    "browser = webdriver.Chrome()\n",
    "browser.get('https://auto.drom.ru/porsche/all/page34/?unsold=1')\n",
    "try:\n",
    "    for i in range(6, 21):\n",
    "        cars.append(parsing_auto(browser, i, \"4\"))\n",
    "except Exception as ex:\n",
    "    print(ex)\n",
    "finally:\n",
    "    browser.close()\n",
    "    browser.quit()"
   ]
  },
  {
   "cell_type": "markdown",
   "id": "e5109ac9",
   "metadata": {},
   "source": [
    "### Создаем датафрейм с нашими автомобилями "
   ]
  },
  {
   "cell_type": "code",
   "execution_count": 216,
   "id": "d0077d17",
   "metadata": {},
   "outputs": [
    {
     "data": {
      "text/html": [
       "<div>\n",
       "<style scoped>\n",
       "    .dataframe tbody tr th:only-of-type {\n",
       "        vertical-align: middle;\n",
       "    }\n",
       "\n",
       "    .dataframe tbody tr th {\n",
       "        vertical-align: top;\n",
       "    }\n",
       "\n",
       "    .dataframe thead th {\n",
       "        text-align: right;\n",
       "    }\n",
       "</style>\n",
       "<table border=\"1\" class=\"dataframe\">\n",
       "  <thead>\n",
       "    <tr style=\"text-align: right;\">\n",
       "      <th></th>\n",
       "      <th>Марка</th>\n",
       "      <th>Модель</th>\n",
       "      <th>Год выпуска</th>\n",
       "      <th>Город продажи</th>\n",
       "      <th>Тип топлива</th>\n",
       "      <th>Объем двигателя, л.</th>\n",
       "      <th>Мощность, л.с.</th>\n",
       "      <th>Коробка передач</th>\n",
       "      <th>Привод</th>\n",
       "      <th>Цвет</th>\n",
       "      <th>Пробег, км</th>\n",
       "      <th>Поколение</th>\n",
       "      <th>Количество регистраций</th>\n",
       "      <th>Цена, руб.</th>\n",
       "    </tr>\n",
       "  </thead>\n",
       "  <tbody>\n",
       "    <tr>\n",
       "      <th>0</th>\n",
       "      <td>Porsche</td>\n",
       "      <td>Macan</td>\n",
       "      <td>2014</td>\n",
       "      <td>Симферополь</td>\n",
       "      <td>бензин</td>\n",
       "      <td>3.6</td>\n",
       "      <td>400</td>\n",
       "      <td>робот</td>\n",
       "      <td>4WD</td>\n",
       "      <td>серый</td>\n",
       "      <td>87000.0</td>\n",
       "      <td>1 поколение</td>\n",
       "      <td>1.0</td>\n",
       "      <td>3800000</td>\n",
       "    </tr>\n",
       "    <tr>\n",
       "      <th>1</th>\n",
       "      <td>Porsche</td>\n",
       "      <td>Cayenne</td>\n",
       "      <td>2019</td>\n",
       "      <td>Екатеринбург</td>\n",
       "      <td>бензин</td>\n",
       "      <td>3.0</td>\n",
       "      <td>340</td>\n",
       "      <td>АКПП</td>\n",
       "      <td>4WD</td>\n",
       "      <td>коричневый</td>\n",
       "      <td>101156.0</td>\n",
       "      <td>3 поколение</td>\n",
       "      <td>3.0</td>\n",
       "      <td>6399000</td>\n",
       "    </tr>\n",
       "    <tr>\n",
       "      <th>2</th>\n",
       "      <td>Porsche</td>\n",
       "      <td>Panamera</td>\n",
       "      <td>2015</td>\n",
       "      <td>Красноярск</td>\n",
       "      <td>бензин</td>\n",
       "      <td>3.6</td>\n",
       "      <td>310</td>\n",
       "      <td>робот</td>\n",
       "      <td>4WD</td>\n",
       "      <td>белый</td>\n",
       "      <td>61000.0</td>\n",
       "      <td>1 поколение, рестайлинг</td>\n",
       "      <td>5.0</td>\n",
       "      <td>4290000</td>\n",
       "    </tr>\n",
       "    <tr>\n",
       "      <th>3</th>\n",
       "      <td>Porsche</td>\n",
       "      <td>Cayenne</td>\n",
       "      <td>2007</td>\n",
       "      <td>Томск</td>\n",
       "      <td>бензин</td>\n",
       "      <td>4.8</td>\n",
       "      <td>385</td>\n",
       "      <td>АКПП</td>\n",
       "      <td>4WD</td>\n",
       "      <td>черный</td>\n",
       "      <td>265000.0</td>\n",
       "      <td>1 поколение, рестайлинг</td>\n",
       "      <td>4.0</td>\n",
       "      <td>825000</td>\n",
       "    </tr>\n",
       "    <tr>\n",
       "      <th>4</th>\n",
       "      <td>Porsche</td>\n",
       "      <td>Cayenne</td>\n",
       "      <td>2022</td>\n",
       "      <td>Москва</td>\n",
       "      <td>бензин</td>\n",
       "      <td>3.0</td>\n",
       "      <td>340</td>\n",
       "      <td>АКПП</td>\n",
       "      <td>4WD</td>\n",
       "      <td>черный</td>\n",
       "      <td>0.0</td>\n",
       "      <td>3 поколение</td>\n",
       "      <td>NaN</td>\n",
       "      <td>12900000</td>\n",
       "    </tr>\n",
       "    <tr>\n",
       "      <th>...</th>\n",
       "      <td>...</td>\n",
       "      <td>...</td>\n",
       "      <td>...</td>\n",
       "      <td>...</td>\n",
       "      <td>...</td>\n",
       "      <td>...</td>\n",
       "      <td>...</td>\n",
       "      <td>...</td>\n",
       "      <td>...</td>\n",
       "      <td>...</td>\n",
       "      <td>...</td>\n",
       "      <td>...</td>\n",
       "      <td>...</td>\n",
       "      <td>...</td>\n",
       "    </tr>\n",
       "    <tr>\n",
       "      <th>1344</th>\n",
       "      <td>Porsche</td>\n",
       "      <td>Cayenne</td>\n",
       "      <td>2015</td>\n",
       "      <td>Новосибирск</td>\n",
       "      <td>дизель</td>\n",
       "      <td>3.0</td>\n",
       "      <td>245</td>\n",
       "      <td>АКПП</td>\n",
       "      <td>4WD</td>\n",
       "      <td>черный</td>\n",
       "      <td>98000.0</td>\n",
       "      <td>2 поколение, рестайлинг</td>\n",
       "      <td>5.0</td>\n",
       "      <td>4100000</td>\n",
       "    </tr>\n",
       "    <tr>\n",
       "      <th>1345</th>\n",
       "      <td>Porsche</td>\n",
       "      <td>Cayenne</td>\n",
       "      <td>2006</td>\n",
       "      <td>Курган</td>\n",
       "      <td>бензин</td>\n",
       "      <td>4.5</td>\n",
       "      <td>340</td>\n",
       "      <td>АКПП</td>\n",
       "      <td>4WD</td>\n",
       "      <td>черный</td>\n",
       "      <td>250000.0</td>\n",
       "      <td>1 поколение</td>\n",
       "      <td>8.0</td>\n",
       "      <td>900000</td>\n",
       "    </tr>\n",
       "    <tr>\n",
       "      <th>1346</th>\n",
       "      <td>Porsche</td>\n",
       "      <td>Cayenne Coupe</td>\n",
       "      <td>2022</td>\n",
       "      <td>Санкт-Петербург</td>\n",
       "      <td>бензин</td>\n",
       "      <td>3.0</td>\n",
       "      <td>340</td>\n",
       "      <td>АКПП</td>\n",
       "      <td>4WD</td>\n",
       "      <td>белый</td>\n",
       "      <td>9785.0</td>\n",
       "      <td>1 поколение</td>\n",
       "      <td>1.0</td>\n",
       "      <td>12550000</td>\n",
       "    </tr>\n",
       "    <tr>\n",
       "      <th>1347</th>\n",
       "      <td>Porsche</td>\n",
       "      <td>Cayenne</td>\n",
       "      <td>2011</td>\n",
       "      <td>Казань</td>\n",
       "      <td>бензин</td>\n",
       "      <td>4.8</td>\n",
       "      <td>400</td>\n",
       "      <td>АКПП</td>\n",
       "      <td>4WD</td>\n",
       "      <td>белый</td>\n",
       "      <td>182000.0</td>\n",
       "      <td>2 поколение</td>\n",
       "      <td>9.0</td>\n",
       "      <td>2450000</td>\n",
       "    </tr>\n",
       "    <tr>\n",
       "      <th>1348</th>\n",
       "      <td>Porsche</td>\n",
       "      <td>Cayenne</td>\n",
       "      <td>2022</td>\n",
       "      <td>Москва</td>\n",
       "      <td>бензин</td>\n",
       "      <td>3.0</td>\n",
       "      <td>340</td>\n",
       "      <td>АКПП</td>\n",
       "      <td>4WD</td>\n",
       "      <td>коричневый</td>\n",
       "      <td>20.0</td>\n",
       "      <td>3 поколение</td>\n",
       "      <td>1.0</td>\n",
       "      <td>13090650</td>\n",
       "    </tr>\n",
       "  </tbody>\n",
       "</table>\n",
       "<p>1349 rows × 14 columns</p>\n",
       "</div>"
      ],
      "text/plain": [
       "        Марка         Модель Год выпуска    Город продажи Тип топлива  \\\n",
       "0     Porsche          Macan        2014      Симферополь      бензин   \n",
       "1     Porsche        Cayenne        2019     Екатеринбург      бензин   \n",
       "2     Porsche       Panamera        2015       Красноярск      бензин   \n",
       "3     Porsche        Cayenne        2007            Томск      бензин   \n",
       "4     Porsche        Cayenne        2022           Москва      бензин   \n",
       "...       ...            ...         ...              ...         ...   \n",
       "1344  Porsche        Cayenne        2015      Новосибирск      дизель   \n",
       "1345  Porsche        Cayenne        2006           Курган      бензин   \n",
       "1346  Porsche  Cayenne Coupe        2022  Санкт-Петербург      бензин   \n",
       "1347  Porsche        Cayenne        2011           Казань      бензин   \n",
       "1348  Porsche        Cayenne        2022           Москва      бензин   \n",
       "\n",
       "      Объем двигателя, л. Мощность, л.с. Коробка передач Привод        Цвет  \\\n",
       "0                     3.6            400           робот    4WD       серый   \n",
       "1                     3.0            340            АКПП    4WD  коричневый   \n",
       "2                     3.6            310           робот    4WD       белый   \n",
       "3                     4.8            385            АКПП    4WD      черный   \n",
       "4                     3.0            340            АКПП    4WD      черный   \n",
       "...                   ...            ...             ...    ...         ...   \n",
       "1344                  3.0            245            АКПП    4WD      черный   \n",
       "1345                  4.5            340            АКПП    4WD      черный   \n",
       "1346                  3.0            340            АКПП    4WD       белый   \n",
       "1347                  4.8            400            АКПП    4WD       белый   \n",
       "1348                  3.0            340            АКПП    4WD  коричневый   \n",
       "\n",
       "      Пробег, км                Поколение  Количество регистраций  Цена, руб.  \n",
       "0        87000.0              1 поколение                     1.0     3800000  \n",
       "1       101156.0              3 поколение                     3.0     6399000  \n",
       "2        61000.0  1 поколение, рестайлинг                     5.0     4290000  \n",
       "3       265000.0  1 поколение, рестайлинг                     4.0      825000  \n",
       "4            0.0              3 поколение                     NaN    12900000  \n",
       "...          ...                      ...                     ...         ...  \n",
       "1344     98000.0  2 поколение, рестайлинг                     5.0     4100000  \n",
       "1345    250000.0              1 поколение                     8.0      900000  \n",
       "1346      9785.0              1 поколение                     1.0    12550000  \n",
       "1347    182000.0              2 поколение                     9.0     2450000  \n",
       "1348        20.0              3 поколение                     1.0    13090650  \n",
       "\n",
       "[1349 rows x 14 columns]"
      ]
     },
     "execution_count": 216,
     "metadata": {},
     "output_type": "execute_result"
    }
   ],
   "source": [
    "df = pd.DataFrame(cars, columns = [\"Марка\", \"Модель\", \"Год выпуска\", \"Город продажи\",\n",
    "                                   \"Тип топлива\", \"Объем двигателя, л.\", \"Мощность, л.с.\",\n",
    "                                  \"Коробка передач\", \"Привод\", \"Цвет\", \"Пробег, км\",\n",
    "                                  \"Поколение\", \"Количество регистраций\", \"Цена, руб.\"])\n",
    "df"
   ]
  },
  {
   "cell_type": "code",
   "execution_count": 225,
   "id": "ed07bffd",
   "metadata": {},
   "outputs": [
    {
     "name": "stdout",
     "output_type": "stream",
     "text": [
      "\n",
      "New Datatypes\n",
      "Марка                      object\n",
      "Модель                     object\n",
      "Год выпуска                object\n",
      "Город продажи              object\n",
      "Тип топлива                object\n",
      "Объем двигателя, л.       float64\n",
      "Мощность, л.с.            float64\n",
      "Коробка передач            object\n",
      "Привод                     object\n",
      "Цвет                       object\n",
      "Пробег, км                float64\n",
      "Поколение                  object\n",
      "Количество регистраций    float64\n",
      "Цена, руб.                  int64\n",
      "dtype: object\n"
     ]
    }
   ],
   "source": [
    "# Смотрим на типы данных\n",
    "print('\\nDatatypes\\n', df.dtypes, sep='') "
   ]
  },
  {
   "cell_type": "code",
   "execution_count": 218,
   "id": "d12c1dd7",
   "metadata": {},
   "outputs": [
    {
     "name": "stderr",
     "output_type": "stream",
     "text": [
      "/var/folders/wz/kqzvl9px41n81rstm2_n0c_00000gn/T/ipykernel_41196/2601196054.py:1: DeprecationWarning: `np.float` is a deprecated alias for the builtin `float`. To silence this warning, use `float` by itself. Doing this will not modify any behavior and is safe. If you specifically wanted the numpy scalar type, use `np.float64` here.\n",
      "Deprecated in NumPy 1.20; for more details and guidance: https://numpy.org/devdocs/release/1.20.0-notes.html#deprecations\n",
      "  df = df.astype({'Мощность, л.с.': np.float})\n"
     ]
    }
   ],
   "source": [
    "# Изменяем на целочисленный тип данных 'Мощность, л.с.'\n",
    "df = df.astype({'Мощность, л.с.': np.float})"
   ]
  },
  {
   "cell_type": "markdown",
   "id": "8497d323",
   "metadata": {},
   "source": [
    "### Удаляем дубликаты "
   ]
  },
  {
   "cell_type": "code",
   "execution_count": 227,
   "id": "22b5a6d5",
   "metadata": {},
   "outputs": [
    {
     "name": "stdout",
     "output_type": "stream",
     "text": [
      "1349\n",
      "1295\n"
     ]
    }
   ],
   "source": [
    "print(len(df)) \n",
    "df = df.drop_duplicates() \n",
    "print(len(df))"
   ]
  },
  {
   "cell_type": "code",
   "execution_count": 229,
   "id": "973e83e1",
   "metadata": {},
   "outputs": [],
   "source": [
    "df.to_csv('porsche_cars.csv') # Сохраянем датафрейм в .csv"
   ]
  }
 ],
 "metadata": {
  "kernelspec": {
   "display_name": "Python 3 (ipykernel)",
   "language": "python",
   "name": "python3"
  },
  "language_info": {
   "codemirror_mode": {
    "name": "ipython",
    "version": 3
   },
   "file_extension": ".py",
   "mimetype": "text/x-python",
   "name": "python",
   "nbconvert_exporter": "python",
   "pygments_lexer": "ipython3",
   "version": "3.9.12"
  }
 },
 "nbformat": 4,
 "nbformat_minor": 5
}
