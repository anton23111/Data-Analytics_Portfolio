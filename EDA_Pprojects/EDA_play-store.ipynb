{
 "cells": [
  {
   "cell_type": "code",
   "execution_count": 107,
   "id": "493edd3c",
   "metadata": {
    "execution": {
     "iopub.execute_input": "2022-11-21T18:29:53.763573Z",
     "iopub.status.busy": "2022-11-21T18:29:53.762824Z",
     "iopub.status.idle": "2022-11-21T18:29:54.708523Z",
     "shell.execute_reply": "2022-11-21T18:29:54.707788Z"
    },
    "id": "UTSSmY-sPVi0",
    "papermill": {
     "duration": 0.976269,
     "end_time": "2022-11-21T18:29:54.710730",
     "exception": false,
     "start_time": "2022-11-21T18:29:53.734461",
     "status": "completed"
    },
    "tags": []
   },
   "outputs": [],
   "source": [
    "\n",
    "import pandas as pd\n",
    "import numpy as np\n",
    "import seaborn as sns\n",
    "import matplotlib.pyplot as plt\n",
    "%matplotlib inline\n",
    "import plotly\n",
    "import plotly.graph_objects as go\n",
    "import warnings\n",
    "warnings.filterwarnings(\"ignore\", category=FutureWarning)"
   ]
  },
  {
   "cell_type": "code",
   "execution_count": 108,
   "id": "9ff80e10",
   "metadata": {
    "execution": {
     "iopub.execute_input": "2022-11-21T18:29:54.771503Z",
     "iopub.status.busy": "2022-11-21T18:29:54.771159Z",
     "iopub.status.idle": "2022-11-21T18:29:54.775078Z",
     "shell.execute_reply": "2022-11-21T18:29:54.774225Z"
    },
    "id": "RQ3ojRIcPYiN",
    "papermill": {
     "duration": 0.039175,
     "end_time": "2022-11-21T18:29:54.776761",
     "exception": false,
     "start_time": "2022-11-21T18:29:54.737586",
     "status": "completed"
    },
    "tags": []
   },
   "outputs": [],
   "source": [
    "# путь к датасету\n",
    "path=r\"C:\\Users\\Anton-Notebook\\Downloads\\googleplaystore.csv\""
   ]
  },
  {
   "cell_type": "code",
   "execution_count": 109,
   "id": "f6fcb120",
   "metadata": {
    "execution": {
     "iopub.execute_input": "2022-11-21T18:29:54.830104Z",
     "iopub.status.busy": "2022-11-21T18:29:54.829741Z",
     "iopub.status.idle": "2022-11-21T18:29:54.905736Z",
     "shell.execute_reply": "2022-11-21T18:29:54.904988Z"
    },
    "id": "TNuhBge_PeRD",
    "papermill": {
     "duration": 0.105218,
     "end_time": "2022-11-21T18:29:54.907792",
     "exception": false,
     "start_time": "2022-11-21T18:29:54.802574",
     "status": "completed"
    },
    "tags": []
   },
   "outputs": [],
   "source": [
    "# считываем данные\n",
    "df=pd.read_csv(path)"
   ]
  },
  {
   "cell_type": "markdown",
   "id": "0aba908f",
   "metadata": {
    "id": "xphQhaKzo6TC",
    "papermill": {
     "duration": 0.025542,
     "end_time": "2022-11-21T18:29:54.959314",
     "exception": false,
     "start_time": "2022-11-21T18:29:54.933772",
     "status": "completed"
    },
    "tags": []
   },
   "source": [
    "# Знакомство с данными\n",
    "\n",
    "\n",
    "\n",
    "\n",
    "\n",
    "\n",
    "\n"
   ]
  },
  {
   "cell_type": "code",
   "execution_count": 110,
   "id": "557d67ee",
   "metadata": {
    "execution": {
     "iopub.execute_input": "2022-11-21T18:29:55.012789Z",
     "iopub.status.busy": "2022-11-21T18:29:55.012446Z",
     "iopub.status.idle": "2022-11-21T18:29:55.040579Z",
     "shell.execute_reply": "2022-11-21T18:29:55.039465Z"
    },
    "id": "ouLY0cDfPkJU",
    "outputId": "f53fbd46-a54f-4df4-f6b4-25d25055ba91",
    "papermill": {
     "duration": 0.057804,
     "end_time": "2022-11-21T18:29:55.042999",
     "exception": false,
     "start_time": "2022-11-21T18:29:54.985195",
     "status": "completed"
    },
    "tags": []
   },
   "outputs": [
    {
     "data": {
      "text/html": [
       "<div>\n",
       "<style scoped>\n",
       "    .dataframe tbody tr th:only-of-type {\n",
       "        vertical-align: middle;\n",
       "    }\n",
       "\n",
       "    .dataframe tbody tr th {\n",
       "        vertical-align: top;\n",
       "    }\n",
       "\n",
       "    .dataframe thead th {\n",
       "        text-align: right;\n",
       "    }\n",
       "</style>\n",
       "<table border=\"1\" class=\"dataframe\">\n",
       "  <thead>\n",
       "    <tr style=\"text-align: right;\">\n",
       "      <th></th>\n",
       "      <th>App</th>\n",
       "      <th>Category</th>\n",
       "      <th>Rating</th>\n",
       "      <th>Reviews</th>\n",
       "      <th>Size</th>\n",
       "      <th>Installs</th>\n",
       "      <th>Type</th>\n",
       "      <th>Price</th>\n",
       "      <th>Content Rating</th>\n",
       "      <th>Genres</th>\n",
       "      <th>Last Updated</th>\n",
       "      <th>Current Ver</th>\n",
       "      <th>Android Ver</th>\n",
       "    </tr>\n",
       "  </thead>\n",
       "  <tbody>\n",
       "    <tr>\n",
       "      <th>0</th>\n",
       "      <td>Photo Editor &amp; Candy Camera &amp; Grid &amp; ScrapBook</td>\n",
       "      <td>ART_AND_DESIGN</td>\n",
       "      <td>4.1</td>\n",
       "      <td>159</td>\n",
       "      <td>19M</td>\n",
       "      <td>10,000+</td>\n",
       "      <td>Free</td>\n",
       "      <td>0</td>\n",
       "      <td>Everyone</td>\n",
       "      <td>Art &amp; Design</td>\n",
       "      <td>January 7, 2018</td>\n",
       "      <td>1.0.0</td>\n",
       "      <td>4.0.3 and up</td>\n",
       "    </tr>\n",
       "    <tr>\n",
       "      <th>1</th>\n",
       "      <td>Coloring book moana</td>\n",
       "      <td>ART_AND_DESIGN</td>\n",
       "      <td>3.9</td>\n",
       "      <td>967</td>\n",
       "      <td>14M</td>\n",
       "      <td>500,000+</td>\n",
       "      <td>Free</td>\n",
       "      <td>0</td>\n",
       "      <td>Everyone</td>\n",
       "      <td>Art &amp; Design;Pretend Play</td>\n",
       "      <td>January 15, 2018</td>\n",
       "      <td>2.0.0</td>\n",
       "      <td>4.0.3 and up</td>\n",
       "    </tr>\n",
       "    <tr>\n",
       "      <th>2</th>\n",
       "      <td>U Launcher Lite – FREE Live Cool Themes, Hide ...</td>\n",
       "      <td>ART_AND_DESIGN</td>\n",
       "      <td>4.7</td>\n",
       "      <td>87510</td>\n",
       "      <td>8.7M</td>\n",
       "      <td>5,000,000+</td>\n",
       "      <td>Free</td>\n",
       "      <td>0</td>\n",
       "      <td>Everyone</td>\n",
       "      <td>Art &amp; Design</td>\n",
       "      <td>August 1, 2018</td>\n",
       "      <td>1.2.4</td>\n",
       "      <td>4.0.3 and up</td>\n",
       "    </tr>\n",
       "    <tr>\n",
       "      <th>3</th>\n",
       "      <td>Sketch - Draw &amp; Paint</td>\n",
       "      <td>ART_AND_DESIGN</td>\n",
       "      <td>4.5</td>\n",
       "      <td>215644</td>\n",
       "      <td>25M</td>\n",
       "      <td>50,000,000+</td>\n",
       "      <td>Free</td>\n",
       "      <td>0</td>\n",
       "      <td>Teen</td>\n",
       "      <td>Art &amp; Design</td>\n",
       "      <td>June 8, 2018</td>\n",
       "      <td>Varies with device</td>\n",
       "      <td>4.2 and up</td>\n",
       "    </tr>\n",
       "    <tr>\n",
       "      <th>4</th>\n",
       "      <td>Pixel Draw - Number Art Coloring Book</td>\n",
       "      <td>ART_AND_DESIGN</td>\n",
       "      <td>4.3</td>\n",
       "      <td>967</td>\n",
       "      <td>2.8M</td>\n",
       "      <td>100,000+</td>\n",
       "      <td>Free</td>\n",
       "      <td>0</td>\n",
       "      <td>Everyone</td>\n",
       "      <td>Art &amp; Design;Creativity</td>\n",
       "      <td>June 20, 2018</td>\n",
       "      <td>1.1</td>\n",
       "      <td>4.4 and up</td>\n",
       "    </tr>\n",
       "  </tbody>\n",
       "</table>\n",
       "</div>"
      ],
      "text/plain": [
       "                                                 App        Category  Rating  \\\n",
       "0     Photo Editor & Candy Camera & Grid & ScrapBook  ART_AND_DESIGN     4.1   \n",
       "1                                Coloring book moana  ART_AND_DESIGN     3.9   \n",
       "2  U Launcher Lite – FREE Live Cool Themes, Hide ...  ART_AND_DESIGN     4.7   \n",
       "3                              Sketch - Draw & Paint  ART_AND_DESIGN     4.5   \n",
       "4              Pixel Draw - Number Art Coloring Book  ART_AND_DESIGN     4.3   \n",
       "\n",
       "  Reviews  Size     Installs  Type Price Content Rating  \\\n",
       "0     159   19M      10,000+  Free     0       Everyone   \n",
       "1     967   14M     500,000+  Free     0       Everyone   \n",
       "2   87510  8.7M   5,000,000+  Free     0       Everyone   \n",
       "3  215644   25M  50,000,000+  Free     0           Teen   \n",
       "4     967  2.8M     100,000+  Free     0       Everyone   \n",
       "\n",
       "                      Genres      Last Updated         Current Ver  \\\n",
       "0               Art & Design   January 7, 2018               1.0.0   \n",
       "1  Art & Design;Pretend Play  January 15, 2018               2.0.0   \n",
       "2               Art & Design    August 1, 2018               1.2.4   \n",
       "3               Art & Design      June 8, 2018  Varies with device   \n",
       "4    Art & Design;Creativity     June 20, 2018                 1.1   \n",
       "\n",
       "    Android Ver  \n",
       "0  4.0.3 and up  \n",
       "1  4.0.3 and up  \n",
       "2  4.0.3 and up  \n",
       "3    4.2 and up  \n",
       "4    4.4 and up  "
      ]
     },
     "execution_count": 110,
     "metadata": {},
     "output_type": "execute_result"
    }
   ],
   "source": [
    "# считаем первые 5 строк датасета\n",
    "df.head()"
   ]
  },
  {
   "cell_type": "code",
   "execution_count": 111,
   "id": "a928ce92",
   "metadata": {
    "execution": {
     "iopub.execute_input": "2022-11-21T18:29:55.097560Z",
     "iopub.status.busy": "2022-11-21T18:29:55.097060Z",
     "iopub.status.idle": "2022-11-21T18:29:55.111742Z",
     "shell.execute_reply": "2022-11-21T18:29:55.110893Z"
    },
    "id": "CMH2YyF8QML0",
    "outputId": "a8cd8577-c46e-4acd-8d53-74f05b350471",
    "papermill": {
     "duration": 0.043888,
     "end_time": "2022-11-21T18:29:55.113507",
     "exception": false,
     "start_time": "2022-11-21T18:29:55.069619",
     "status": "completed"
    },
    "tags": []
   },
   "outputs": [
    {
     "data": {
      "text/html": [
       "<div>\n",
       "<style scoped>\n",
       "    .dataframe tbody tr th:only-of-type {\n",
       "        vertical-align: middle;\n",
       "    }\n",
       "\n",
       "    .dataframe tbody tr th {\n",
       "        vertical-align: top;\n",
       "    }\n",
       "\n",
       "    .dataframe thead th {\n",
       "        text-align: right;\n",
       "    }\n",
       "</style>\n",
       "<table border=\"1\" class=\"dataframe\">\n",
       "  <thead>\n",
       "    <tr style=\"text-align: right;\">\n",
       "      <th></th>\n",
       "      <th>App</th>\n",
       "      <th>Category</th>\n",
       "      <th>Rating</th>\n",
       "      <th>Reviews</th>\n",
       "      <th>Size</th>\n",
       "      <th>Installs</th>\n",
       "      <th>Type</th>\n",
       "      <th>Price</th>\n",
       "      <th>Content Rating</th>\n",
       "      <th>Genres</th>\n",
       "      <th>Last Updated</th>\n",
       "      <th>Current Ver</th>\n",
       "      <th>Android Ver</th>\n",
       "    </tr>\n",
       "  </thead>\n",
       "  <tbody>\n",
       "    <tr>\n",
       "      <th>10836</th>\n",
       "      <td>Sya9a Maroc - FR</td>\n",
       "      <td>FAMILY</td>\n",
       "      <td>4.5</td>\n",
       "      <td>38</td>\n",
       "      <td>53M</td>\n",
       "      <td>5,000+</td>\n",
       "      <td>Free</td>\n",
       "      <td>0</td>\n",
       "      <td>Everyone</td>\n",
       "      <td>Education</td>\n",
       "      <td>July 25, 2017</td>\n",
       "      <td>1.48</td>\n",
       "      <td>4.1 and up</td>\n",
       "    </tr>\n",
       "    <tr>\n",
       "      <th>10837</th>\n",
       "      <td>Fr. Mike Schmitz Audio Teachings</td>\n",
       "      <td>FAMILY</td>\n",
       "      <td>5.0</td>\n",
       "      <td>4</td>\n",
       "      <td>3.6M</td>\n",
       "      <td>100+</td>\n",
       "      <td>Free</td>\n",
       "      <td>0</td>\n",
       "      <td>Everyone</td>\n",
       "      <td>Education</td>\n",
       "      <td>July 6, 2018</td>\n",
       "      <td>1.0</td>\n",
       "      <td>4.1 and up</td>\n",
       "    </tr>\n",
       "    <tr>\n",
       "      <th>10838</th>\n",
       "      <td>Parkinson Exercices FR</td>\n",
       "      <td>MEDICAL</td>\n",
       "      <td>NaN</td>\n",
       "      <td>3</td>\n",
       "      <td>9.5M</td>\n",
       "      <td>1,000+</td>\n",
       "      <td>Free</td>\n",
       "      <td>0</td>\n",
       "      <td>Everyone</td>\n",
       "      <td>Medical</td>\n",
       "      <td>January 20, 2017</td>\n",
       "      <td>1.0</td>\n",
       "      <td>2.2 and up</td>\n",
       "    </tr>\n",
       "    <tr>\n",
       "      <th>10839</th>\n",
       "      <td>The SCP Foundation DB fr nn5n</td>\n",
       "      <td>BOOKS_AND_REFERENCE</td>\n",
       "      <td>4.5</td>\n",
       "      <td>114</td>\n",
       "      <td>Varies with device</td>\n",
       "      <td>1,000+</td>\n",
       "      <td>Free</td>\n",
       "      <td>0</td>\n",
       "      <td>Mature 17+</td>\n",
       "      <td>Books &amp; Reference</td>\n",
       "      <td>January 19, 2015</td>\n",
       "      <td>Varies with device</td>\n",
       "      <td>Varies with device</td>\n",
       "    </tr>\n",
       "    <tr>\n",
       "      <th>10840</th>\n",
       "      <td>iHoroscope - 2018 Daily Horoscope &amp; Astrology</td>\n",
       "      <td>LIFESTYLE</td>\n",
       "      <td>4.5</td>\n",
       "      <td>398307</td>\n",
       "      <td>19M</td>\n",
       "      <td>10,000,000+</td>\n",
       "      <td>Free</td>\n",
       "      <td>0</td>\n",
       "      <td>Everyone</td>\n",
       "      <td>Lifestyle</td>\n",
       "      <td>July 25, 2018</td>\n",
       "      <td>Varies with device</td>\n",
       "      <td>Varies with device</td>\n",
       "    </tr>\n",
       "  </tbody>\n",
       "</table>\n",
       "</div>"
      ],
      "text/plain": [
       "                                                 App             Category  \\\n",
       "10836                               Sya9a Maroc - FR               FAMILY   \n",
       "10837               Fr. Mike Schmitz Audio Teachings               FAMILY   \n",
       "10838                         Parkinson Exercices FR              MEDICAL   \n",
       "10839                  The SCP Foundation DB fr nn5n  BOOKS_AND_REFERENCE   \n",
       "10840  iHoroscope - 2018 Daily Horoscope & Astrology            LIFESTYLE   \n",
       "\n",
       "       Rating Reviews                Size     Installs  Type Price  \\\n",
       "10836     4.5      38                 53M       5,000+  Free     0   \n",
       "10837     5.0       4                3.6M         100+  Free     0   \n",
       "10838     NaN       3                9.5M       1,000+  Free     0   \n",
       "10839     4.5     114  Varies with device       1,000+  Free     0   \n",
       "10840     4.5  398307                 19M  10,000,000+  Free     0   \n",
       "\n",
       "      Content Rating             Genres      Last Updated         Current Ver  \\\n",
       "10836       Everyone          Education     July 25, 2017                1.48   \n",
       "10837       Everyone          Education      July 6, 2018                 1.0   \n",
       "10838       Everyone            Medical  January 20, 2017                 1.0   \n",
       "10839     Mature 17+  Books & Reference  January 19, 2015  Varies with device   \n",
       "10840       Everyone          Lifestyle     July 25, 2018  Varies with device   \n",
       "\n",
       "              Android Ver  \n",
       "10836          4.1 and up  \n",
       "10837          4.1 and up  \n",
       "10838          2.2 and up  \n",
       "10839  Varies with device  \n",
       "10840  Varies with device  "
      ]
     },
     "execution_count": 111,
     "metadata": {},
     "output_type": "execute_result"
    }
   ],
   "source": [
    "# считаем последние 5 строк датасета\n",
    "df.tail()"
   ]
  },
  {
   "cell_type": "code",
   "execution_count": 112,
   "id": "f4e71d30",
   "metadata": {
    "execution": {
     "iopub.execute_input": "2022-11-21T18:29:55.168573Z",
     "iopub.status.busy": "2022-11-21T18:29:55.168061Z",
     "iopub.status.idle": "2022-11-21T18:29:55.197325Z",
     "shell.execute_reply": "2022-11-21T18:29:55.196386Z"
    },
    "id": "XMxkTtrxQN_y",
    "outputId": "fdbaa056-06ba-4af2-a408-fe7e9fb794af",
    "papermill": {
     "duration": 0.059067,
     "end_time": "2022-11-21T18:29:55.199203",
     "exception": false,
     "start_time": "2022-11-21T18:29:55.140136",
     "status": "completed"
    },
    "tags": []
   },
   "outputs": [
    {
     "name": "stdout",
     "output_type": "stream",
     "text": [
      "<class 'pandas.core.frame.DataFrame'>\n",
      "RangeIndex: 10841 entries, 0 to 10840\n",
      "Data columns (total 13 columns):\n",
      " #   Column          Non-Null Count  Dtype  \n",
      "---  ------          --------------  -----  \n",
      " 0   App             10841 non-null  object \n",
      " 1   Category        10841 non-null  object \n",
      " 2   Rating          9367 non-null   float64\n",
      " 3   Reviews         10841 non-null  object \n",
      " 4   Size            10841 non-null  object \n",
      " 5   Installs        10841 non-null  object \n",
      " 6   Type            10840 non-null  object \n",
      " 7   Price           10841 non-null  object \n",
      " 8   Content Rating  10840 non-null  object \n",
      " 9   Genres          10841 non-null  object \n",
      " 10  Last Updated    10841 non-null  object \n",
      " 11  Current Ver     10833 non-null  object \n",
      " 12  Android Ver     10838 non-null  object \n",
      "dtypes: float64(1), object(12)\n",
      "memory usage: 1.1+ MB\n"
     ]
    }
   ],
   "source": [
    "# основная информация о хранящихся данных\n",
    "df.info()"
   ]
  },
  {
   "cell_type": "code",
   "execution_count": 113,
   "id": "dda9a2ef",
   "metadata": {
    "execution": {
     "iopub.execute_input": "2022-11-21T18:29:55.254993Z",
     "iopub.status.busy": "2022-11-21T18:29:55.254241Z",
     "iopub.status.idle": "2022-11-21T18:29:55.259890Z",
     "shell.execute_reply": "2022-11-21T18:29:55.258603Z"
    },
    "id": "g_cc5DBrQQij",
    "outputId": "055d5fc3-aeb3-49ac-c6d0-3cbc43998838",
    "papermill": {
     "duration": 0.035775,
     "end_time": "2022-11-21T18:29:55.262010",
     "exception": false,
     "start_time": "2022-11-21T18:29:55.226235",
     "status": "completed"
    },
    "tags": []
   },
   "outputs": [
    {
     "data": {
      "text/plain": [
       "(10841, 13)"
      ]
     },
     "execution_count": 113,
     "metadata": {},
     "output_type": "execute_result"
    }
   ],
   "source": [
    "# размер датасета\n",
    "df.shape"
   ]
  },
  {
   "cell_type": "code",
   "execution_count": 114,
   "id": "6c5889b4",
   "metadata": {
    "execution": {
     "iopub.execute_input": "2022-11-21T18:29:55.317860Z",
     "iopub.status.busy": "2022-11-21T18:29:55.317517Z",
     "iopub.status.idle": "2022-11-21T18:29:55.323481Z",
     "shell.execute_reply": "2022-11-21T18:29:55.322430Z"
    },
    "id": "NJVIpo-OQU1N",
    "outputId": "015383bc-78d8-45bc-dfd2-01684a268fc3",
    "papermill": {
     "duration": 0.036147,
     "end_time": "2022-11-21T18:29:55.325322",
     "exception": false,
     "start_time": "2022-11-21T18:29:55.289175",
     "status": "completed"
    },
    "tags": []
   },
   "outputs": [
    {
     "data": {
      "text/plain": [
       "Index(['App', 'Category', 'Rating', 'Reviews', 'Size', 'Installs', 'Type',\n",
       "       'Price', 'Content Rating', 'Genres', 'Last Updated', 'Current Ver',\n",
       "       'Android Ver'],\n",
       "      dtype='object')"
      ]
     },
     "execution_count": 114,
     "metadata": {},
     "output_type": "execute_result"
    }
   ],
   "source": [
    "# имена колонок\n",
    "df.columns"
   ]
  },
  {
   "cell_type": "code",
   "execution_count": 115,
   "id": "24ef1c27",
   "metadata": {
    "execution": {
     "iopub.execute_input": "2022-11-21T18:29:55.381027Z",
     "iopub.status.busy": "2022-11-21T18:29:55.380708Z",
     "iopub.status.idle": "2022-11-21T18:29:55.388763Z",
     "shell.execute_reply": "2022-11-21T18:29:55.387956Z"
    },
    "id": "uIIIzakBLsC2",
    "outputId": "3b115e9e-9378-4051-8855-c1e2d8a82288",
    "papermill": {
     "duration": 0.038415,
     "end_time": "2022-11-21T18:29:55.390583",
     "exception": false,
     "start_time": "2022-11-21T18:29:55.352168",
     "status": "completed"
    },
    "tags": []
   },
   "outputs": [
    {
     "data": {
      "text/plain": [
       "9660"
      ]
     },
     "execution_count": 115,
     "metadata": {},
     "output_type": "execute_result"
    }
   ],
   "source": [
    "# количество уникальных колонок в столбце App\n",
    "df['App'].nunique()"
   ]
  },
  {
   "cell_type": "code",
   "execution_count": 116,
   "id": "3b10cc7e",
   "metadata": {
    "execution": {
     "iopub.execute_input": "2022-11-21T18:29:55.445900Z",
     "iopub.status.busy": "2022-11-21T18:29:55.445561Z",
     "iopub.status.idle": "2022-11-21T18:29:55.452151Z",
     "shell.execute_reply": "2022-11-21T18:29:55.451001Z"
    },
    "id": "Pzxs56Z5ADiu",
    "outputId": "1e7f7046-5518-4392-bdaa-1e99bf315030",
    "papermill": {
     "duration": 0.037495,
     "end_time": "2022-11-21T18:29:55.455103",
     "exception": false,
     "start_time": "2022-11-21T18:29:55.417608",
     "status": "completed"
    },
    "tags": []
   },
   "outputs": [
    {
     "data": {
      "text/plain": [
       "array(['ART_AND_DESIGN', 'AUTO_AND_VEHICLES', 'BEAUTY',\n",
       "       'BOOKS_AND_REFERENCE', 'BUSINESS', 'COMICS', 'COMMUNICATION',\n",
       "       'DATING', 'EDUCATION', 'ENTERTAINMENT', 'EVENTS', 'FINANCE',\n",
       "       'FOOD_AND_DRINK', 'HEALTH_AND_FITNESS', 'HOUSE_AND_HOME',\n",
       "       'LIBRARIES_AND_DEMO', 'LIFESTYLE', 'GAME', 'FAMILY', 'MEDICAL',\n",
       "       'SOCIAL', 'SHOPPING', 'PHOTOGRAPHY', 'SPORTS', 'TRAVEL_AND_LOCAL',\n",
       "       'TOOLS', 'PERSONALIZATION', 'PRODUCTIVITY', 'PARENTING', 'WEATHER',\n",
       "       'VIDEO_PLAYERS', 'NEWS_AND_MAGAZINES', 'MAPS_AND_NAVIGATION',\n",
       "       '1.9'], dtype=object)"
      ]
     },
     "execution_count": 116,
     "metadata": {},
     "output_type": "execute_result"
    }
   ],
   "source": [
    "# уникальные categories\n",
    "df['Category'].unique()"
   ]
  },
  {
   "cell_type": "code",
   "execution_count": 117,
   "id": "03136d13",
   "metadata": {
    "execution": {
     "iopub.execute_input": "2022-11-21T18:29:55.510518Z",
     "iopub.status.busy": "2022-11-21T18:29:55.510125Z",
     "iopub.status.idle": "2022-11-21T18:29:55.518269Z",
     "shell.execute_reply": "2022-11-21T18:29:55.517248Z"
    },
    "id": "qH7cT_lTQmSd",
    "outputId": "617d860b-ffee-493e-a34e-b10a5f8dea85",
    "papermill": {
     "duration": 0.038162,
     "end_time": "2022-11-21T18:29:55.520174",
     "exception": false,
     "start_time": "2022-11-21T18:29:55.482012",
     "status": "completed"
    },
    "tags": []
   },
   "outputs": [
    {
     "data": {
      "text/plain": [
       "34"
      ]
     },
     "execution_count": 117,
     "metadata": {},
     "output_type": "execute_result"
    }
   ],
   "source": [
    "# Общее количество уникальных категорий\n",
    "df['Category'].nunique()"
   ]
  },
  {
   "cell_type": "code",
   "execution_count": 118,
   "id": "618656d8",
   "metadata": {
    "execution": {
     "iopub.execute_input": "2022-11-21T18:29:55.578044Z",
     "iopub.status.busy": "2022-11-21T18:29:55.577685Z",
     "iopub.status.idle": "2022-11-21T18:29:55.584541Z",
     "shell.execute_reply": "2022-11-21T18:29:55.583689Z"
    },
    "id": "E4nwr44vQu7f",
    "outputId": "5659a914-9bae-41dd-c81d-3831ecc14352",
    "papermill": {
     "duration": 0.037048,
     "end_time": "2022-11-21T18:29:55.586417",
     "exception": false,
     "start_time": "2022-11-21T18:29:55.549369",
     "status": "completed"
    },
    "tags": []
   },
   "outputs": [
    {
     "data": {
      "text/plain": [
       "array(['10,000+', '500,000+', '5,000,000+', '50,000,000+', '100,000+',\n",
       "       '50,000+', '1,000,000+', '10,000,000+', '5,000+', '100,000,000+',\n",
       "       '1,000,000,000+', '1,000+', '500,000,000+', '50+', '100+', '500+',\n",
       "       '10+', '1+', '5+', '0+', '0', 'Free'], dtype=object)"
      ]
     },
     "execution_count": 118,
     "metadata": {},
     "output_type": "execute_result"
    }
   ],
   "source": [
    "# уникальные значения в столбце Installs\n",
    "df.Installs.unique()"
   ]
  },
  {
   "cell_type": "code",
   "execution_count": 119,
   "id": "05c5c94a",
   "metadata": {
    "execution": {
     "iopub.execute_input": "2022-11-21T18:29:55.643125Z",
     "iopub.status.busy": "2022-11-21T18:29:55.642573Z",
     "iopub.status.idle": "2022-11-21T18:29:55.650099Z",
     "shell.execute_reply": "2022-11-21T18:29:55.649147Z"
    },
    "id": "anC_dWdoRTxK",
    "outputId": "7f941e35-091c-4b82-c740-75bdad04d375",
    "papermill": {
     "duration": 0.038911,
     "end_time": "2022-11-21T18:29:55.652735",
     "exception": false,
     "start_time": "2022-11-21T18:29:55.613824",
     "status": "completed"
    },
    "tags": []
   },
   "outputs": [
    {
     "data": {
      "text/plain": [
       "462"
      ]
     },
     "execution_count": 119,
     "metadata": {},
     "output_type": "execute_result"
    }
   ],
   "source": [
    "# уникальные значения в столбце Size \n",
    "\n",
    "\n",
    "df[\"Size\"].nunique()"
   ]
  },
  {
   "cell_type": "code",
   "execution_count": 120,
   "id": "bd0ebddc",
   "metadata": {
    "execution": {
     "iopub.execute_input": "2022-11-21T18:29:55.709273Z",
     "iopub.status.busy": "2022-11-21T18:29:55.708925Z",
     "iopub.status.idle": "2022-11-21T18:29:55.718187Z",
     "shell.execute_reply": "2022-11-21T18:29:55.716689Z"
    },
    "id": "qVtsPalXbytP",
    "outputId": "f48dd239-699b-4204-fb66-4eb8b7834b4f",
    "papermill": {
     "duration": 0.039943,
     "end_time": "2022-11-21T18:29:55.720162",
     "exception": false,
     "start_time": "2022-11-21T18:29:55.680219",
     "status": "completed"
    },
    "tags": []
   },
   "outputs": [
    {
     "data": {
      "text/plain": [
       "array([ 4.1,  3.9,  4.7,  4.5,  4.3,  4.4,  3.8,  4.2,  4.6,  3.2,  4. ,\n",
       "        nan,  4.8,  4.9,  3.6,  3.7,  3.3,  3.4,  3.5,  3.1,  5. ,  2.6,\n",
       "        3. ,  1.9,  2.5,  2.8,  2.7,  1. ,  2.9,  2.3,  2.2,  1.7,  2. ,\n",
       "        1.8,  2.4,  1.6,  2.1,  1.4,  1.5,  1.2, 19. ])"
      ]
     },
     "execution_count": 120,
     "metadata": {},
     "output_type": "execute_result"
    }
   ],
   "source": [
    "# Ищем уникальные значения в столбце Rating\n",
    "df['Rating'].unique()"
   ]
  },
  {
   "cell_type": "code",
   "execution_count": 121,
   "id": "bc286a54",
   "metadata": {
    "execution": {
     "iopub.execute_input": "2022-11-21T18:29:55.840353Z",
     "iopub.status.busy": "2022-11-21T18:29:55.839983Z",
     "iopub.status.idle": "2022-11-21T18:29:55.845739Z",
     "shell.execute_reply": "2022-11-21T18:29:55.845135Z"
    },
    "id": "5oGl1X8qRwV4",
    "outputId": "35a9343b-7c59-4305-c418-435b09385ce7",
    "papermill": {
     "duration": 0.036057,
     "end_time": "2022-11-21T18:29:55.847264",
     "exception": false,
     "start_time": "2022-11-21T18:29:55.811207",
     "status": "completed"
    },
    "tags": []
   },
   "outputs": [
    {
     "data": {
      "text/plain": [
       "array(['Everyone', 'Teen', 'Everyone 10+', 'Mature 17+',\n",
       "       'Adults only 18+', 'Unrated', nan], dtype=object)"
      ]
     },
     "execution_count": 121,
     "metadata": {},
     "output_type": "execute_result"
    }
   ],
   "source": [
    "# Уникальные значения по Content rating( смотрим на аудитории по возврастным критериям)\n",
    "df[\"Content Rating\"].unique()"
   ]
  },
  {
   "cell_type": "markdown",
   "id": "06e98e78",
   "metadata": {
    "id": "pC6nQJFqpPot",
    "papermill": {
     "duration": 0.02692,
     "end_time": "2022-11-21T18:29:55.964234",
     "exception": false,
     "start_time": "2022-11-21T18:29:55.937314",
     "status": "completed"
    },
    "tags": []
   },
   "source": [
    "# Очистка данных\n"
   ]
  },
  {
   "cell_type": "code",
   "execution_count": 122,
   "id": "3e5cb345",
   "metadata": {
    "execution": {
     "iopub.execute_input": "2022-11-21T18:29:56.020645Z",
     "iopub.status.busy": "2022-11-21T18:29:56.020258Z",
     "iopub.status.idle": "2022-11-21T18:29:56.038289Z",
     "shell.execute_reply": "2022-11-21T18:29:56.036935Z"
    },
    "id": "VH-3QqqbpULV",
    "papermill": {
     "duration": 0.049999,
     "end_time": "2022-11-21T18:29:56.041512",
     "exception": false,
     "start_time": "2022-11-21T18:29:55.991513",
     "status": "completed"
    },
    "tags": []
   },
   "outputs": [],
   "source": [
    "# Избавляемся от дубликатов\n",
    "df.drop_duplicates(['App','Size','Installs','Reviews','Rating','Price','Android Ver'], inplace=True)"
   ]
  },
  {
   "cell_type": "code",
   "execution_count": 123,
   "id": "b9ad6e37",
   "metadata": {
    "execution": {
     "iopub.execute_input": "2022-11-21T18:29:56.108582Z",
     "iopub.status.busy": "2022-11-21T18:29:56.107698Z",
     "iopub.status.idle": "2022-11-21T18:29:56.128433Z",
     "shell.execute_reply": "2022-11-21T18:29:56.127552Z"
    },
    "id": "CcEZZXrppu5J",
    "outputId": "9d9f2cfb-2343-477a-be5e-b37494a03c3e",
    "papermill": {
     "duration": 0.056472,
     "end_time": "2022-11-21T18:29:56.130294",
     "exception": false,
     "start_time": "2022-11-21T18:29:56.073822",
     "status": "completed"
    },
    "tags": []
   },
   "outputs": [
    {
     "name": "stdout",
     "output_type": "stream",
     "text": [
      "<class 'pandas.core.frame.DataFrame'>\n",
      "Int64Index: 10350 entries, 0 to 10840\n",
      "Data columns (total 13 columns):\n",
      " #   Column          Non-Null Count  Dtype  \n",
      "---  ------          --------------  -----  \n",
      " 0   App             10350 non-null  object \n",
      " 1   Category        10350 non-null  object \n",
      " 2   Rating          8885 non-null   float64\n",
      " 3   Reviews         10350 non-null  object \n",
      " 4   Size            10350 non-null  object \n",
      " 5   Installs        10350 non-null  object \n",
      " 6   Type            10349 non-null  object \n",
      " 7   Price           10350 non-null  object \n",
      " 8   Content Rating  10349 non-null  object \n",
      " 9   Genres          10350 non-null  object \n",
      " 10  Last Updated    10350 non-null  object \n",
      " 11  Current Ver     10342 non-null  object \n",
      " 12  Android Ver     10347 non-null  object \n",
      "dtypes: float64(1), object(12)\n",
      "memory usage: 1.1+ MB\n"
     ]
    }
   ],
   "source": [
    "\n",
    "df.info()"
   ]
  },
  {
   "cell_type": "code",
   "execution_count": 124,
   "id": "633c8d2c",
   "metadata": {
    "execution": {
     "iopub.execute_input": "2022-11-21T18:29:56.772193Z",
     "iopub.status.busy": "2022-11-21T18:29:56.771822Z",
     "iopub.status.idle": "2022-11-21T18:29:56.784540Z",
     "shell.execute_reply": "2022-11-21T18:29:56.783826Z"
    },
    "id": "bsGV8PSFSVMf",
    "outputId": "82b7aed5-f1ef-404f-c600-2753781359db",
    "papermill": {
     "duration": 0.046275,
     "end_time": "2022-11-21T18:29:56.786818",
     "exception": false,
     "start_time": "2022-11-21T18:29:56.740543",
     "status": "completed"
    },
    "tags": []
   },
   "outputs": [
    {
     "data": {
      "text/plain": [
       "App                  0\n",
       "Category             0\n",
       "Rating            1465\n",
       "Reviews              0\n",
       "Size                 0\n",
       "Installs             0\n",
       "Type                 1\n",
       "Price                0\n",
       "Content Rating       1\n",
       "Genres               0\n",
       "Last Updated         0\n",
       "Current Ver          8\n",
       "Android Ver          3\n",
       "dtype: int64"
      ]
     },
     "execution_count": 124,
     "metadata": {},
     "output_type": "execute_result"
    }
   ],
   "source": [
    "\n",
    "df.isnull().sum()"
   ]
  },
  {
   "cell_type": "code",
   "execution_count": 125,
   "id": "2c7860d8",
   "metadata": {
    "execution": {
     "iopub.execute_input": "2022-11-21T18:29:56.845509Z",
     "iopub.status.busy": "2022-11-21T18:29:56.845140Z",
     "iopub.status.idle": "2022-11-21T18:29:56.857488Z",
     "shell.execute_reply": "2022-11-21T18:29:56.856396Z"
    },
    "id": "XkyzLAoDSacY",
    "outputId": "64706fa9-1d8e-49c1-b11b-9f84f97221f8",
    "papermill": {
     "duration": 0.043834,
     "end_time": "2022-11-21T18:29:56.859460",
     "exception": false,
     "start_time": "2022-11-21T18:29:56.815626",
     "status": "completed"
    },
    "tags": []
   },
   "outputs": [
    {
     "data": {
      "text/plain": [
       "13"
      ]
     },
     "execution_count": 125,
     "metadata": {},
     "output_type": "execute_result"
    }
   ],
   "source": [
    "# всего 13 пустых записей\n",
    "len(df.isnull().sum())"
   ]
  },
  {
   "cell_type": "code",
   "execution_count": 126,
   "id": "28ffdb85",
   "metadata": {
    "execution": {
     "iopub.execute_input": "2022-11-21T18:29:56.918171Z",
     "iopub.status.busy": "2022-11-21T18:29:56.917780Z",
     "iopub.status.idle": "2022-11-21T18:29:56.931817Z",
     "shell.execute_reply": "2022-11-21T18:29:56.930876Z"
    },
    "id": "nnDa25_PSiIu",
    "papermill": {
     "duration": 0.045894,
     "end_time": "2022-11-21T18:29:56.933974",
     "exception": false,
     "start_time": "2022-11-21T18:29:56.888080",
     "status": "completed"
    },
    "tags": []
   },
   "outputs": [],
   "source": [
    "# Избавляемся от пустых записей\n",
    "df=df.dropna()"
   ]
  },
  {
   "cell_type": "code",
   "execution_count": 127,
   "id": "03f674cf",
   "metadata": {
    "execution": {
     "iopub.execute_input": "2022-11-21T18:29:57.406763Z",
     "iopub.status.busy": "2022-11-21T18:29:57.405936Z",
     "iopub.status.idle": "2022-11-21T18:29:57.418360Z",
     "shell.execute_reply": "2022-11-21T18:29:57.416782Z"
    },
    "id": "-fHQHKJDSps1",
    "outputId": "928c68af-419f-4c3c-cb5f-5195ccb8a124",
    "papermill": {
     "duration": 0.04487,
     "end_time": "2022-11-21T18:29:57.420837",
     "exception": false,
     "start_time": "2022-11-21T18:29:57.375967",
     "status": "completed"
    },
    "tags": []
   },
   "outputs": [
    {
     "data": {
      "text/plain": [
       "App               False\n",
       "Category          False\n",
       "Rating            False\n",
       "Reviews           False\n",
       "Size              False\n",
       "Installs          False\n",
       "Type              False\n",
       "Price             False\n",
       "Content Rating    False\n",
       "Genres            False\n",
       "Last Updated      False\n",
       "Current Ver       False\n",
       "Android Ver       False\n",
       "dtype: bool"
      ]
     },
     "execution_count": 127,
     "metadata": {},
     "output_type": "execute_result"
    }
   ],
   "source": [
    "\n",
    "df.isnull().any()"
   ]
  },
  {
   "cell_type": "code",
   "execution_count": 128,
   "id": "f7640224",
   "metadata": {
    "execution": {
     "iopub.execute_input": "2022-11-21T18:29:57.549821Z",
     "iopub.status.busy": "2022-11-21T18:29:57.549358Z",
     "iopub.status.idle": "2022-11-21T18:29:57.558988Z",
     "shell.execute_reply": "2022-11-21T18:29:57.557781Z"
    },
    "id": "48PJBIIeanqF",
    "outputId": "fdd86ab9-61a7-4663-dfbe-13378442c19b",
    "papermill": {
     "duration": 0.042699,
     "end_time": "2022-11-21T18:29:57.561273",
     "exception": false,
     "start_time": "2022-11-21T18:29:57.518574",
     "status": "completed"
    },
    "tags": []
   },
   "outputs": [
    {
     "data": {
      "text/plain": [
       "8190"
      ]
     },
     "execution_count": 128,
     "metadata": {},
     "output_type": "execute_result"
    }
   ],
   "source": [
    "df.App.nunique()"
   ]
  },
  {
   "cell_type": "code",
   "execution_count": 129,
   "id": "54014c17",
   "metadata": {
    "execution": {
     "iopub.execute_input": "2022-11-21T18:29:57.622246Z",
     "iopub.status.busy": "2022-11-21T18:29:57.621879Z",
     "iopub.status.idle": "2022-11-21T18:29:57.628269Z",
     "shell.execute_reply": "2022-11-21T18:29:57.626967Z"
    },
    "id": "sk9Jac84wcS4",
    "outputId": "04bd79a7-0b88-4763-dde5-520438e32bb3",
    "papermill": {
     "duration": 0.039105,
     "end_time": "2022-11-21T18:29:57.630355",
     "exception": false,
     "start_time": "2022-11-21T18:29:57.591250",
     "status": "completed"
    },
    "tags": []
   },
   "outputs": [
    {
     "data": {
      "text/plain": [
       "8878"
      ]
     },
     "execution_count": 129,
     "metadata": {},
     "output_type": "execute_result"
    }
   ],
   "source": [
    "len(df['App'])"
   ]
  },
  {
   "cell_type": "code",
   "execution_count": 130,
   "id": "153c4ccb",
   "metadata": {
    "execution": {
     "iopub.execute_input": "2022-11-21T18:29:57.691045Z",
     "iopub.status.busy": "2022-11-21T18:29:57.690666Z",
     "iopub.status.idle": "2022-11-21T18:29:57.696055Z",
     "shell.execute_reply": "2022-11-21T18:29:57.694920Z"
    },
    "id": "8VyPCjqwrxfP",
    "papermill": {
     "duration": 0.038294,
     "end_time": "2022-11-21T18:29:57.698189",
     "exception": false,
     "start_time": "2022-11-21T18:29:57.659895",
     "status": "completed"
    },
    "tags": []
   },
   "outputs": [],
   "source": [
    "\n",
    "id=np.arange(8878)\n",
    "df['id']=id"
   ]
  },
  {
   "cell_type": "code",
   "execution_count": 131,
   "id": "780a0078",
   "metadata": {
    "execution": {
     "iopub.execute_input": "2022-11-21T18:29:57.759930Z",
     "iopub.status.busy": "2022-11-21T18:29:57.759569Z",
     "iopub.status.idle": "2022-11-21T18:29:57.777143Z",
     "shell.execute_reply": "2022-11-21T18:29:57.775977Z"
    },
    "id": "LekJM86pt9z5",
    "outputId": "6f54412c-ccb6-44c6-e3ca-7b6a838928ed",
    "papermill": {
     "duration": 0.051074,
     "end_time": "2022-11-21T18:29:57.779175",
     "exception": false,
     "start_time": "2022-11-21T18:29:57.728101",
     "status": "completed"
    },
    "tags": []
   },
   "outputs": [
    {
     "data": {
      "text/html": [
       "<div>\n",
       "<style scoped>\n",
       "    .dataframe tbody tr th:only-of-type {\n",
       "        vertical-align: middle;\n",
       "    }\n",
       "\n",
       "    .dataframe tbody tr th {\n",
       "        vertical-align: top;\n",
       "    }\n",
       "\n",
       "    .dataframe thead th {\n",
       "        text-align: right;\n",
       "    }\n",
       "</style>\n",
       "<table border=\"1\" class=\"dataframe\">\n",
       "  <thead>\n",
       "    <tr style=\"text-align: right;\">\n",
       "      <th></th>\n",
       "      <th>App</th>\n",
       "      <th>Category</th>\n",
       "      <th>Rating</th>\n",
       "      <th>Reviews</th>\n",
       "      <th>Size</th>\n",
       "      <th>Installs</th>\n",
       "      <th>Type</th>\n",
       "      <th>Price</th>\n",
       "      <th>Content Rating</th>\n",
       "      <th>Genres</th>\n",
       "      <th>Last Updated</th>\n",
       "      <th>Current Ver</th>\n",
       "      <th>Android Ver</th>\n",
       "      <th>id</th>\n",
       "    </tr>\n",
       "  </thead>\n",
       "  <tbody>\n",
       "    <tr>\n",
       "      <th>0</th>\n",
       "      <td>Photo Editor &amp; Candy Camera &amp; Grid &amp; ScrapBook</td>\n",
       "      <td>ART_AND_DESIGN</td>\n",
       "      <td>4.1</td>\n",
       "      <td>159</td>\n",
       "      <td>19M</td>\n",
       "      <td>10,000+</td>\n",
       "      <td>Free</td>\n",
       "      <td>0</td>\n",
       "      <td>Everyone</td>\n",
       "      <td>Art &amp; Design</td>\n",
       "      <td>January 7, 2018</td>\n",
       "      <td>1.0.0</td>\n",
       "      <td>4.0.3 and up</td>\n",
       "      <td>0</td>\n",
       "    </tr>\n",
       "    <tr>\n",
       "      <th>1</th>\n",
       "      <td>Coloring book moana</td>\n",
       "      <td>ART_AND_DESIGN</td>\n",
       "      <td>3.9</td>\n",
       "      <td>967</td>\n",
       "      <td>14M</td>\n",
       "      <td>500,000+</td>\n",
       "      <td>Free</td>\n",
       "      <td>0</td>\n",
       "      <td>Everyone</td>\n",
       "      <td>Art &amp; Design;Pretend Play</td>\n",
       "      <td>January 15, 2018</td>\n",
       "      <td>2.0.0</td>\n",
       "      <td>4.0.3 and up</td>\n",
       "      <td>1</td>\n",
       "    </tr>\n",
       "    <tr>\n",
       "      <th>2</th>\n",
       "      <td>U Launcher Lite – FREE Live Cool Themes, Hide ...</td>\n",
       "      <td>ART_AND_DESIGN</td>\n",
       "      <td>4.7</td>\n",
       "      <td>87510</td>\n",
       "      <td>8.7M</td>\n",
       "      <td>5,000,000+</td>\n",
       "      <td>Free</td>\n",
       "      <td>0</td>\n",
       "      <td>Everyone</td>\n",
       "      <td>Art &amp; Design</td>\n",
       "      <td>August 1, 2018</td>\n",
       "      <td>1.2.4</td>\n",
       "      <td>4.0.3 and up</td>\n",
       "      <td>2</td>\n",
       "    </tr>\n",
       "    <tr>\n",
       "      <th>3</th>\n",
       "      <td>Sketch - Draw &amp; Paint</td>\n",
       "      <td>ART_AND_DESIGN</td>\n",
       "      <td>4.5</td>\n",
       "      <td>215644</td>\n",
       "      <td>25M</td>\n",
       "      <td>50,000,000+</td>\n",
       "      <td>Free</td>\n",
       "      <td>0</td>\n",
       "      <td>Teen</td>\n",
       "      <td>Art &amp; Design</td>\n",
       "      <td>June 8, 2018</td>\n",
       "      <td>Varies with device</td>\n",
       "      <td>4.2 and up</td>\n",
       "      <td>3</td>\n",
       "    </tr>\n",
       "    <tr>\n",
       "      <th>4</th>\n",
       "      <td>Pixel Draw - Number Art Coloring Book</td>\n",
       "      <td>ART_AND_DESIGN</td>\n",
       "      <td>4.3</td>\n",
       "      <td>967</td>\n",
       "      <td>2.8M</td>\n",
       "      <td>100,000+</td>\n",
       "      <td>Free</td>\n",
       "      <td>0</td>\n",
       "      <td>Everyone</td>\n",
       "      <td>Art &amp; Design;Creativity</td>\n",
       "      <td>June 20, 2018</td>\n",
       "      <td>1.1</td>\n",
       "      <td>4.4 and up</td>\n",
       "      <td>4</td>\n",
       "    </tr>\n",
       "  </tbody>\n",
       "</table>\n",
       "</div>"
      ],
      "text/plain": [
       "                                                 App        Category  Rating  \\\n",
       "0     Photo Editor & Candy Camera & Grid & ScrapBook  ART_AND_DESIGN     4.1   \n",
       "1                                Coloring book moana  ART_AND_DESIGN     3.9   \n",
       "2  U Launcher Lite – FREE Live Cool Themes, Hide ...  ART_AND_DESIGN     4.7   \n",
       "3                              Sketch - Draw & Paint  ART_AND_DESIGN     4.5   \n",
       "4              Pixel Draw - Number Art Coloring Book  ART_AND_DESIGN     4.3   \n",
       "\n",
       "  Reviews  Size     Installs  Type Price Content Rating  \\\n",
       "0     159   19M      10,000+  Free     0       Everyone   \n",
       "1     967   14M     500,000+  Free     0       Everyone   \n",
       "2   87510  8.7M   5,000,000+  Free     0       Everyone   \n",
       "3  215644   25M  50,000,000+  Free     0           Teen   \n",
       "4     967  2.8M     100,000+  Free     0       Everyone   \n",
       "\n",
       "                      Genres      Last Updated         Current Ver  \\\n",
       "0               Art & Design   January 7, 2018               1.0.0   \n",
       "1  Art & Design;Pretend Play  January 15, 2018               2.0.0   \n",
       "2               Art & Design    August 1, 2018               1.2.4   \n",
       "3               Art & Design      June 8, 2018  Varies with device   \n",
       "4    Art & Design;Creativity     June 20, 2018                 1.1   \n",
       "\n",
       "    Android Ver  id  \n",
       "0  4.0.3 and up   0  \n",
       "1  4.0.3 and up   1  \n",
       "2  4.0.3 and up   2  \n",
       "3    4.2 and up   3  \n",
       "4    4.4 and up   4  "
      ]
     },
     "execution_count": 131,
     "metadata": {},
     "output_type": "execute_result"
    }
   ],
   "source": [
    "df.head()"
   ]
  },
  {
   "cell_type": "code",
   "execution_count": 132,
   "id": "d79e3553",
   "metadata": {
    "execution": {
     "iopub.execute_input": "2022-11-21T18:29:57.840277Z",
     "iopub.status.busy": "2022-11-21T18:29:57.839937Z",
     "iopub.status.idle": "2022-11-21T18:29:57.845286Z",
     "shell.execute_reply": "2022-11-21T18:29:57.844627Z"
    },
    "id": "9AOuVxGFtcKF",
    "papermill": {
     "duration": 0.038283,
     "end_time": "2022-11-21T18:29:57.847367",
     "exception": false,
     "start_time": "2022-11-21T18:29:57.809084",
     "status": "completed"
    },
    "tags": []
   },
   "outputs": [],
   "source": [
    "\n",
    "df=df.set_index('id')"
   ]
  },
  {
   "cell_type": "code",
   "execution_count": 133,
   "id": "37cbff2b",
   "metadata": {
    "execution": {
     "iopub.execute_input": "2022-11-21T18:29:57.908142Z",
     "iopub.status.busy": "2022-11-21T18:29:57.907793Z",
     "iopub.status.idle": "2022-11-21T18:29:57.925159Z",
     "shell.execute_reply": "2022-11-21T18:29:57.924244Z"
    },
    "id": "HvIJtn9Ly5c0",
    "outputId": "2a211d50-3106-4702-8d94-dee0ff0dea44",
    "papermill": {
     "duration": 0.050329,
     "end_time": "2022-11-21T18:29:57.927476",
     "exception": false,
     "start_time": "2022-11-21T18:29:57.877147",
     "status": "completed"
    },
    "tags": []
   },
   "outputs": [
    {
     "data": {
      "text/html": [
       "<div>\n",
       "<style scoped>\n",
       "    .dataframe tbody tr th:only-of-type {\n",
       "        vertical-align: middle;\n",
       "    }\n",
       "\n",
       "    .dataframe tbody tr th {\n",
       "        vertical-align: top;\n",
       "    }\n",
       "\n",
       "    .dataframe thead th {\n",
       "        text-align: right;\n",
       "    }\n",
       "</style>\n",
       "<table border=\"1\" class=\"dataframe\">\n",
       "  <thead>\n",
       "    <tr style=\"text-align: right;\">\n",
       "      <th></th>\n",
       "      <th>App</th>\n",
       "      <th>Category</th>\n",
       "      <th>Rating</th>\n",
       "      <th>Reviews</th>\n",
       "      <th>Size</th>\n",
       "      <th>Installs</th>\n",
       "      <th>Type</th>\n",
       "      <th>Price</th>\n",
       "      <th>Content Rating</th>\n",
       "      <th>Genres</th>\n",
       "      <th>Last Updated</th>\n",
       "      <th>Current Ver</th>\n",
       "      <th>Android Ver</th>\n",
       "    </tr>\n",
       "    <tr>\n",
       "      <th>id</th>\n",
       "      <th></th>\n",
       "      <th></th>\n",
       "      <th></th>\n",
       "      <th></th>\n",
       "      <th></th>\n",
       "      <th></th>\n",
       "      <th></th>\n",
       "      <th></th>\n",
       "      <th></th>\n",
       "      <th></th>\n",
       "      <th></th>\n",
       "      <th></th>\n",
       "      <th></th>\n",
       "    </tr>\n",
       "  </thead>\n",
       "  <tbody>\n",
       "    <tr>\n",
       "      <th>0</th>\n",
       "      <td>Photo Editor &amp; Candy Camera &amp; Grid &amp; ScrapBook</td>\n",
       "      <td>ART_AND_DESIGN</td>\n",
       "      <td>4.1</td>\n",
       "      <td>159</td>\n",
       "      <td>19M</td>\n",
       "      <td>10,000+</td>\n",
       "      <td>Free</td>\n",
       "      <td>0</td>\n",
       "      <td>Everyone</td>\n",
       "      <td>Art &amp; Design</td>\n",
       "      <td>January 7, 2018</td>\n",
       "      <td>1.0.0</td>\n",
       "      <td>4.0.3 and up</td>\n",
       "    </tr>\n",
       "    <tr>\n",
       "      <th>1</th>\n",
       "      <td>Coloring book moana</td>\n",
       "      <td>ART_AND_DESIGN</td>\n",
       "      <td>3.9</td>\n",
       "      <td>967</td>\n",
       "      <td>14M</td>\n",
       "      <td>500,000+</td>\n",
       "      <td>Free</td>\n",
       "      <td>0</td>\n",
       "      <td>Everyone</td>\n",
       "      <td>Art &amp; Design;Pretend Play</td>\n",
       "      <td>January 15, 2018</td>\n",
       "      <td>2.0.0</td>\n",
       "      <td>4.0.3 and up</td>\n",
       "    </tr>\n",
       "    <tr>\n",
       "      <th>2</th>\n",
       "      <td>U Launcher Lite – FREE Live Cool Themes, Hide ...</td>\n",
       "      <td>ART_AND_DESIGN</td>\n",
       "      <td>4.7</td>\n",
       "      <td>87510</td>\n",
       "      <td>8.7M</td>\n",
       "      <td>5,000,000+</td>\n",
       "      <td>Free</td>\n",
       "      <td>0</td>\n",
       "      <td>Everyone</td>\n",
       "      <td>Art &amp; Design</td>\n",
       "      <td>August 1, 2018</td>\n",
       "      <td>1.2.4</td>\n",
       "      <td>4.0.3 and up</td>\n",
       "    </tr>\n",
       "    <tr>\n",
       "      <th>3</th>\n",
       "      <td>Sketch - Draw &amp; Paint</td>\n",
       "      <td>ART_AND_DESIGN</td>\n",
       "      <td>4.5</td>\n",
       "      <td>215644</td>\n",
       "      <td>25M</td>\n",
       "      <td>50,000,000+</td>\n",
       "      <td>Free</td>\n",
       "      <td>0</td>\n",
       "      <td>Teen</td>\n",
       "      <td>Art &amp; Design</td>\n",
       "      <td>June 8, 2018</td>\n",
       "      <td>Varies with device</td>\n",
       "      <td>4.2 and up</td>\n",
       "    </tr>\n",
       "    <tr>\n",
       "      <th>4</th>\n",
       "      <td>Pixel Draw - Number Art Coloring Book</td>\n",
       "      <td>ART_AND_DESIGN</td>\n",
       "      <td>4.3</td>\n",
       "      <td>967</td>\n",
       "      <td>2.8M</td>\n",
       "      <td>100,000+</td>\n",
       "      <td>Free</td>\n",
       "      <td>0</td>\n",
       "      <td>Everyone</td>\n",
       "      <td>Art &amp; Design;Creativity</td>\n",
       "      <td>June 20, 2018</td>\n",
       "      <td>1.1</td>\n",
       "      <td>4.4 and up</td>\n",
       "    </tr>\n",
       "  </tbody>\n",
       "</table>\n",
       "</div>"
      ],
      "text/plain": [
       "                                                  App        Category  Rating  \\\n",
       "id                                                                              \n",
       "0      Photo Editor & Candy Camera & Grid & ScrapBook  ART_AND_DESIGN     4.1   \n",
       "1                                 Coloring book moana  ART_AND_DESIGN     3.9   \n",
       "2   U Launcher Lite – FREE Live Cool Themes, Hide ...  ART_AND_DESIGN     4.7   \n",
       "3                               Sketch - Draw & Paint  ART_AND_DESIGN     4.5   \n",
       "4               Pixel Draw - Number Art Coloring Book  ART_AND_DESIGN     4.3   \n",
       "\n",
       "   Reviews  Size     Installs  Type Price Content Rating  \\\n",
       "id                                                         \n",
       "0      159   19M      10,000+  Free     0       Everyone   \n",
       "1      967   14M     500,000+  Free     0       Everyone   \n",
       "2    87510  8.7M   5,000,000+  Free     0       Everyone   \n",
       "3   215644   25M  50,000,000+  Free     0           Teen   \n",
       "4      967  2.8M     100,000+  Free     0       Everyone   \n",
       "\n",
       "                       Genres      Last Updated         Current Ver  \\\n",
       "id                                                                    \n",
       "0                Art & Design   January 7, 2018               1.0.0   \n",
       "1   Art & Design;Pretend Play  January 15, 2018               2.0.0   \n",
       "2                Art & Design    August 1, 2018               1.2.4   \n",
       "3                Art & Design      June 8, 2018  Varies with device   \n",
       "4     Art & Design;Creativity     June 20, 2018                 1.1   \n",
       "\n",
       "     Android Ver  \n",
       "id                \n",
       "0   4.0.3 and up  \n",
       "1   4.0.3 and up  \n",
       "2   4.0.3 and up  \n",
       "3     4.2 and up  \n",
       "4     4.4 and up  "
      ]
     },
     "execution_count": 133,
     "metadata": {},
     "output_type": "execute_result"
    }
   ],
   "source": [
    "df.head()"
   ]
  },
  {
   "cell_type": "markdown",
   "id": "684df7c8",
   "metadata": {
    "id": "MsJGPKcv5tk8",
    "papermill": {
     "duration": 0.029846,
     "end_time": "2022-11-21T18:29:57.987569",
     "exception": false,
     "start_time": "2022-11-21T18:29:57.957723",
     "status": "completed"
    },
    "tags": []
   },
   "source": [
    "Исследование данных\n",
    "\n",
    "Ключевые переменные, отвечающие за вовлеченность приложения, включают столбцы данных: Category, Rating, Installs, Reviews, Content Reviews и Type of the App. Давайте проанализируем данные соответствующим образом"
   ]
  },
  {
   "cell_type": "code",
   "execution_count": 134,
   "id": "68ec3156",
   "metadata": {
    "execution": {
     "iopub.execute_input": "2022-11-21T18:29:58.049224Z",
     "iopub.status.busy": "2022-11-21T18:29:58.048180Z",
     "iopub.status.idle": "2022-11-21T18:29:58.056137Z",
     "shell.execute_reply": "2022-11-21T18:29:58.055229Z"
    },
    "id": "ywGyNSmeSu-l",
    "outputId": "40037ce8-e701-4017-a083-ca858905bf78",
    "papermill": {
     "duration": 0.04047,
     "end_time": "2022-11-21T18:29:58.057846",
     "exception": false,
     "start_time": "2022-11-21T18:29:58.017376",
     "status": "completed"
    },
    "tags": []
   },
   "outputs": [
    {
     "data": {
      "text/plain": [
       "Free    8268\n",
       "Paid     610\n",
       "Name: Type, dtype: int64"
      ]
     },
     "execution_count": 134,
     "metadata": {},
     "output_type": "execute_result"
    }
   ],
   "source": [
    "#Проверка уникальных категорий в типах приложений\n",
    "df[\"Type\"].value_counts() "
   ]
  },
  {
   "cell_type": "code",
   "execution_count": 135,
   "id": "1061d970",
   "metadata": {
    "execution": {
     "iopub.execute_input": "2022-11-21T18:29:58.120549Z",
     "iopub.status.busy": "2022-11-21T18:29:58.119591Z",
     "iopub.status.idle": "2022-11-21T18:29:58.242569Z",
     "shell.execute_reply": "2022-11-21T18:29:58.241637Z"
    },
    "id": "4E5DJg-BSfSt",
    "outputId": "44d8b10a-d77d-4c4e-9f34-545b66c92e7e",
    "papermill": {
     "duration": 0.156514,
     "end_time": "2022-11-21T18:29:58.244529",
     "exception": false,
     "start_time": "2022-11-21T18:29:58.088015",
     "status": "completed"
    },
    "tags": []
   },
   "outputs": [
    {
     "data": {
      "image/png": "[encoded data removed]",
      "text/plain": [
       "<Figure size 640x480 with 1 Axes>"
      ]
     },
     "metadata": {},
     "output_type": "display_data"
    }
   ],
   "source": [
    "df[\"Type\"].value_counts().plot.bar()\n",
    "plt.ylabel(\"Count\")\n",
    "plt.xlabel(\"Type\")\n",
    "plt.title(\"Value count for the type of app \")\n",
    "plt.xticks(rotation=45)\n",
    "\n",
    "plt.show()"
   ]
  },
  {
   "cell_type": "code",
   "execution_count": 136,
   "id": "5040386a",
   "metadata": {
    "execution": {
     "iopub.execute_input": "2022-11-21T18:29:58.308199Z",
     "iopub.status.busy": "2022-11-21T18:29:58.307677Z",
     "iopub.status.idle": "2022-11-21T18:29:58.322176Z",
     "shell.execute_reply": "2022-11-21T18:29:58.321394Z"
    },
    "id": "XdjPAPEDVs90",
    "outputId": "a9284ec7-6246-42e3-b57f-3e5865860b7c",
    "papermill": {
     "duration": 0.048118,
     "end_time": "2022-11-21T18:29:58.323922",
     "exception": false,
     "start_time": "2022-11-21T18:29:58.275804",
     "status": "completed"
    },
    "tags": []
   },
   "outputs": [
    {
     "data": {
      "text/html": [
       "<div>\n",
       "<style scoped>\n",
       "    .dataframe tbody tr th:only-of-type {\n",
       "        vertical-align: middle;\n",
       "    }\n",
       "\n",
       "    .dataframe tbody tr th {\n",
       "        vertical-align: top;\n",
       "    }\n",
       "\n",
       "    .dataframe thead th {\n",
       "        text-align: right;\n",
       "    }\n",
       "</style>\n",
       "<table border=\"1\" class=\"dataframe\">\n",
       "  <thead>\n",
       "    <tr style=\"text-align: right;\">\n",
       "      <th></th>\n",
       "      <th>Rating</th>\n",
       "    </tr>\n",
       "  </thead>\n",
       "  <tbody>\n",
       "    <tr>\n",
       "      <th>count</th>\n",
       "      <td>8878.000000</td>\n",
       "    </tr>\n",
       "    <tr>\n",
       "      <th>mean</th>\n",
       "      <td>4.187745</td>\n",
       "    </tr>\n",
       "    <tr>\n",
       "      <th>std</th>\n",
       "      <td>0.522572</td>\n",
       "    </tr>\n",
       "    <tr>\n",
       "      <th>min</th>\n",
       "      <td>1.000000</td>\n",
       "    </tr>\n",
       "    <tr>\n",
       "      <th>25%</th>\n",
       "      <td>4.000000</td>\n",
       "    </tr>\n",
       "    <tr>\n",
       "      <th>50%</th>\n",
       "      <td>4.300000</td>\n",
       "    </tr>\n",
       "    <tr>\n",
       "      <th>75%</th>\n",
       "      <td>4.500000</td>\n",
       "    </tr>\n",
       "    <tr>\n",
       "      <th>max</th>\n",
       "      <td>5.000000</td>\n",
       "    </tr>\n",
       "  </tbody>\n",
       "</table>\n",
       "</div>"
      ],
      "text/plain": [
       "            Rating\n",
       "count  8878.000000\n",
       "mean      4.187745\n",
       "std       0.522572\n",
       "min       1.000000\n",
       "25%       4.000000\n",
       "50%       4.300000\n",
       "75%       4.500000\n",
       "max       5.000000"
      ]
     },
     "execution_count": 136,
     "metadata": {},
     "output_type": "execute_result"
    }
   ],
   "source": [
    "# Основные описательные статистики\n",
    "df.describe()"
   ]
  },
  {
   "cell_type": "markdown",
   "id": "5cf0ac80",
   "metadata": {},
   "source": [
    "# Попробуем найти самую популярную категорию среди пользователей"
   ]
  },
  {
   "cell_type": "code",
   "execution_count": 137,
   "id": "0ce9680f",
   "metadata": {},
   "outputs": [
    {
     "data": {
      "text/html": [
       "<div>\n",
       "<style scoped>\n",
       "    .dataframe tbody tr th:only-of-type {\n",
       "        vertical-align: middle;\n",
       "    }\n",
       "\n",
       "    .dataframe tbody tr th {\n",
       "        vertical-align: top;\n",
       "    }\n",
       "\n",
       "    .dataframe thead th {\n",
       "        text-align: right;\n",
       "    }\n",
       "</style>\n",
       "<table border=\"1\" class=\"dataframe\">\n",
       "  <thead>\n",
       "    <tr style=\"text-align: right;\">\n",
       "      <th></th>\n",
       "      <th>App</th>\n",
       "    </tr>\n",
       "    <tr>\n",
       "      <th>Category</th>\n",
       "      <th></th>\n",
       "    </tr>\n",
       "  </thead>\n",
       "  <tbody>\n",
       "    <tr>\n",
       "      <th>ART_AND_DESIGN</th>\n",
       "      <td>61</td>\n",
       "    </tr>\n",
       "    <tr>\n",
       "      <th>AUTO_AND_VEHICLES</th>\n",
       "      <td>73</td>\n",
       "    </tr>\n",
       "    <tr>\n",
       "      <th>BEAUTY</th>\n",
       "      <td>42</td>\n",
       "    </tr>\n",
       "    <tr>\n",
       "      <th>BOOKS_AND_REFERENCE</th>\n",
       "      <td>177</td>\n",
       "    </tr>\n",
       "    <tr>\n",
       "      <th>BUSINESS</th>\n",
       "      <td>270</td>\n",
       "    </tr>\n",
       "  </tbody>\n",
       "</table>\n",
       "</div>"
      ],
      "text/plain": [
       "                     App\n",
       "Category                \n",
       "ART_AND_DESIGN        61\n",
       "AUTO_AND_VEHICLES     73\n",
       "BEAUTY                42\n",
       "BOOKS_AND_REFERENCE  177\n",
       "BUSINESS             270"
      ]
     },
     "execution_count": 137,
     "metadata": {},
     "output_type": "execute_result"
    }
   ],
   "source": [
    "# посчитаем количество уникальных значений по категориям\n",
    "amount = df.groupby(\"Category\").count()\n",
    "amount[amount.columns[:1]].head()"
   ]
  },
  {
   "cell_type": "code",
   "execution_count": 138,
   "id": "e94ddda8",
   "metadata": {},
   "outputs": [
    {
     "data": {
      "image/png": "[encoded data removed]",
      "text/plain": [
       "<Figure size 2400x1000 with 1 Axes>"
      ]
     },
     "metadata": {},
     "output_type": "display_data"
    }
   ],
   "source": [
    "# визуализируем эти данные\n",
    "plt.figure(figsize=(24,10))\n",
    "plt.bar(amount.index, amount[\"App\"])\n",
    "plt.ylabel(\"Amount of games in the category\")\n",
    "plt.xlabel(\"Category\")\n",
    "plt.xticks(rotation=90);"
   ]
  },
  {
   "cell_type": "markdown",
   "id": "3bd3fa82",
   "metadata": {},
   "source": [
    "Таким образом, family оказалась самой популярной категорией среди пользователей"
   ]
  },
  {
   "cell_type": "code",
   "execution_count": 139,
   "id": "7017e94a",
   "metadata": {
    "execution": {
     "iopub.execute_input": "2022-11-21T18:29:58.386768Z",
     "iopub.status.busy": "2022-11-21T18:29:58.386417Z",
     "iopub.status.idle": "2022-11-21T18:29:58.393117Z",
     "shell.execute_reply": "2022-11-21T18:29:58.391938Z"
    },
    "id": "y8j2ESdgblCc",
    "papermill": {
     "duration": 0.041214,
     "end_time": "2022-11-21T18:29:58.395515",
     "exception": false,
     "start_time": "2022-11-21T18:29:58.354301",
     "status": "completed"
    },
    "tags": []
   },
   "outputs": [],
   "source": [
    "# Переводим значения из колонки reviews в float\n",
    "\n",
    "df.Reviews= df.Reviews.astype(float) "
   ]
  },
  {
   "cell_type": "code",
   "execution_count": 140,
   "id": "f911e692",
   "metadata": {
    "execution": {
     "iopub.execute_input": "2022-11-21T18:29:58.459078Z",
     "iopub.status.busy": "2022-11-21T18:29:58.458461Z",
     "iopub.status.idle": "2022-11-21T18:29:58.473676Z",
     "shell.execute_reply": "2022-11-21T18:29:58.472822Z"
    },
    "id": "KStym6yyb6Hg",
    "outputId": "0a29850a-aad7-4946-c35e-3a777ab5b731",
    "papermill": {
     "duration": 0.048952,
     "end_time": "2022-11-21T18:29:58.475446",
     "exception": false,
     "start_time": "2022-11-21T18:29:58.426494",
     "status": "completed"
    },
    "tags": []
   },
   "outputs": [
    {
     "data": {
      "text/html": [
       "<div>\n",
       "<style scoped>\n",
       "    .dataframe tbody tr th:only-of-type {\n",
       "        vertical-align: middle;\n",
       "    }\n",
       "\n",
       "    .dataframe tbody tr th {\n",
       "        vertical-align: top;\n",
       "    }\n",
       "\n",
       "    .dataframe thead th {\n",
       "        text-align: right;\n",
       "    }\n",
       "</style>\n",
       "<table border=\"1\" class=\"dataframe\">\n",
       "  <thead>\n",
       "    <tr style=\"text-align: right;\">\n",
       "      <th></th>\n",
       "      <th>Rating</th>\n",
       "      <th>Reviews</th>\n",
       "    </tr>\n",
       "  </thead>\n",
       "  <tbody>\n",
       "    <tr>\n",
       "      <th>count</th>\n",
       "      <td>8878.000000</td>\n",
       "      <td>8.878000e+03</td>\n",
       "    </tr>\n",
       "    <tr>\n",
       "      <th>mean</th>\n",
       "      <td>4.187745</td>\n",
       "      <td>4.729619e+05</td>\n",
       "    </tr>\n",
       "    <tr>\n",
       "      <th>std</th>\n",
       "      <td>0.522572</td>\n",
       "      <td>2.906987e+06</td>\n",
       "    </tr>\n",
       "    <tr>\n",
       "      <th>min</th>\n",
       "      <td>1.000000</td>\n",
       "      <td>1.000000e+00</td>\n",
       "    </tr>\n",
       "    <tr>\n",
       "      <th>25%</th>\n",
       "      <td>4.000000</td>\n",
       "      <td>1.640000e+02</td>\n",
       "    </tr>\n",
       "    <tr>\n",
       "      <th>50%</th>\n",
       "      <td>4.300000</td>\n",
       "      <td>4.708000e+03</td>\n",
       "    </tr>\n",
       "    <tr>\n",
       "      <th>75%</th>\n",
       "      <td>4.500000</td>\n",
       "      <td>7.119725e+04</td>\n",
       "    </tr>\n",
       "    <tr>\n",
       "      <th>max</th>\n",
       "      <td>5.000000</td>\n",
       "      <td>7.815831e+07</td>\n",
       "    </tr>\n",
       "  </tbody>\n",
       "</table>\n",
       "</div>"
      ],
      "text/plain": [
       "            Rating       Reviews\n",
       "count  8878.000000  8.878000e+03\n",
       "mean      4.187745  4.729619e+05\n",
       "std       0.522572  2.906987e+06\n",
       "min       1.000000  1.000000e+00\n",
       "25%       4.000000  1.640000e+02\n",
       "50%       4.300000  4.708000e+03\n",
       "75%       4.500000  7.119725e+04\n",
       "max       5.000000  7.815831e+07"
      ]
     },
     "execution_count": 140,
     "metadata": {},
     "output_type": "execute_result"
    }
   ],
   "source": [
    "df.describe()"
   ]
  },
  {
   "cell_type": "code",
   "execution_count": 141,
   "id": "ed52d542",
   "metadata": {
    "execution": {
     "iopub.execute_input": "2022-11-21T18:29:58.538935Z",
     "iopub.status.busy": "2022-11-21T18:29:58.538098Z",
     "iopub.status.idle": "2022-11-21T18:29:58.547030Z",
     "shell.execute_reply": "2022-11-21T18:29:58.546183Z"
    },
    "id": "i2cZI46hb86y",
    "papermill": {
     "duration": 0.043128,
     "end_time": "2022-11-21T18:29:58.549297",
     "exception": false,
     "start_time": "2022-11-21T18:29:58.506169",
     "status": "completed"
    },
    "tags": []
   },
   "outputs": [],
   "source": [
    "# Переводим значения из колонки installs в float\n",
    " \n",
    "df.Installs= df[\"Installs\"].str.replace(\"+\", \"\")"
   ]
  },
  {
   "cell_type": "code",
   "execution_count": 142,
   "id": "2e64ffa7",
   "metadata": {
    "execution": {
     "iopub.execute_input": "2022-11-21T18:29:58.611608Z",
     "iopub.status.busy": "2022-11-21T18:29:58.611242Z",
     "iopub.status.idle": "2022-11-21T18:29:58.620954Z",
     "shell.execute_reply": "2022-11-21T18:29:58.619769Z"
    },
    "id": "9YxiVuQvcKZ6",
    "papermill": {
     "duration": 0.043251,
     "end_time": "2022-11-21T18:29:58.623161",
     "exception": false,
     "start_time": "2022-11-21T18:29:58.579910",
     "status": "completed"
    },
    "tags": []
   },
   "outputs": [],
   "source": [
    "# Переводим значения из колонки installs в float\n",
    "\n",
    "df.Installs= df[\"Installs\"].str.replace(\",\", \"\")"
   ]
  },
  {
   "cell_type": "code",
   "execution_count": 143,
   "id": "25c47886",
   "metadata": {
    "execution": {
     "iopub.execute_input": "2022-11-21T18:29:58.686571Z",
     "iopub.status.busy": "2022-11-21T18:29:58.686000Z",
     "iopub.status.idle": "2022-11-21T18:29:58.696236Z",
     "shell.execute_reply": "2022-11-21T18:29:58.695103Z"
    },
    "id": "c-omUThacjIp",
    "papermill": {
     "duration": 0.04396,
     "end_time": "2022-11-21T18:29:58.697998",
     "exception": false,
     "start_time": "2022-11-21T18:29:58.654038",
     "status": "completed"
    },
    "tags": []
   },
   "outputs": [],
   "source": [
    "df[\"Installs\"] = pd.to_numeric(df[\"Installs\"])"
   ]
  },
  {
   "cell_type": "code",
   "execution_count": 144,
   "id": "a677f6fc",
   "metadata": {
    "execution": {
     "iopub.execute_input": "2022-11-21T18:29:58.762043Z",
     "iopub.status.busy": "2022-11-21T18:29:58.761640Z",
     "iopub.status.idle": "2022-11-21T18:29:58.769274Z",
     "shell.execute_reply": "2022-11-21T18:29:58.768616Z"
    },
    "id": "9PO8Z8LfcqAF",
    "papermill": {
     "duration": 0.042036,
     "end_time": "2022-11-21T18:29:58.771199",
     "exception": false,
     "start_time": "2022-11-21T18:29:58.729163",
     "status": "completed"
    },
    "tags": []
   },
   "outputs": [],
   "source": [
    "\n",
    "df[\"Price\"]= df[\"Price\"].str.replace(\"$\", \"\")"
   ]
  },
  {
   "cell_type": "code",
   "execution_count": 145,
   "id": "a441e50b",
   "metadata": {
    "execution": {
     "iopub.execute_input": "2022-11-21T18:29:58.835443Z",
     "iopub.status.busy": "2022-11-21T18:29:58.835071Z",
     "iopub.status.idle": "2022-11-21T18:29:58.840582Z",
     "shell.execute_reply": "2022-11-21T18:29:58.839884Z"
    },
    "id": "rw7c9_FWcwpL",
    "papermill": {
     "duration": 0.040758,
     "end_time": "2022-11-21T18:29:58.843140",
     "exception": false,
     "start_time": "2022-11-21T18:29:58.802382",
     "status": "completed"
    },
    "tags": []
   },
   "outputs": [],
   "source": [
    "# Переводим значения из колонки price в float\n",
    "\n",
    "df[\"Price\"]= df.Price.astype(float)"
   ]
  },
  {
   "cell_type": "code",
   "execution_count": 146,
   "id": "73ece100",
   "metadata": {
    "execution": {
     "iopub.execute_input": "2022-11-21T18:29:58.906320Z",
     "iopub.status.busy": "2022-11-21T18:29:58.905693Z",
     "iopub.status.idle": "2022-11-21T18:29:58.929086Z",
     "shell.execute_reply": "2022-11-21T18:29:58.928198Z"
    },
    "id": "4kceO8eoc2Te",
    "outputId": "d08c104b-e92c-4b19-d4a9-026e6e6e3fe3",
    "papermill": {
     "duration": 0.056972,
     "end_time": "2022-11-21T18:29:58.930914",
     "exception": false,
     "start_time": "2022-11-21T18:29:58.873942",
     "status": "completed"
    },
    "tags": []
   },
   "outputs": [
    {
     "data": {
      "text/html": [
       "<div>\n",
       "<style scoped>\n",
       "    .dataframe tbody tr th:only-of-type {\n",
       "        vertical-align: middle;\n",
       "    }\n",
       "\n",
       "    .dataframe tbody tr th {\n",
       "        vertical-align: top;\n",
       "    }\n",
       "\n",
       "    .dataframe thead th {\n",
       "        text-align: right;\n",
       "    }\n",
       "</style>\n",
       "<table border=\"1\" class=\"dataframe\">\n",
       "  <thead>\n",
       "    <tr style=\"text-align: right;\">\n",
       "      <th></th>\n",
       "      <th>Rating</th>\n",
       "      <th>Reviews</th>\n",
       "      <th>Installs</th>\n",
       "      <th>Price</th>\n",
       "    </tr>\n",
       "  </thead>\n",
       "  <tbody>\n",
       "    <tr>\n",
       "      <th>count</th>\n",
       "      <td>8878.000000</td>\n",
       "      <td>8.878000e+03</td>\n",
       "      <td>8.878000e+03</td>\n",
       "      <td>8878.000000</td>\n",
       "    </tr>\n",
       "    <tr>\n",
       "      <th>mean</th>\n",
       "      <td>4.187745</td>\n",
       "      <td>4.729619e+05</td>\n",
       "      <td>1.649903e+07</td>\n",
       "      <td>0.963719</td>\n",
       "    </tr>\n",
       "    <tr>\n",
       "      <th>std</th>\n",
       "      <td>0.522572</td>\n",
       "      <td>2.906987e+06</td>\n",
       "      <td>8.643798e+07</td>\n",
       "      <td>16.201978</td>\n",
       "    </tr>\n",
       "    <tr>\n",
       "      <th>min</th>\n",
       "      <td>1.000000</td>\n",
       "      <td>1.000000e+00</td>\n",
       "      <td>1.000000e+00</td>\n",
       "      <td>0.000000</td>\n",
       "    </tr>\n",
       "    <tr>\n",
       "      <th>25%</th>\n",
       "      <td>4.000000</td>\n",
       "      <td>1.640000e+02</td>\n",
       "      <td>1.000000e+04</td>\n",
       "      <td>0.000000</td>\n",
       "    </tr>\n",
       "    <tr>\n",
       "      <th>50%</th>\n",
       "      <td>4.300000</td>\n",
       "      <td>4.708000e+03</td>\n",
       "      <td>5.000000e+05</td>\n",
       "      <td>0.000000</td>\n",
       "    </tr>\n",
       "    <tr>\n",
       "      <th>75%</th>\n",
       "      <td>4.500000</td>\n",
       "      <td>7.119725e+04</td>\n",
       "      <td>5.000000e+06</td>\n",
       "      <td>0.000000</td>\n",
       "    </tr>\n",
       "    <tr>\n",
       "      <th>max</th>\n",
       "      <td>5.000000</td>\n",
       "      <td>7.815831e+07</td>\n",
       "      <td>1.000000e+09</td>\n",
       "      <td>400.000000</td>\n",
       "    </tr>\n",
       "  </tbody>\n",
       "</table>\n",
       "</div>"
      ],
      "text/plain": [
       "            Rating       Reviews      Installs        Price\n",
       "count  8878.000000  8.878000e+03  8.878000e+03  8878.000000\n",
       "mean      4.187745  4.729619e+05  1.649903e+07     0.963719\n",
       "std       0.522572  2.906987e+06  8.643798e+07    16.201978\n",
       "min       1.000000  1.000000e+00  1.000000e+00     0.000000\n",
       "25%       4.000000  1.640000e+02  1.000000e+04     0.000000\n",
       "50%       4.300000  4.708000e+03  5.000000e+05     0.000000\n",
       "75%       4.500000  7.119725e+04  5.000000e+06     0.000000\n",
       "max       5.000000  7.815831e+07  1.000000e+09   400.000000"
      ]
     },
     "execution_count": 146,
     "metadata": {},
     "output_type": "execute_result"
    }
   ],
   "source": [
    "\n",
    "df.describe()"
   ]
  },
  {
   "cell_type": "code",
   "execution_count": 147,
   "id": "ac599ee7",
   "metadata": {
    "execution": {
     "iopub.execute_input": "2022-11-21T18:29:58.994918Z",
     "iopub.status.busy": "2022-11-21T18:29:58.994408Z",
     "iopub.status.idle": "2022-11-21T18:29:59.174378Z",
     "shell.execute_reply": "2022-11-21T18:29:59.173064Z"
    },
    "id": "9MmW_FO0c_PQ",
    "outputId": "2d5c6df6-42b3-4bf7-c850-93b4097be269",
    "papermill": {
     "duration": 0.215045,
     "end_time": "2022-11-21T18:29:59.177169",
     "exception": false,
     "start_time": "2022-11-21T18:29:58.962124",
     "status": "completed"
    },
    "tags": []
   },
   "outputs": [
    {
     "data": {
      "image/png": "[encoded data removed]",
      "text/plain": [
       "<Figure size 1000x500 with 2 Axes>"
      ]
     },
     "metadata": {},
     "output_type": "display_data"
    }
   ],
   "source": [
    "#Correlation Heatmap\n",
    "plt.figure(figsize=(10,5))\n",
    "corr= df.corr()\n",
    "sns.heatmap(corr, annot=True)\n",
    "plt.show()"
   ]
  },
  {
   "cell_type": "code",
   "execution_count": 148,
   "id": "52e33233",
   "metadata": {
    "execution": {
     "iopub.execute_input": "2022-11-21T18:29:59.320182Z",
     "iopub.status.busy": "2022-11-21T18:29:59.319782Z",
     "iopub.status.idle": "2022-11-21T18:29:59.335383Z",
     "shell.execute_reply": "2022-11-21T18:29:59.334276Z"
    },
    "id": "EwidBZPXdD4T",
    "papermill": {
     "duration": 0.050638,
     "end_time": "2022-11-21T18:29:59.337249",
     "exception": false,
     "start_time": "2022-11-21T18:29:59.286611",
     "status": "completed"
    },
    "tags": []
   },
   "outputs": [],
   "source": [
    "# Здесь мы используем метод .replace() для замены всех символов “M” в столбце “Size” на пустую строку\n",
    "# Здесь мы также используем метод .replace(), чтобы заменить все значения “Varies with device” на “-1”\n",
    "df.Size= df[\"Size\"].str.replace(\"M\", \"\")\n",
    "df.Size= df['Size'].str.replace(\"Varies with device\",\"-1\")"
   ]
  },
  {
   "cell_type": "code",
   "execution_count": 149,
   "id": "766a4942",
   "metadata": {
    "execution": {
     "iopub.execute_input": "2022-11-21T18:29:59.404842Z",
     "iopub.status.busy": "2022-11-21T18:29:59.404443Z",
     "iopub.status.idle": "2022-11-21T18:29:59.412729Z",
     "shell.execute_reply": "2022-11-21T18:29:59.411682Z"
    },
    "id": "2euGRdfNdpJX",
    "papermill": {
     "duration": 0.044614,
     "end_time": "2022-11-21T18:29:59.415085",
     "exception": false,
     "start_time": "2022-11-21T18:29:59.370471",
     "status": "completed"
    },
    "tags": []
   },
   "outputs": [],
   "source": [
    "#в результате выполнения этого кода, значения в столбце “Size” будут представлены в мегабайтах, а строки с “k” в конце будут преобразованы в соответствующие значения в мегабайтах.\n",
    "df['Size']=df['Size'].apply(lambda x: str(round((float(x.rstrip('k'))/1024),1) )if x[-1]=='k' else x)"
   ]
  },
  {
   "cell_type": "code",
   "execution_count": 150,
   "id": "68066ef4",
   "metadata": {
    "execution": {
     "iopub.execute_input": "2022-11-21T18:29:59.554833Z",
     "iopub.status.busy": "2022-11-21T18:29:59.554486Z",
     "iopub.status.idle": "2022-11-21T18:29:59.560589Z",
     "shell.execute_reply": "2022-11-21T18:29:59.559789Z"
    },
    "id": "68RSoecUOelg",
    "papermill": {
     "duration": 0.04096,
     "end_time": "2022-11-21T18:29:59.562474",
     "exception": false,
     "start_time": "2022-11-21T18:29:59.521514",
     "status": "completed"
    },
    "tags": []
   },
   "outputs": [],
   "source": [
    "#Поскольку столбцы \"Genres\" и \"Category\" совпадают, мы удаляем столбец \"Genres\".\n",
    "#Также столбцы “Android Version”, “Current Version” и “Last Updated” не представляют для нас интереса, поэтому мы удаляем их \n",
    "df.drop(['Genres','Last Updated','Current Ver',\"Android Ver\"],axis=1,inplace=True)"
   ]
  },
  {
   "cell_type": "code",
   "execution_count": 151,
   "id": "a421ca41",
   "metadata": {
    "execution": {
     "iopub.execute_input": "2022-11-21T18:29:59.628065Z",
     "iopub.status.busy": "2022-11-21T18:29:59.627112Z",
     "iopub.status.idle": "2022-11-21T18:29:59.641246Z",
     "shell.execute_reply": "2022-11-21T18:29:59.640371Z"
    },
    "id": "1JY81-HuPvb8",
    "outputId": "39fdec8a-f7ad-4108-9c82-cbd3dd9da67c",
    "papermill": {
     "duration": 0.049066,
     "end_time": "2022-11-21T18:29:59.643047",
     "exception": false,
     "start_time": "2022-11-21T18:29:59.593981",
     "status": "completed"
    },
    "tags": []
   },
   "outputs": [
    {
     "data": {
      "text/html": [
       "<div>\n",
       "<style scoped>\n",
       "    .dataframe tbody tr th:only-of-type {\n",
       "        vertical-align: middle;\n",
       "    }\n",
       "\n",
       "    .dataframe tbody tr th {\n",
       "        vertical-align: top;\n",
       "    }\n",
       "\n",
       "    .dataframe thead th {\n",
       "        text-align: right;\n",
       "    }\n",
       "</style>\n",
       "<table border=\"1\" class=\"dataframe\">\n",
       "  <thead>\n",
       "    <tr style=\"text-align: right;\">\n",
       "      <th></th>\n",
       "      <th>App</th>\n",
       "      <th>Category</th>\n",
       "      <th>Rating</th>\n",
       "      <th>Reviews</th>\n",
       "      <th>Size</th>\n",
       "      <th>Installs</th>\n",
       "      <th>Type</th>\n",
       "      <th>Price</th>\n",
       "      <th>Content Rating</th>\n",
       "    </tr>\n",
       "    <tr>\n",
       "      <th>id</th>\n",
       "      <th></th>\n",
       "      <th></th>\n",
       "      <th></th>\n",
       "      <th></th>\n",
       "      <th></th>\n",
       "      <th></th>\n",
       "      <th></th>\n",
       "      <th></th>\n",
       "      <th></th>\n",
       "    </tr>\n",
       "  </thead>\n",
       "  <tbody>\n",
       "    <tr>\n",
       "      <th>0</th>\n",
       "      <td>Photo Editor &amp; Candy Camera &amp; Grid &amp; ScrapBook</td>\n",
       "      <td>ART_AND_DESIGN</td>\n",
       "      <td>4.1</td>\n",
       "      <td>159.0</td>\n",
       "      <td>19</td>\n",
       "      <td>10000</td>\n",
       "      <td>Free</td>\n",
       "      <td>0.0</td>\n",
       "      <td>Everyone</td>\n",
       "    </tr>\n",
       "    <tr>\n",
       "      <th>1</th>\n",
       "      <td>Coloring book moana</td>\n",
       "      <td>ART_AND_DESIGN</td>\n",
       "      <td>3.9</td>\n",
       "      <td>967.0</td>\n",
       "      <td>14</td>\n",
       "      <td>500000</td>\n",
       "      <td>Free</td>\n",
       "      <td>0.0</td>\n",
       "      <td>Everyone</td>\n",
       "    </tr>\n",
       "    <tr>\n",
       "      <th>2</th>\n",
       "      <td>U Launcher Lite – FREE Live Cool Themes, Hide ...</td>\n",
       "      <td>ART_AND_DESIGN</td>\n",
       "      <td>4.7</td>\n",
       "      <td>87510.0</td>\n",
       "      <td>8.7</td>\n",
       "      <td>5000000</td>\n",
       "      <td>Free</td>\n",
       "      <td>0.0</td>\n",
       "      <td>Everyone</td>\n",
       "    </tr>\n",
       "    <tr>\n",
       "      <th>3</th>\n",
       "      <td>Sketch - Draw &amp; Paint</td>\n",
       "      <td>ART_AND_DESIGN</td>\n",
       "      <td>4.5</td>\n",
       "      <td>215644.0</td>\n",
       "      <td>25</td>\n",
       "      <td>50000000</td>\n",
       "      <td>Free</td>\n",
       "      <td>0.0</td>\n",
       "      <td>Teen</td>\n",
       "    </tr>\n",
       "    <tr>\n",
       "      <th>4</th>\n",
       "      <td>Pixel Draw - Number Art Coloring Book</td>\n",
       "      <td>ART_AND_DESIGN</td>\n",
       "      <td>4.3</td>\n",
       "      <td>967.0</td>\n",
       "      <td>2.8</td>\n",
       "      <td>100000</td>\n",
       "      <td>Free</td>\n",
       "      <td>0.0</td>\n",
       "      <td>Everyone</td>\n",
       "    </tr>\n",
       "  </tbody>\n",
       "</table>\n",
       "</div>"
      ],
      "text/plain": [
       "                                                  App        Category  Rating  \\\n",
       "id                                                                              \n",
       "0      Photo Editor & Candy Camera & Grid & ScrapBook  ART_AND_DESIGN     4.1   \n",
       "1                                 Coloring book moana  ART_AND_DESIGN     3.9   \n",
       "2   U Launcher Lite – FREE Live Cool Themes, Hide ...  ART_AND_DESIGN     4.7   \n",
       "3                               Sketch - Draw & Paint  ART_AND_DESIGN     4.5   \n",
       "4               Pixel Draw - Number Art Coloring Book  ART_AND_DESIGN     4.3   \n",
       "\n",
       "     Reviews Size  Installs  Type  Price Content Rating  \n",
       "id                                                       \n",
       "0      159.0   19     10000  Free    0.0       Everyone  \n",
       "1      967.0   14    500000  Free    0.0       Everyone  \n",
       "2    87510.0  8.7   5000000  Free    0.0       Everyone  \n",
       "3   215644.0   25  50000000  Free    0.0           Teen  \n",
       "4      967.0  2.8    100000  Free    0.0       Everyone  "
      ]
     },
     "execution_count": 151,
     "metadata": {},
     "output_type": "execute_result"
    }
   ],
   "source": [
    "\n",
    "df.head()"
   ]
  },
  {
   "cell_type": "code",
   "execution_count": 152,
   "id": "07ee4165",
   "metadata": {
    "execution": {
     "iopub.execute_input": "2022-11-21T18:29:59.711685Z",
     "iopub.status.busy": "2022-11-21T18:29:59.711090Z",
     "iopub.status.idle": "2022-11-21T18:29:59.717867Z",
     "shell.execute_reply": "2022-11-21T18:29:59.716976Z"
    },
    "id": "ZuC_pPMrxx6T",
    "papermill": {
     "duration": 0.044011,
     "end_time": "2022-11-21T18:29:59.720141",
     "exception": false,
     "start_time": "2022-11-21T18:29:59.676130",
     "status": "completed"
    },
    "tags": []
   },
   "outputs": [],
   "source": [
    "#Здесь мы найдем количество оценок для каждой возможной средней оценки\n",
    "rating_highest=df.Rating.value_counts()\n"
   ]
  },
  {
   "cell_type": "code",
   "execution_count": 153,
   "id": "79fe9d39",
   "metadata": {
    "execution": {
     "iopub.execute_input": "2022-11-21T18:29:59.786988Z",
     "iopub.status.busy": "2022-11-21T18:29:59.786600Z",
     "iopub.status.idle": "2022-11-21T18:29:59.795821Z",
     "shell.execute_reply": "2022-11-21T18:29:59.794867Z"
    },
    "id": "meKJVCrm2Zt4",
    "outputId": "7fc0d843-ed1d-4eed-bc8d-caef5b4c1d71",
    "papermill": {
     "duration": 0.045087,
     "end_time": "2022-11-21T18:29:59.797693",
     "exception": false,
     "start_time": "2022-11-21T18:29:59.752606",
     "status": "completed"
    },
    "tags": []
   },
   "outputs": [
    {
     "data": {
      "text/plain": [
       "4.4    1030\n",
       "4.3    1016\n",
       "4.5     975\n",
       "4.2     885\n",
       "4.6     767\n",
       "4.1     655\n",
       "4.0     538\n",
       "4.7     482\n",
       "3.9     372\n",
       "3.8     293\n",
       "5.0     271\n",
       "3.7     231\n",
       "4.8     228\n",
       "3.6     169\n",
       "3.5     157\n",
       "3.4     127\n",
       "3.3     101\n",
       "4.9      87\n",
       "3.0      82\n",
       "3.1      69\n",
       "3.2      63\n",
       "2.9      45\n",
       "2.8      40\n",
       "2.6      24\n",
       "2.7      23\n",
       "2.5      20\n",
       "2.3      20\n",
       "2.4      19\n",
       "1.0      16\n",
       "2.2      14\n",
       "1.9      12\n",
       "2.0      12\n",
       "1.7       8\n",
       "1.8       8\n",
       "2.1       8\n",
       "1.6       4\n",
       "1.4       3\n",
       "1.5       3\n",
       "1.2       1\n",
       "Name: Rating, dtype: int64"
      ]
     },
     "execution_count": 153,
     "metadata": {},
     "output_type": "execute_result"
    }
   ],
   "source": [
    "df.Rating.value_counts()"
   ]
  },
  {
   "cell_type": "code",
   "execution_count": 154,
   "id": "8764c0cd",
   "metadata": {
    "execution": {
     "iopub.execute_input": "2022-11-21T18:29:59.864291Z",
     "iopub.status.busy": "2022-11-21T18:29:59.863805Z",
     "iopub.status.idle": "2022-11-21T18:29:59.993055Z",
     "shell.execute_reply": "2022-11-21T18:29:59.992299Z"
    },
    "id": "xQBcTH3ZLjrA",
    "outputId": "ab1acd08-5ac2-40a4-c493-19aca4ab744c",
    "papermill": {
     "duration": 0.165018,
     "end_time": "2022-11-21T18:29:59.995135",
     "exception": false,
     "start_time": "2022-11-21T18:29:59.830117",
     "status": "completed"
    },
    "tags": []
   },
   "outputs": [
    {
     "data": {
      "image/png": "[encoded data removed]",
      "text/plain": [
       "<Figure size 640x480 with 1 Axes>"
      ]
     },
     "metadata": {},
     "output_type": "display_data"
    }
   ],
   "source": [
    "fig = plt.figure()\n",
    "fig.suptitle('Boxplot', fontsize=14, fontweight='bold')\n",
    "\n",
    "ax = fig.add_subplot(111)\n",
    "ax.boxplot(df['Rating'])\n",
    "ax.set_title('Rating class v/s rating')\n",
    "ax.set_xlabel('Rating class')\n",
    "ax.set_ylabel('Rating')\n",
    "\n",
    "plt.show()"
   ]
  },
  {
   "cell_type": "code",
   "execution_count": 155,
   "id": "80df9928",
   "metadata": {
    "execution": {
     "iopub.execute_input": "2022-11-21T18:30:00.063870Z",
     "iopub.status.busy": "2022-11-21T18:30:00.063112Z",
     "iopub.status.idle": "2022-11-21T18:30:00.536242Z",
     "shell.execute_reply": "2022-11-21T18:30:00.535276Z"
    },
    "id": "kg39v_DoejMD",
    "outputId": "4e8553ba-5dba-4a4f-b33a-3f079c85e804",
    "papermill": {
     "duration": 0.508352,
     "end_time": "2022-11-21T18:30:00.538090",
     "exception": false,
     "start_time": "2022-11-21T18:30:00.029738",
     "status": "completed"
    },
    "tags": []
   },
   "outputs": [
    {
     "data": {
      "image/png": "[encoded data removed]",
      "text/plain": [
       "<Figure size 1500x1000 with 1 Axes>"
      ]
     },
     "metadata": {},
     "output_type": "display_data"
    }
   ],
   "source": [
    "# Создаем график, отображающий количество оценок для каждой возможной средней оценки\n",
    "plt.figure(figsize=(15,10))\n",
    "sns.set_theme(style=\"darkgrid\")\n",
    "plt.xticks(rotation=90)\n",
    "plt.title(\"Rating V/s Count\")\n",
    "ax = sns.countplot(x=\"Rating\", data=df)"
   ]
  },
  {
   "cell_type": "code",
   "execution_count": 156,
   "id": "1f4bde13",
   "metadata": {
    "execution": {
     "iopub.execute_input": "2022-11-21T18:30:00.607071Z",
     "iopub.status.busy": "2022-11-21T18:30:00.605329Z",
     "iopub.status.idle": "2022-11-21T18:30:00.753312Z",
     "shell.execute_reply": "2022-11-21T18:30:00.752674Z"
    },
    "id": "u_VSRV_G2455",
    "outputId": "63377e91-20dc-41a0-b017-ca0bf31ad9b5",
    "papermill": {
     "duration": 0.18372,
     "end_time": "2022-11-21T18:30:00.755079",
     "exception": false,
     "start_time": "2022-11-21T18:30:00.571359",
     "status": "completed"
    },
    "tags": []
   },
   "outputs": [
    {
     "data": {
      "image/png": "[encoded data removed]",
      "text/plain": [
       "<Figure size 640x480 with 1 Axes>"
      ]
     },
     "metadata": {},
     "output_type": "display_data"
    }
   ],
   "source": [
    "# Посмотрим на 5 самых популярных оценок\n",
    "df[\"Rating\"].value_counts().nlargest(5).sort_values(ascending=True).plot.bar()\n",
    "plt.ylabel(\"Count\")\n",
    "plt.xlabel(\"Rating\")\n",
    "plt.title(\"Playstore - Top 5 App Rating count\")\n",
    "plt.xticks(rotation=45)\n",
    "\n",
    "plt.show()"
   ]
  },
  {
   "cell_type": "code",
   "execution_count": 157,
   "id": "0fca6de4",
   "metadata": {
    "execution": {
     "iopub.execute_input": "2022-11-21T18:30:00.822164Z",
     "iopub.status.busy": "2022-11-21T18:30:00.821096Z",
     "iopub.status.idle": "2022-11-21T18:30:00.829543Z",
     "shell.execute_reply": "2022-11-21T18:30:00.828462Z"
    },
    "id": "m_5bpu9acAUZ",
    "papermill": {
     "duration": 0.043917,
     "end_time": "2022-11-21T18:30:00.831409",
     "exception": false,
     "start_time": "2022-11-21T18:30:00.787492",
     "status": "completed"
    },
    "tags": []
   },
   "outputs": [],
   "source": [
    "# Разделим приложения на классы по рейтингу\n",
    "app_rating1=df[df['Rating'] >= 4]\n",
    "app_rating2=df[(df['Rating'] < 4) & (df['Rating'] > 3 )]\n",
    "app_rating3= df[df['Rating'] <=3]"
   ]
  },
  {
   "cell_type": "code",
   "execution_count": 158,
   "id": "fb4e566c",
   "metadata": {
    "execution": {
     "iopub.execute_input": "2022-11-21T18:30:00.897954Z",
     "iopub.status.busy": "2022-11-21T18:30:00.897302Z",
     "iopub.status.idle": "2022-11-21T18:30:00.904763Z",
     "shell.execute_reply": "2022-11-21T18:30:00.902989Z"
    },
    "id": "teKIvGYUftLA",
    "outputId": "f0706624-af96-439c-b694-a6af4f18a4b8",
    "papermill": {
     "duration": 0.043092,
     "end_time": "2022-11-21T18:30:00.906811",
     "exception": false,
     "start_time": "2022-11-21T18:30:00.863719",
     "status": "completed"
    },
    "tags": []
   },
   "outputs": [
    {
     "data": {
      "text/plain": [
       "((6934, 9), (1582, 9), (362, 9))"
      ]
     },
     "execution_count": 158,
     "metadata": {},
     "output_type": "execute_result"
    }
   ],
   "source": [
    "app_rating1.shape,app_rating2.shape,app_rating3.shape"
   ]
  },
  {
   "cell_type": "code",
   "execution_count": 159,
   "id": "f7f2e582",
   "metadata": {
    "execution": {
     "iopub.execute_input": "2022-11-21T18:30:00.974207Z",
     "iopub.status.busy": "2022-11-21T18:30:00.973815Z",
     "iopub.status.idle": "2022-11-21T18:30:01.111974Z",
     "shell.execute_reply": "2022-11-21T18:30:01.111216Z"
    },
    "id": "coMhto1vf8DX",
    "outputId": "79f9d0cc-801b-4f84-8943-244185ada4be",
    "papermill": {
     "duration": 0.173939,
     "end_time": "2022-11-21T18:30:01.113864",
     "exception": false,
     "start_time": "2022-11-21T18:30:00.939925",
     "status": "completed"
    },
    "tags": []
   },
   "outputs": [
    {
     "data": {
      "image/png": "[encoded data removed]",
      "text/plain": [
       "<Figure size 500x500 with 1 Axes>"
      ]
     },
     "metadata": {},
     "output_type": "display_data"
    }
   ],
   "source": [
    "# создадим столбчатую диаграмму, показывающую распределение рейтингов приложений в разных категориях\n",
    "data = {'Rating between 4 to 5':6934, 'Rating between 4 to 3':1582, 'Rating less than 3':362}\n",
    "courses = list(data.keys())\n",
    "values = list(data.values())\n",
    "\n",
    "fig = plt.figure(figsize = (5, 5))\n",
    "\n",
    "plt.bar(courses, values, color ='blue',width =0.4)\n",
    "\n",
    "plt.xlabel(\"Playstore app rating\")\n",
    "plt.ylabel(\"Range\")\n",
    "plt.title(\"Google play store app\")\n",
    "plt.xticks(rotation=90)\n",
    "plt.show()"
   ]
  },
  {
   "cell_type": "code",
   "execution_count": 160,
   "id": "8087991b",
   "metadata": {
    "execution": {
     "iopub.execute_input": "2022-11-21T18:30:01.185117Z",
     "iopub.status.busy": "2022-11-21T18:30:01.184282Z",
     "iopub.status.idle": "2022-11-21T18:30:01.402002Z",
     "shell.execute_reply": "2022-11-21T18:30:01.400934Z"
    },
    "id": "EbgzD0s4tSn4",
    "outputId": "3e9424ab-bc0e-4930-d9e6-9f85fdba308d",
    "papermill": {
     "duration": 0.253701,
     "end_time": "2022-11-21T18:30:01.403764",
     "exception": false,
     "start_time": "2022-11-21T18:30:01.150063",
     "status": "completed"
    },
    "tags": []
   },
   "outputs": [
    {
     "data": {
      "text/plain": [
       "<function matplotlib.pyplot.show(close=None, block=None)>"
      ]
     },
     "execution_count": 160,
     "metadata": {},
     "output_type": "execute_result"
    },
    {
     "data": {
      "image/png": "[encoded data removed]",
      "text/plain": [
       "<Figure size 640x480 with 1 Axes>"
      ]
     },
     "metadata": {},
     "output_type": "display_data"
    }
   ],
   "source": [
    "# Также гистограмма с распределением рейтинга\n",
    "app_rating= df[\"Rating\"]\n",
    "num_bins=7\n",
    "plt.hist(app_rating, num_bins, facecolor=\"green\", alpha = 1)\n",
    "plt.title('Playstore App Rating')\n",
    "plt.xlabel(\" Rating\")\n",
    "plt.ylabel(\"Number of Apps\")\n",
    "plt.show"
   ]
  },
  {
   "cell_type": "code",
   "execution_count": 161,
   "id": "88e866a6",
   "metadata": {
    "execution": {
     "iopub.execute_input": "2022-11-21T18:30:01.472757Z",
     "iopub.status.busy": "2022-11-21T18:30:01.472153Z",
     "iopub.status.idle": "2022-11-21T18:30:01.477160Z",
     "shell.execute_reply": "2022-11-21T18:30:01.476121Z"
    },
    "id": "IAFuWomb4_p6",
    "papermill": {
     "duration": 0.041911,
     "end_time": "2022-11-21T18:30:01.479018",
     "exception": false,
     "start_time": "2022-11-21T18:30:01.437107",
     "status": "completed"
    },
    "tags": []
   },
   "outputs": [],
   "source": [
    "# найдем приложения с рейтингом 5\n",
    "df1=df[df['Rating']==5]"
   ]
  },
  {
   "cell_type": "code",
   "execution_count": 162,
   "id": "61b4fa3e",
   "metadata": {
    "execution": {
     "iopub.execute_input": "2022-11-21T18:30:01.549040Z",
     "iopub.status.busy": "2022-11-21T18:30:01.547704Z",
     "iopub.status.idle": "2022-11-21T18:30:01.563040Z",
     "shell.execute_reply": "2022-11-21T18:30:01.561854Z"
    },
    "id": "Tbjo3a195Gkl",
    "outputId": "53d5a5e1-0baf-4d2a-8381-3513a502cf87",
    "papermill": {
     "duration": 0.052453,
     "end_time": "2022-11-21T18:30:01.565332",
     "exception": false,
     "start_time": "2022-11-21T18:30:01.512879",
     "status": "completed"
    },
    "tags": []
   },
   "outputs": [
    {
     "name": "stdout",
     "output_type": "stream",
     "text": [
      "<class 'pandas.core.frame.DataFrame'>\n",
      "Int64Index: 271 entries, 283 to 8875\n",
      "Data columns (total 9 columns):\n",
      " #   Column          Non-Null Count  Dtype  \n",
      "---  ------          --------------  -----  \n",
      " 0   App             271 non-null    object \n",
      " 1   Category        271 non-null    object \n",
      " 2   Rating          271 non-null    float64\n",
      " 3   Reviews         271 non-null    float64\n",
      " 4   Size            271 non-null    object \n",
      " 5   Installs        271 non-null    int64  \n",
      " 6   Type            271 non-null    object \n",
      " 7   Price           271 non-null    float64\n",
      " 8   Content Rating  271 non-null    object \n",
      "dtypes: float64(3), int64(1), object(5)\n",
      "memory usage: 21.2+ KB\n"
     ]
    }
   ],
   "source": [
    "# таким приложений 271\n",
    "df1.info()"
   ]
  },
  {
   "cell_type": "code",
   "execution_count": 163,
   "id": "59761cc1",
   "metadata": {
    "execution": {
     "iopub.execute_input": "2022-11-21T18:30:01.633022Z",
     "iopub.status.busy": "2022-11-21T18:30:01.632700Z",
     "iopub.status.idle": "2022-11-21T18:30:01.656169Z",
     "shell.execute_reply": "2022-11-21T18:30:01.655172Z"
    },
    "id": "wBPu-Mt35h_e",
    "outputId": "b4309033-9233-4558-ff3d-74ec2c0d6038",
    "papermill": {
     "duration": 0.060089,
     "end_time": "2022-11-21T18:30:01.658814",
     "exception": false,
     "start_time": "2022-11-21T18:30:01.598725",
     "status": "completed"
    },
    "tags": []
   },
   "outputs": [
    {
     "data": {
      "text/html": [
       "<div>\n",
       "<style scoped>\n",
       "    .dataframe tbody tr th:only-of-type {\n",
       "        vertical-align: middle;\n",
       "    }\n",
       "\n",
       "    .dataframe tbody tr th {\n",
       "        vertical-align: top;\n",
       "    }\n",
       "\n",
       "    .dataframe thead th {\n",
       "        text-align: right;\n",
       "    }\n",
       "</style>\n",
       "<table border=\"1\" class=\"dataframe\">\n",
       "  <thead>\n",
       "    <tr style=\"text-align: right;\">\n",
       "      <th></th>\n",
       "      <th>App</th>\n",
       "      <th>Category</th>\n",
       "      <th>Rating</th>\n",
       "      <th>Reviews</th>\n",
       "      <th>Size</th>\n",
       "      <th>Installs</th>\n",
       "      <th>Type</th>\n",
       "      <th>Price</th>\n",
       "      <th>Content Rating</th>\n",
       "    </tr>\n",
       "    <tr>\n",
       "      <th>id</th>\n",
       "      <th></th>\n",
       "      <th></th>\n",
       "      <th></th>\n",
       "      <th></th>\n",
       "      <th></th>\n",
       "      <th></th>\n",
       "      <th></th>\n",
       "      <th></th>\n",
       "      <th></th>\n",
       "    </tr>\n",
       "  </thead>\n",
       "  <tbody>\n",
       "    <tr>\n",
       "      <th>7868</th>\n",
       "      <td>Ek Bander Ne Kholi Dukan</td>\n",
       "      <td>FAMILY</td>\n",
       "      <td>5.0</td>\n",
       "      <td>10.0</td>\n",
       "      <td>3.0</td>\n",
       "      <td>10000</td>\n",
       "      <td>Free</td>\n",
       "      <td>0.00</td>\n",
       "      <td>Everyone</td>\n",
       "    </tr>\n",
       "    <tr>\n",
       "      <th>6711</th>\n",
       "      <td>Oración CX</td>\n",
       "      <td>LIFESTYLE</td>\n",
       "      <td>5.0</td>\n",
       "      <td>103.0</td>\n",
       "      <td>3.8</td>\n",
       "      <td>5000</td>\n",
       "      <td>Free</td>\n",
       "      <td>0.00</td>\n",
       "      <td>Everyone</td>\n",
       "    </tr>\n",
       "    <tr>\n",
       "      <th>6861</th>\n",
       "      <td>Superheroes, Marvel, DC, Comics, TV, Movies News</td>\n",
       "      <td>COMICS</td>\n",
       "      <td>5.0</td>\n",
       "      <td>34.0</td>\n",
       "      <td>12</td>\n",
       "      <td>5000</td>\n",
       "      <td>Free</td>\n",
       "      <td>0.00</td>\n",
       "      <td>Everyone</td>\n",
       "    </tr>\n",
       "    <tr>\n",
       "      <th>6239</th>\n",
       "      <td>CL Keyboard - Myanmar Keyboard (No Ads)</td>\n",
       "      <td>TOOLS</td>\n",
       "      <td>5.0</td>\n",
       "      <td>24.0</td>\n",
       "      <td>3.2</td>\n",
       "      <td>5000</td>\n",
       "      <td>Free</td>\n",
       "      <td>0.00</td>\n",
       "      <td>Everyone</td>\n",
       "    </tr>\n",
       "    <tr>\n",
       "      <th>8544</th>\n",
       "      <td>Ríos de Fe</td>\n",
       "      <td>LIFESTYLE</td>\n",
       "      <td>5.0</td>\n",
       "      <td>141.0</td>\n",
       "      <td>15</td>\n",
       "      <td>1000</td>\n",
       "      <td>Free</td>\n",
       "      <td>0.00</td>\n",
       "      <td>Everyone</td>\n",
       "    </tr>\n",
       "    <tr>\n",
       "      <th>...</th>\n",
       "      <td>...</td>\n",
       "      <td>...</td>\n",
       "      <td>...</td>\n",
       "      <td>...</td>\n",
       "      <td>...</td>\n",
       "      <td>...</td>\n",
       "      <td>...</td>\n",
       "      <td>...</td>\n",
       "      <td>...</td>\n",
       "    </tr>\n",
       "    <tr>\n",
       "      <th>2063</th>\n",
       "      <td>Anatomy &amp; Physiology Vocabulary Exam Review App</td>\n",
       "      <td>MEDICAL</td>\n",
       "      <td>5.0</td>\n",
       "      <td>1.0</td>\n",
       "      <td>4.6</td>\n",
       "      <td>5</td>\n",
       "      <td>Free</td>\n",
       "      <td>0.00</td>\n",
       "      <td>Everyone</td>\n",
       "    </tr>\n",
       "    <tr>\n",
       "      <th>7637</th>\n",
       "      <td>EB Cash Collections</td>\n",
       "      <td>BUSINESS</td>\n",
       "      <td>5.0</td>\n",
       "      <td>1.0</td>\n",
       "      <td>4.3</td>\n",
       "      <td>5</td>\n",
       "      <td>Free</td>\n",
       "      <td>0.00</td>\n",
       "      <td>Everyone</td>\n",
       "    </tr>\n",
       "    <tr>\n",
       "      <th>2059</th>\n",
       "      <td>KBA-EZ Health Guide</td>\n",
       "      <td>MEDICAL</td>\n",
       "      <td>5.0</td>\n",
       "      <td>4.0</td>\n",
       "      <td>25</td>\n",
       "      <td>1</td>\n",
       "      <td>Free</td>\n",
       "      <td>0.00</td>\n",
       "      <td>Everyone</td>\n",
       "    </tr>\n",
       "    <tr>\n",
       "      <th>5079</th>\n",
       "      <td>Ra Ga Ba</td>\n",
       "      <td>GAME</td>\n",
       "      <td>5.0</td>\n",
       "      <td>2.0</td>\n",
       "      <td>20</td>\n",
       "      <td>1</td>\n",
       "      <td>Paid</td>\n",
       "      <td>1.49</td>\n",
       "      <td>Everyone</td>\n",
       "    </tr>\n",
       "    <tr>\n",
       "      <th>8779</th>\n",
       "      <td>Mu.F.O.</td>\n",
       "      <td>GAME</td>\n",
       "      <td>5.0</td>\n",
       "      <td>2.0</td>\n",
       "      <td>16</td>\n",
       "      <td>1</td>\n",
       "      <td>Paid</td>\n",
       "      <td>0.99</td>\n",
       "      <td>Everyone</td>\n",
       "    </tr>\n",
       "  </tbody>\n",
       "</table>\n",
       "<p>271 rows × 9 columns</p>\n",
       "</div>"
      ],
      "text/plain": [
       "                                                   App   Category  Rating  \\\n",
       "id                                                                          \n",
       "7868                          Ek Bander Ne Kholi Dukan     FAMILY     5.0   \n",
       "6711                                        Oración CX  LIFESTYLE     5.0   \n",
       "6861  Superheroes, Marvel, DC, Comics, TV, Movies News     COMICS     5.0   \n",
       "6239           CL Keyboard - Myanmar Keyboard (No Ads)      TOOLS     5.0   \n",
       "8544                                        Ríos de Fe  LIFESTYLE     5.0   \n",
       "...                                                ...        ...     ...   \n",
       "2063   Anatomy & Physiology Vocabulary Exam Review App    MEDICAL     5.0   \n",
       "7637                               EB Cash Collections   BUSINESS     5.0   \n",
       "2059                               KBA-EZ Health Guide    MEDICAL     5.0   \n",
       "5079                                          Ra Ga Ba       GAME     5.0   \n",
       "8779                                           Mu.F.O.       GAME     5.0   \n",
       "\n",
       "      Reviews Size  Installs  Type  Price Content Rating  \n",
       "id                                                        \n",
       "7868     10.0  3.0     10000  Free   0.00       Everyone  \n",
       "6711    103.0  3.8      5000  Free   0.00       Everyone  \n",
       "6861     34.0   12      5000  Free   0.00       Everyone  \n",
       "6239     24.0  3.2      5000  Free   0.00       Everyone  \n",
       "8544    141.0   15      1000  Free   0.00       Everyone  \n",
       "...       ...  ...       ...   ...    ...            ...  \n",
       "2063      1.0  4.6         5  Free   0.00       Everyone  \n",
       "7637      1.0  4.3         5  Free   0.00       Everyone  \n",
       "2059      4.0   25         1  Free   0.00       Everyone  \n",
       "5079      2.0   20         1  Paid   1.49       Everyone  \n",
       "8779      2.0   16         1  Paid   0.99       Everyone  \n",
       "\n",
       "[271 rows x 9 columns]"
      ]
     },
     "execution_count": 163,
     "metadata": {},
     "output_type": "execute_result"
    }
   ],
   "source": [
    "df1=df1.sort_values(by=['Installs','Reviews'], ascending=False)\n",
    "df1"
   ]
  },
  {
   "cell_type": "code",
   "execution_count": 164,
   "id": "c7789039",
   "metadata": {
    "execution": {
     "iopub.execute_input": "2022-11-21T18:30:01.729610Z",
     "iopub.status.busy": "2022-11-21T18:30:01.729072Z",
     "iopub.status.idle": "2022-11-21T18:30:01.737417Z",
     "shell.execute_reply": "2022-11-21T18:30:01.736619Z"
    },
    "id": "WlltbuLs63am",
    "outputId": "1530df39-9738-4646-9b54-f707093c5afa",
    "papermill": {
     "duration": 0.046244,
     "end_time": "2022-11-21T18:30:01.739188",
     "exception": false,
     "start_time": "2022-11-21T18:30:01.692944",
     "status": "completed"
    },
    "tags": []
   },
   "outputs": [
    {
     "data": {
      "text/plain": [
       "FAMILY                 67\n",
       "LIFESTYLE              29\n",
       "MEDICAL                25\n",
       "BUSINESS               18\n",
       "TOOLS                  17\n",
       "GAME                   12\n",
       "HEALTH_AND_FITNESS     12\n",
       "PERSONALIZATION        10\n",
       "SOCIAL                  8\n",
       "PRODUCTIVITY            8\n",
       "FINANCE                 8\n",
       "NEWS_AND_MAGAZINES      7\n",
       "BOOKS_AND_REFERENCE     6\n",
       "SHOPPING                6\n",
       "DATING                  6\n",
       "EVENTS                  6\n",
       "PHOTOGRAPHY             6\n",
       "COMMUNICATION           5\n",
       "SPORTS                  4\n",
       "TRAVEL_AND_LOCAL        3\n",
       "LIBRARIES_AND_DEMO      2\n",
       "COMICS                  2\n",
       "FOOD_AND_DRINK          2\n",
       "ART_AND_DESIGN          1\n",
       "PARENTING               1\n",
       "Name: Category, dtype: int64"
      ]
     },
     "execution_count": 164,
     "metadata": {},
     "output_type": "execute_result"
    }
   ],
   "source": [
    "df1.Category.value_counts(ascending=False)"
   ]
  },
  {
   "cell_type": "code",
   "execution_count": 165,
   "id": "b475e203",
   "metadata": {
    "execution": {
     "iopub.execute_input": "2022-11-21T18:30:01.808550Z",
     "iopub.status.busy": "2022-11-21T18:30:01.808165Z",
     "iopub.status.idle": "2022-11-21T18:30:01.963940Z",
     "shell.execute_reply": "2022-11-21T18:30:01.963109Z"
    },
    "id": "I63f7zMI7hKC",
    "outputId": "18f97783-843d-4736-bf70-4008be41c229",
    "papermill": {
     "duration": 0.192847,
     "end_time": "2022-11-21T18:30:01.965992",
     "exception": false,
     "start_time": "2022-11-21T18:30:01.773145",
     "status": "completed"
    },
    "tags": []
   },
   "outputs": [
    {
     "data": {
      "image/png": "[encoded data removed]",
      "text/plain": [
       "<Figure size 640x480 with 1 Axes>"
      ]
     },
     "metadata": {},
     "output_type": "display_data"
    }
   ],
   "source": [
    "# Топ 5 категорий по количеству приложений\n",
    "df1.Category.value_counts(ascending=False).nlargest(5).sort_values(ascending=False).plot.bar()\n",
    "plt.ylabel(\"Number of Apps\")\n",
    "plt.xlabel(\"Category\")\n",
    "plt.title(\"Playstore - Category counts\")\n",
    "plt.show()"
   ]
  },
  {
   "cell_type": "code",
   "execution_count": 166,
   "id": "adc8be21",
   "metadata": {
    "execution": {
     "iopub.execute_input": "2022-11-21T18:30:02.037270Z",
     "iopub.status.busy": "2022-11-21T18:30:02.036207Z",
     "iopub.status.idle": "2022-11-21T18:30:02.044722Z",
     "shell.execute_reply": "2022-11-21T18:30:02.043824Z"
    },
    "id": "ysy9DaJOifuO",
    "outputId": "d4b9095e-351a-4b4d-f0f6-60f5ee9c147d",
    "papermill": {
     "duration": 0.046318,
     "end_time": "2022-11-21T18:30:02.047040",
     "exception": false,
     "start_time": "2022-11-21T18:30:02.000722",
     "status": "completed"
    },
    "tags": []
   },
   "outputs": [
    {
     "data": {
      "text/plain": [
       "FAMILY          1711\n",
       "GAME            1074\n",
       "TOOLS            732\n",
       "PRODUCTIVITY     334\n",
       "FINANCE          317\n",
       "Name: Category, dtype: int64"
      ]
     },
     "execution_count": 166,
     "metadata": {},
     "output_type": "execute_result"
    }
   ],
   "source": [
    "df[\"Category\"].value_counts().nlargest(5).sort_values(ascending=False)"
   ]
  },
  {
   "cell_type": "code",
   "execution_count": 167,
   "id": "14c461c9",
   "metadata": {
    "execution": {
     "iopub.execute_input": "2022-11-21T18:30:02.117550Z",
     "iopub.status.busy": "2022-11-21T18:30:02.117198Z",
     "iopub.status.idle": "2022-11-21T18:30:02.547743Z",
     "shell.execute_reply": "2022-11-21T18:30:02.546794Z"
    },
    "id": "GOG8_qLoP31E",
    "outputId": "65abadad-4654-4383-a4d6-d5b4898d1b54",
    "papermill": {
     "duration": 0.468062,
     "end_time": "2022-11-21T18:30:02.549540",
     "exception": false,
     "start_time": "2022-11-21T18:30:02.081478",
     "status": "completed"
    },
    "tags": []
   },
   "outputs": [
    {
     "data": {
      "image/png": "[encoded data removed]",
      "text/plain": [
       "<Figure size 1000x800 with 1 Axes>"
      ]
     },
     "metadata": {},
     "output_type": "display_data"
    }
   ],
   "source": [
    "plt.figure(figsize=(10,8))\n",
    "sns.set_theme(style=\"whitegrid\")\n",
    "plt.xticks(rotation=90)\n",
    "plt.title(\"Category V/s Count\")\n",
    "ax = sns.countplot(x=\"Category\", data=df)"
   ]
  },
  {
   "cell_type": "code",
   "execution_count": 168,
   "id": "4bafb55c",
   "metadata": {
    "execution": {
     "iopub.execute_input": "2022-11-21T18:30:02.621183Z",
     "iopub.status.busy": "2022-11-21T18:30:02.620581Z",
     "iopub.status.idle": "2022-11-21T18:30:02.644257Z",
     "shell.execute_reply": "2022-11-21T18:30:02.643336Z"
    },
    "id": "GKbWBlMNetsa",
    "outputId": "c8b6abd3-4238-4566-d711-8ec8a04a08ed",
    "papermill": {
     "duration": 0.061772,
     "end_time": "2022-11-21T18:30:02.646018",
     "exception": false,
     "start_time": "2022-11-21T18:30:02.584246",
     "status": "completed"
    },
    "tags": []
   },
   "outputs": [
    {
     "data": {
      "text/html": [
       "<div>\n",
       "<style scoped>\n",
       "    .dataframe tbody tr th:only-of-type {\n",
       "        vertical-align: middle;\n",
       "    }\n",
       "\n",
       "    .dataframe tbody tr th {\n",
       "        vertical-align: top;\n",
       "    }\n",
       "\n",
       "    .dataframe thead th {\n",
       "        text-align: right;\n",
       "    }\n",
       "</style>\n",
       "<table border=\"1\" class=\"dataframe\">\n",
       "  <thead>\n",
       "    <tr style=\"text-align: right;\">\n",
       "      <th></th>\n",
       "      <th>min</th>\n",
       "      <th>mean</th>\n",
       "      <th>median</th>\n",
       "      <th>max</th>\n",
       "    </tr>\n",
       "    <tr>\n",
       "      <th>Category</th>\n",
       "      <th></th>\n",
       "      <th></th>\n",
       "      <th></th>\n",
       "      <th></th>\n",
       "    </tr>\n",
       "  </thead>\n",
       "  <tbody>\n",
       "    <tr>\n",
       "      <th>ART_AND_DESIGN</th>\n",
       "      <td>100</td>\n",
       "      <td>2.036526e+06</td>\n",
       "      <td>100000.0</td>\n",
       "      <td>50000000</td>\n",
       "    </tr>\n",
       "    <tr>\n",
       "      <th>AUTO_AND_VEHICLES</th>\n",
       "      <td>100</td>\n",
       "      <td>7.278055e+05</td>\n",
       "      <td>100000.0</td>\n",
       "      <td>10000000</td>\n",
       "    </tr>\n",
       "    <tr>\n",
       "      <th>BEAUTY</th>\n",
       "      <td>100</td>\n",
       "      <td>6.408619e+05</td>\n",
       "      <td>100000.0</td>\n",
       "      <td>10000000</td>\n",
       "    </tr>\n",
       "    <tr>\n",
       "      <th>BOOKS_AND_REFERENCE</th>\n",
       "      <td>5</td>\n",
       "      <td>1.082651e+07</td>\n",
       "      <td>100000.0</td>\n",
       "      <td>1000000000</td>\n",
       "    </tr>\n",
       "    <tr>\n",
       "      <th>BUSINESS</th>\n",
       "      <td>5</td>\n",
       "      <td>3.198215e+06</td>\n",
       "      <td>10000.0</td>\n",
       "      <td>100000000</td>\n",
       "    </tr>\n",
       "    <tr>\n",
       "      <th>COMICS</th>\n",
       "      <td>100</td>\n",
       "      <td>9.661397e+05</td>\n",
       "      <td>100000.0</td>\n",
       "      <td>10000000</td>\n",
       "    </tr>\n",
       "    <tr>\n",
       "      <th>COMMUNICATION</th>\n",
       "      <td>10</td>\n",
       "      <td>7.867180e+07</td>\n",
       "      <td>1000000.0</td>\n",
       "      <td>1000000000</td>\n",
       "    </tr>\n",
       "    <tr>\n",
       "      <th>DATING</th>\n",
       "      <td>10</td>\n",
       "      <td>1.298883e+06</td>\n",
       "      <td>100000.0</td>\n",
       "      <td>10000000</td>\n",
       "    </tr>\n",
       "    <tr>\n",
       "      <th>EDUCATION</th>\n",
       "      <td>1000</td>\n",
       "      <td>4.138388e+06</td>\n",
       "      <td>1000000.0</td>\n",
       "      <td>100000000</td>\n",
       "    </tr>\n",
       "    <tr>\n",
       "      <th>ENTERTAINMENT</th>\n",
       "      <td>10000</td>\n",
       "      <td>2.212306e+07</td>\n",
       "      <td>5000000.0</td>\n",
       "      <td>1000000000</td>\n",
       "    </tr>\n",
       "    <tr>\n",
       "      <th>EVENTS</th>\n",
       "      <td>10</td>\n",
       "      <td>3.544313e+05</td>\n",
       "      <td>50000.0</td>\n",
       "      <td>5000000</td>\n",
       "    </tr>\n",
       "    <tr>\n",
       "      <th>FAMILY</th>\n",
       "      <td>10</td>\n",
       "      <td>5.794903e+06</td>\n",
       "      <td>100000.0</td>\n",
       "      <td>1000000000</td>\n",
       "    </tr>\n",
       "    <tr>\n",
       "      <th>FINANCE</th>\n",
       "      <td>50</td>\n",
       "      <td>2.430008e+06</td>\n",
       "      <td>100000.0</td>\n",
       "      <td>100000000</td>\n",
       "    </tr>\n",
       "    <tr>\n",
       "      <th>FOOD_AND_DRINK</th>\n",
       "      <td>50</td>\n",
       "      <td>2.431866e+06</td>\n",
       "      <td>1000000.0</td>\n",
       "      <td>10000000</td>\n",
       "    </tr>\n",
       "    <tr>\n",
       "      <th>GAME</th>\n",
       "      <td>1</td>\n",
       "      <td>2.937045e+07</td>\n",
       "      <td>5000000.0</td>\n",
       "      <td>1000000000</td>\n",
       "    </tr>\n",
       "    <tr>\n",
       "      <th>HEALTH_AND_FITNESS</th>\n",
       "      <td>10</td>\n",
       "      <td>5.194680e+06</td>\n",
       "      <td>500000.0</td>\n",
       "      <td>500000000</td>\n",
       "    </tr>\n",
       "    <tr>\n",
       "      <th>HOUSE_AND_HOME</th>\n",
       "      <td>1000</td>\n",
       "      <td>1.839441e+06</td>\n",
       "      <td>1000000.0</td>\n",
       "      <td>10000000</td>\n",
       "    </tr>\n",
       "    <tr>\n",
       "      <th>LIBRARIES_AND_DEMO</th>\n",
       "      <td>1000</td>\n",
       "      <td>9.544219e+05</td>\n",
       "      <td>50000.0</td>\n",
       "      <td>10000000</td>\n",
       "    </tr>\n",
       "    <tr>\n",
       "      <th>LIFESTYLE</th>\n",
       "      <td>10</td>\n",
       "      <td>1.753250e+06</td>\n",
       "      <td>50000.0</td>\n",
       "      <td>100000000</td>\n",
       "    </tr>\n",
       "    <tr>\n",
       "      <th>MAPS_AND_NAVIGATION</th>\n",
       "      <td>10</td>\n",
       "      <td>5.840867e+06</td>\n",
       "      <td>500000.0</td>\n",
       "      <td>100000000</td>\n",
       "    </tr>\n",
       "    <tr>\n",
       "      <th>MEDICAL</th>\n",
       "      <td>1</td>\n",
       "      <td>1.396115e+05</td>\n",
       "      <td>10000.0</td>\n",
       "      <td>5000000</td>\n",
       "    </tr>\n",
       "    <tr>\n",
       "      <th>NEWS_AND_MAGAZINES</th>\n",
       "      <td>50</td>\n",
       "      <td>2.520145e+07</td>\n",
       "      <td>100000.0</td>\n",
       "      <td>1000000000</td>\n",
       "    </tr>\n",
       "    <tr>\n",
       "      <th>PARENTING</th>\n",
       "      <td>10</td>\n",
       "      <td>6.223222e+05</td>\n",
       "      <td>100000.0</td>\n",
       "      <td>10000000</td>\n",
       "    </tr>\n",
       "    <tr>\n",
       "      <th>PERSONALIZATION</th>\n",
       "      <td>10</td>\n",
       "      <td>6.734876e+06</td>\n",
       "      <td>100000.0</td>\n",
       "      <td>100000000</td>\n",
       "    </tr>\n",
       "    <tr>\n",
       "      <th>PHOTOGRAPHY</th>\n",
       "      <td>10</td>\n",
       "      <td>3.197777e+07</td>\n",
       "      <td>5000000.0</td>\n",
       "      <td>1000000000</td>\n",
       "    </tr>\n",
       "    <tr>\n",
       "      <th>PRODUCTIVITY</th>\n",
       "      <td>10</td>\n",
       "      <td>3.731458e+07</td>\n",
       "      <td>1000000.0</td>\n",
       "      <td>1000000000</td>\n",
       "    </tr>\n",
       "    <tr>\n",
       "      <th>SHOPPING</th>\n",
       "      <td>10</td>\n",
       "      <td>1.275289e+07</td>\n",
       "      <td>1000000.0</td>\n",
       "      <td>100000000</td>\n",
       "    </tr>\n",
       "    <tr>\n",
       "      <th>SOCIAL</th>\n",
       "      <td>5</td>\n",
       "      <td>5.128624e+07</td>\n",
       "      <td>1000000.0</td>\n",
       "      <td>1000000000</td>\n",
       "    </tr>\n",
       "    <tr>\n",
       "      <th>SPORTS</th>\n",
       "      <td>5</td>\n",
       "      <td>5.344516e+06</td>\n",
       "      <td>750000.0</td>\n",
       "      <td>100000000</td>\n",
       "    </tr>\n",
       "    <tr>\n",
       "      <th>TOOLS</th>\n",
       "      <td>10</td>\n",
       "      <td>1.562872e+07</td>\n",
       "      <td>100000.0</td>\n",
       "      <td>1000000000</td>\n",
       "    </tr>\n",
       "    <tr>\n",
       "      <th>TRAVEL_AND_LOCAL</th>\n",
       "      <td>100</td>\n",
       "      <td>3.103346e+07</td>\n",
       "      <td>1000000.0</td>\n",
       "      <td>1000000000</td>\n",
       "    </tr>\n",
       "    <tr>\n",
       "      <th>VIDEO_PLAYERS</th>\n",
       "      <td>100</td>\n",
       "      <td>3.888686e+07</td>\n",
       "      <td>1000000.0</td>\n",
       "      <td>1000000000</td>\n",
       "    </tr>\n",
       "    <tr>\n",
       "      <th>WEATHER</th>\n",
       "      <td>500</td>\n",
       "      <td>5.681287e+06</td>\n",
       "      <td>1000000.0</td>\n",
       "      <td>50000000</td>\n",
       "    </tr>\n",
       "  </tbody>\n",
       "</table>\n",
       "</div>"
      ],
      "text/plain": [
       "                       min          mean     median         max\n",
       "Category                                                       \n",
       "ART_AND_DESIGN         100  2.036526e+06   100000.0    50000000\n",
       "AUTO_AND_VEHICLES      100  7.278055e+05   100000.0    10000000\n",
       "BEAUTY                 100  6.408619e+05   100000.0    10000000\n",
       "BOOKS_AND_REFERENCE      5  1.082651e+07   100000.0  1000000000\n",
       "BUSINESS                 5  3.198215e+06    10000.0   100000000\n",
       "COMICS                 100  9.661397e+05   100000.0    10000000\n",
       "COMMUNICATION           10  7.867180e+07  1000000.0  1000000000\n",
       "DATING                  10  1.298883e+06   100000.0    10000000\n",
       "EDUCATION             1000  4.138388e+06  1000000.0   100000000\n",
       "ENTERTAINMENT        10000  2.212306e+07  5000000.0  1000000000\n",
       "EVENTS                  10  3.544313e+05    50000.0     5000000\n",
       "FAMILY                  10  5.794903e+06   100000.0  1000000000\n",
       "FINANCE                 50  2.430008e+06   100000.0   100000000\n",
       "FOOD_AND_DRINK          50  2.431866e+06  1000000.0    10000000\n",
       "GAME                     1  2.937045e+07  5000000.0  1000000000\n",
       "HEALTH_AND_FITNESS      10  5.194680e+06   500000.0   500000000\n",
       "HOUSE_AND_HOME        1000  1.839441e+06  1000000.0    10000000\n",
       "LIBRARIES_AND_DEMO    1000  9.544219e+05    50000.0    10000000\n",
       "LIFESTYLE               10  1.753250e+06    50000.0   100000000\n",
       "MAPS_AND_NAVIGATION     10  5.840867e+06   500000.0   100000000\n",
       "MEDICAL                  1  1.396115e+05    10000.0     5000000\n",
       "NEWS_AND_MAGAZINES      50  2.520145e+07   100000.0  1000000000\n",
       "PARENTING               10  6.223222e+05   100000.0    10000000\n",
       "PERSONALIZATION         10  6.734876e+06   100000.0   100000000\n",
       "PHOTOGRAPHY             10  3.197777e+07  5000000.0  1000000000\n",
       "PRODUCTIVITY            10  3.731458e+07  1000000.0  1000000000\n",
       "SHOPPING                10  1.275289e+07  1000000.0   100000000\n",
       "SOCIAL                   5  5.128624e+07  1000000.0  1000000000\n",
       "SPORTS                   5  5.344516e+06   750000.0   100000000\n",
       "TOOLS                   10  1.562872e+07   100000.0  1000000000\n",
       "TRAVEL_AND_LOCAL       100  3.103346e+07  1000000.0  1000000000\n",
       "VIDEO_PLAYERS          100  3.888686e+07  1000000.0  1000000000\n",
       "WEATHER                500  5.681287e+06  1000000.0    50000000"
      ]
     },
     "execution_count": 168,
     "metadata": {},
     "output_type": "execute_result"
    }
   ],
   "source": [
    "# получаем средние показатели центральной тенденции для всех установок, сгруппированных по “Category”\n",
    "\n",
    "df.groupby(\"Category\").Installs.agg([\"min\", \"mean\", \"median\", \"max\"])"
   ]
  },
  {
   "cell_type": "code",
   "execution_count": 169,
   "id": "929af9ea",
   "metadata": {
    "execution": {
     "iopub.execute_input": "2022-11-21T18:30:02.719384Z",
     "iopub.status.busy": "2022-11-21T18:30:02.719012Z",
     "iopub.status.idle": "2022-11-21T18:30:02.735535Z",
     "shell.execute_reply": "2022-11-21T18:30:02.734582Z"
    },
    "id": "KeXScTzffPnG",
    "outputId": "ebe7c8ca-39a6-4aa4-8b3f-987d6594bb2e",
    "papermill": {
     "duration": 0.055319,
     "end_time": "2022-11-21T18:30:02.737459",
     "exception": false,
     "start_time": "2022-11-21T18:30:02.682140",
     "status": "completed"
    },
    "tags": []
   },
   "outputs": [
    {
     "data": {
      "text/html": [
       "<div>\n",
       "<style scoped>\n",
       "    .dataframe tbody tr th:only-of-type {\n",
       "        vertical-align: middle;\n",
       "    }\n",
       "\n",
       "    .dataframe tbody tr th {\n",
       "        vertical-align: top;\n",
       "    }\n",
       "\n",
       "    .dataframe thead th {\n",
       "        text-align: right;\n",
       "    }\n",
       "</style>\n",
       "<table border=\"1\" class=\"dataframe\">\n",
       "  <thead>\n",
       "    <tr style=\"text-align: right;\">\n",
       "      <th></th>\n",
       "      <th>App</th>\n",
       "      <th>Category</th>\n",
       "      <th>Rating</th>\n",
       "      <th>Reviews</th>\n",
       "      <th>Size</th>\n",
       "      <th>Installs</th>\n",
       "      <th>Type</th>\n",
       "      <th>Price</th>\n",
       "      <th>Content Rating</th>\n",
       "    </tr>\n",
       "    <tr>\n",
       "      <th>id</th>\n",
       "      <th></th>\n",
       "      <th></th>\n",
       "      <th></th>\n",
       "      <th></th>\n",
       "      <th></th>\n",
       "      <th></th>\n",
       "      <th></th>\n",
       "      <th></th>\n",
       "      <th></th>\n",
       "    </tr>\n",
       "  </thead>\n",
       "  <tbody>\n",
       "    <tr>\n",
       "      <th>339</th>\n",
       "      <td>Hangouts</td>\n",
       "      <td>COMMUNICATION</td>\n",
       "      <td>4.0</td>\n",
       "      <td>3419433.0</td>\n",
       "      <td>-1</td>\n",
       "      <td>1000000000</td>\n",
       "      <td>Free</td>\n",
       "      <td>0.0</td>\n",
       "      <td>Everyone</td>\n",
       "    </tr>\n",
       "    <tr>\n",
       "      <th>3159</th>\n",
       "      <td>Google News</td>\n",
       "      <td>NEWS_AND_MAGAZINES</td>\n",
       "      <td>3.9</td>\n",
       "      <td>877635.0</td>\n",
       "      <td>13</td>\n",
       "      <td>1000000000</td>\n",
       "      <td>Free</td>\n",
       "      <td>0.0</td>\n",
       "      <td>Teen</td>\n",
       "    </tr>\n",
       "    <tr>\n",
       "      <th>3494</th>\n",
       "      <td>Maps - Navigate &amp; Explore</td>\n",
       "      <td>TRAVEL_AND_LOCAL</td>\n",
       "      <td>4.3</td>\n",
       "      <td>9231613.0</td>\n",
       "      <td>-1</td>\n",
       "      <td>1000000000</td>\n",
       "      <td>Free</td>\n",
       "      <td>0.0</td>\n",
       "      <td>Everyone</td>\n",
       "    </tr>\n",
       "    <tr>\n",
       "      <th>3313</th>\n",
       "      <td>Instagram</td>\n",
       "      <td>SOCIAL</td>\n",
       "      <td>4.5</td>\n",
       "      <td>66509917.0</td>\n",
       "      <td>-1</td>\n",
       "      <td>1000000000</td>\n",
       "      <td>Free</td>\n",
       "      <td>0.0</td>\n",
       "      <td>Teen</td>\n",
       "    </tr>\n",
       "    <tr>\n",
       "      <th>2168</th>\n",
       "      <td>Instagram</td>\n",
       "      <td>SOCIAL</td>\n",
       "      <td>4.5</td>\n",
       "      <td>66577446.0</td>\n",
       "      <td>-1</td>\n",
       "      <td>1000000000</td>\n",
       "      <td>Free</td>\n",
       "      <td>0.0</td>\n",
       "      <td>Teen</td>\n",
       "    </tr>\n",
       "  </tbody>\n",
       "</table>\n",
       "</div>"
      ],
      "text/plain": [
       "                            App            Category  Rating     Reviews Size  \\\n",
       "id                                                                             \n",
       "339                    Hangouts       COMMUNICATION     4.0   3419433.0   -1   \n",
       "3159                Google News  NEWS_AND_MAGAZINES     3.9    877635.0   13   \n",
       "3494  Maps - Navigate & Explore    TRAVEL_AND_LOCAL     4.3   9231613.0   -1   \n",
       "3313                  Instagram              SOCIAL     4.5  66509917.0   -1   \n",
       "2168                  Instagram              SOCIAL     4.5  66577446.0   -1   \n",
       "\n",
       "        Installs  Type  Price Content Rating  \n",
       "id                                            \n",
       "339   1000000000  Free    0.0       Everyone  \n",
       "3159  1000000000  Free    0.0           Teen  \n",
       "3494  1000000000  Free    0.0       Everyone  \n",
       "3313  1000000000  Free    0.0           Teen  \n",
       "2168  1000000000  Free    0.0           Teen  "
      ]
     },
     "execution_count": 169,
     "metadata": {},
     "output_type": "execute_result"
    }
   ],
   "source": [
    "# Сортируем по количеству установок\n",
    "\n",
    "df.sort_values(by=\"Installs\", ascending= False).head()"
   ]
  },
  {
   "cell_type": "code",
   "execution_count": 170,
   "id": "f31f406a",
   "metadata": {
    "execution": {
     "iopub.execute_input": "2022-11-21T18:30:02.810476Z",
     "iopub.status.busy": "2022-11-21T18:30:02.809473Z",
     "iopub.status.idle": "2022-11-21T18:30:02.816296Z",
     "shell.execute_reply": "2022-11-21T18:30:02.815642Z"
    },
    "id": "1nj8NjVmfXlY",
    "papermill": {
     "duration": 0.045161,
     "end_time": "2022-11-21T18:30:02.818110",
     "exception": false,
     "start_time": "2022-11-21T18:30:02.772949",
     "status": "completed"
    },
    "tags": []
   },
   "outputs": [],
   "source": [
    "# Датафрейм с самыми устанавливаемыми приложениями\n",
    "top_installed_apps=df.sort_values(by=\"Installs\", ascending= False)"
   ]
  },
  {
   "cell_type": "code",
   "execution_count": 171,
   "id": "59064876",
   "metadata": {
    "execution": {
     "iopub.execute_input": "2022-11-21T18:30:02.891430Z",
     "iopub.status.busy": "2022-11-21T18:30:02.890414Z",
     "iopub.status.idle": "2022-11-21T18:30:02.904575Z",
     "shell.execute_reply": "2022-11-21T18:30:02.903698Z"
    },
    "id": "hjAB-8UJfd7v",
    "outputId": "e39bcd00-f788-4edf-9a7b-1140199ecb40",
    "papermill": {
     "duration": 0.052666,
     "end_time": "2022-11-21T18:30:02.906365",
     "exception": false,
     "start_time": "2022-11-21T18:30:02.853699",
     "status": "completed"
    },
    "tags": []
   },
   "outputs": [
    {
     "data": {
      "text/html": [
       "<div>\n",
       "<style scoped>\n",
       "    .dataframe tbody tr th:only-of-type {\n",
       "        vertical-align: middle;\n",
       "    }\n",
       "\n",
       "    .dataframe tbody tr th {\n",
       "        vertical-align: top;\n",
       "    }\n",
       "\n",
       "    .dataframe thead th {\n",
       "        text-align: right;\n",
       "    }\n",
       "</style>\n",
       "<table border=\"1\" class=\"dataframe\">\n",
       "  <thead>\n",
       "    <tr style=\"text-align: right;\">\n",
       "      <th></th>\n",
       "      <th>App</th>\n",
       "      <th>Category</th>\n",
       "      <th>Rating</th>\n",
       "      <th>Reviews</th>\n",
       "      <th>Size</th>\n",
       "      <th>Installs</th>\n",
       "      <th>Type</th>\n",
       "      <th>Price</th>\n",
       "      <th>Content Rating</th>\n",
       "    </tr>\n",
       "    <tr>\n",
       "      <th>id</th>\n",
       "      <th></th>\n",
       "      <th></th>\n",
       "      <th></th>\n",
       "      <th></th>\n",
       "      <th></th>\n",
       "      <th></th>\n",
       "      <th></th>\n",
       "      <th></th>\n",
       "      <th></th>\n",
       "    </tr>\n",
       "  </thead>\n",
       "  <tbody>\n",
       "    <tr>\n",
       "      <th>339</th>\n",
       "      <td>Hangouts</td>\n",
       "      <td>COMMUNICATION</td>\n",
       "      <td>4.0</td>\n",
       "      <td>3419433.0</td>\n",
       "      <td>-1</td>\n",
       "      <td>1000000000</td>\n",
       "      <td>Free</td>\n",
       "      <td>0.0</td>\n",
       "      <td>Everyone</td>\n",
       "    </tr>\n",
       "    <tr>\n",
       "      <th>3159</th>\n",
       "      <td>Google News</td>\n",
       "      <td>NEWS_AND_MAGAZINES</td>\n",
       "      <td>3.9</td>\n",
       "      <td>877635.0</td>\n",
       "      <td>13</td>\n",
       "      <td>1000000000</td>\n",
       "      <td>Free</td>\n",
       "      <td>0.0</td>\n",
       "      <td>Teen</td>\n",
       "    </tr>\n",
       "    <tr>\n",
       "      <th>3494</th>\n",
       "      <td>Maps - Navigate &amp; Explore</td>\n",
       "      <td>TRAVEL_AND_LOCAL</td>\n",
       "      <td>4.3</td>\n",
       "      <td>9231613.0</td>\n",
       "      <td>-1</td>\n",
       "      <td>1000000000</td>\n",
       "      <td>Free</td>\n",
       "      <td>0.0</td>\n",
       "      <td>Everyone</td>\n",
       "    </tr>\n",
       "    <tr>\n",
       "      <th>3313</th>\n",
       "      <td>Instagram</td>\n",
       "      <td>SOCIAL</td>\n",
       "      <td>4.5</td>\n",
       "      <td>66509917.0</td>\n",
       "      <td>-1</td>\n",
       "      <td>1000000000</td>\n",
       "      <td>Free</td>\n",
       "      <td>0.0</td>\n",
       "      <td>Teen</td>\n",
       "    </tr>\n",
       "    <tr>\n",
       "      <th>2168</th>\n",
       "      <td>Instagram</td>\n",
       "      <td>SOCIAL</td>\n",
       "      <td>4.5</td>\n",
       "      <td>66577446.0</td>\n",
       "      <td>-1</td>\n",
       "      <td>1000000000</td>\n",
       "      <td>Free</td>\n",
       "      <td>0.0</td>\n",
       "      <td>Teen</td>\n",
       "    </tr>\n",
       "  </tbody>\n",
       "</table>\n",
       "</div>"
      ],
      "text/plain": [
       "                            App            Category  Rating     Reviews Size  \\\n",
       "id                                                                             \n",
       "339                    Hangouts       COMMUNICATION     4.0   3419433.0   -1   \n",
       "3159                Google News  NEWS_AND_MAGAZINES     3.9    877635.0   13   \n",
       "3494  Maps - Navigate & Explore    TRAVEL_AND_LOCAL     4.3   9231613.0   -1   \n",
       "3313                  Instagram              SOCIAL     4.5  66509917.0   -1   \n",
       "2168                  Instagram              SOCIAL     4.5  66577446.0   -1   \n",
       "\n",
       "        Installs  Type  Price Content Rating  \n",
       "id                                            \n",
       "339   1000000000  Free    0.0       Everyone  \n",
       "3159  1000000000  Free    0.0           Teen  \n",
       "3494  1000000000  Free    0.0       Everyone  \n",
       "3313  1000000000  Free    0.0           Teen  \n",
       "2168  1000000000  Free    0.0           Teen  "
      ]
     },
     "execution_count": 171,
     "metadata": {},
     "output_type": "execute_result"
    }
   ],
   "source": [
    "top_installed_apps.head()"
   ]
  },
  {
   "cell_type": "code",
   "execution_count": 172,
   "id": "6b67d8aa",
   "metadata": {
    "execution": {
     "iopub.execute_input": "2022-11-21T18:30:02.980122Z",
     "iopub.status.busy": "2022-11-21T18:30:02.979549Z",
     "iopub.status.idle": "2022-11-21T18:30:02.987999Z",
     "shell.execute_reply": "2022-11-21T18:30:02.986952Z"
    },
    "id": "ogGDKuERfiaH",
    "outputId": "39a3ee93-9da1-4912-900d-4f0d7e031b09",
    "papermill": {
     "duration": 0.047786,
     "end_time": "2022-11-21T18:30:02.990125",
     "exception": false,
     "start_time": "2022-11-21T18:30:02.942339",
     "status": "completed"
    },
    "tags": []
   },
   "outputs": [
    {
     "data": {
      "text/plain": [
       "49"
      ]
     },
     "execution_count": 172,
     "metadata": {},
     "output_type": "execute_result"
    }
   ],
   "source": [
    "# Приложения с миллиардом и более скачиваний\n",
    "len(df[df[\"Installs\"]>= 1000000000])"
   ]
  },
  {
   "cell_type": "code",
   "execution_count": 173,
   "id": "d9f44ec3",
   "metadata": {
    "execution": {
     "iopub.execute_input": "2022-11-21T18:30:03.063274Z",
     "iopub.status.busy": "2022-11-21T18:30:03.062784Z",
     "iopub.status.idle": "2022-11-21T18:30:03.078918Z",
     "shell.execute_reply": "2022-11-21T18:30:03.078178Z"
    },
    "id": "1y08pXoqfyZy",
    "outputId": "98910a86-d38b-4ac1-9296-f558c6503b4e",
    "papermill": {
     "duration": 0.054628,
     "end_time": "2022-11-21T18:30:03.080593",
     "exception": false,
     "start_time": "2022-11-21T18:30:03.025965",
     "status": "completed"
    },
    "tags": []
   },
   "outputs": [
    {
     "data": {
      "text/html": [
       "<div>\n",
       "<style scoped>\n",
       "    .dataframe tbody tr th:only-of-type {\n",
       "        vertical-align: middle;\n",
       "    }\n",
       "\n",
       "    .dataframe tbody tr th {\n",
       "        vertical-align: top;\n",
       "    }\n",
       "\n",
       "    .dataframe thead th {\n",
       "        text-align: right;\n",
       "    }\n",
       "</style>\n",
       "<table border=\"1\" class=\"dataframe\">\n",
       "  <thead>\n",
       "    <tr style=\"text-align: right;\">\n",
       "      <th></th>\n",
       "      <th>App</th>\n",
       "      <th>Category</th>\n",
       "      <th>Rating</th>\n",
       "      <th>Reviews</th>\n",
       "      <th>Size</th>\n",
       "      <th>Installs</th>\n",
       "      <th>Type</th>\n",
       "      <th>Price</th>\n",
       "      <th>Content Rating</th>\n",
       "    </tr>\n",
       "    <tr>\n",
       "      <th>id</th>\n",
       "      <th></th>\n",
       "      <th></th>\n",
       "      <th></th>\n",
       "      <th></th>\n",
       "      <th></th>\n",
       "      <th></th>\n",
       "      <th></th>\n",
       "      <th></th>\n",
       "      <th></th>\n",
       "    </tr>\n",
       "  </thead>\n",
       "  <tbody>\n",
       "    <tr>\n",
       "      <th>1365</th>\n",
       "      <td>Subway Surfers</td>\n",
       "      <td>GAME</td>\n",
       "      <td>4.5</td>\n",
       "      <td>27722264.0</td>\n",
       "      <td>76</td>\n",
       "      <td>1000000000</td>\n",
       "      <td>Free</td>\n",
       "      <td>0.0</td>\n",
       "      <td>Everyone 10+</td>\n",
       "    </tr>\n",
       "    <tr>\n",
       "      <th>1411</th>\n",
       "      <td>Subway Surfers</td>\n",
       "      <td>GAME</td>\n",
       "      <td>4.5</td>\n",
       "      <td>27723193.0</td>\n",
       "      <td>76</td>\n",
       "      <td>1000000000</td>\n",
       "      <td>Free</td>\n",
       "      <td>0.0</td>\n",
       "      <td>Everyone 10+</td>\n",
       "    </tr>\n",
       "    <tr>\n",
       "      <th>1458</th>\n",
       "      <td>Subway Surfers</td>\n",
       "      <td>GAME</td>\n",
       "      <td>4.5</td>\n",
       "      <td>27724094.0</td>\n",
       "      <td>76</td>\n",
       "      <td>1000000000</td>\n",
       "      <td>Free</td>\n",
       "      <td>0.0</td>\n",
       "      <td>Everyone 10+</td>\n",
       "    </tr>\n",
       "    <tr>\n",
       "      <th>1573</th>\n",
       "      <td>Subway Surfers</td>\n",
       "      <td>GAME</td>\n",
       "      <td>4.5</td>\n",
       "      <td>27725352.0</td>\n",
       "      <td>76</td>\n",
       "      <td>1000000000</td>\n",
       "      <td>Free</td>\n",
       "      <td>0.0</td>\n",
       "      <td>Everyone 10+</td>\n",
       "    </tr>\n",
       "    <tr>\n",
       "      <th>2110</th>\n",
       "      <td>Instagram</td>\n",
       "      <td>SOCIAL</td>\n",
       "      <td>4.5</td>\n",
       "      <td>66577313.0</td>\n",
       "      <td>-1</td>\n",
       "      <td>1000000000</td>\n",
       "      <td>Free</td>\n",
       "      <td>0.0</td>\n",
       "      <td>Teen</td>\n",
       "    </tr>\n",
       "  </tbody>\n",
       "</table>\n",
       "</div>"
      ],
      "text/plain": [
       "                 App Category  Rating     Reviews Size    Installs  Type  \\\n",
       "id                                                                         \n",
       "1365  Subway Surfers     GAME     4.5  27722264.0   76  1000000000  Free   \n",
       "1411  Subway Surfers     GAME     4.5  27723193.0   76  1000000000  Free   \n",
       "1458  Subway Surfers     GAME     4.5  27724094.0   76  1000000000  Free   \n",
       "1573  Subway Surfers     GAME     4.5  27725352.0   76  1000000000  Free   \n",
       "2110       Instagram   SOCIAL     4.5  66577313.0   -1  1000000000  Free   \n",
       "\n",
       "      Price Content Rating  \n",
       "id                          \n",
       "1365    0.0   Everyone 10+  \n",
       "1411    0.0   Everyone 10+  \n",
       "1458    0.0   Everyone 10+  \n",
       "1573    0.0   Everyone 10+  \n",
       "2110    0.0           Teen  "
      ]
     },
     "execution_count": 173,
     "metadata": {},
     "output_type": "execute_result"
    }
   ],
   "source": [
    "# другой датафрейм с самыми скачмваемыми приложениями\n",
    "top_installed_and_rated_apps = df.sort_values(by=[\"Installs\", \"Rating\"], ascending=False)\n",
    "top_installed_and_rated_apps.head() "
   ]
  },
  {
   "cell_type": "code",
   "execution_count": 174,
   "id": "6fc01284",
   "metadata": {
    "execution": {
     "iopub.execute_input": "2022-11-21T18:30:03.156224Z",
     "iopub.status.busy": "2022-11-21T18:30:03.155635Z",
     "iopub.status.idle": "2022-11-21T18:30:03.178282Z",
     "shell.execute_reply": "2022-11-21T18:30:03.177163Z"
    },
    "id": "QY_h93EagSZG",
    "outputId": "17c74661-4c07-4964-d1a0-743ed03a31ff",
    "papermill": {
     "duration": 0.064081,
     "end_time": "2022-11-21T18:30:03.180929",
     "exception": false,
     "start_time": "2022-11-21T18:30:03.116848",
     "status": "completed"
    },
    "tags": []
   },
   "outputs": [
    {
     "data": {
      "text/html": [
       "<div>\n",
       "<style scoped>\n",
       "    .dataframe tbody tr th:only-of-type {\n",
       "        vertical-align: middle;\n",
       "    }\n",
       "\n",
       "    .dataframe tbody tr th {\n",
       "        vertical-align: top;\n",
       "    }\n",
       "\n",
       "    .dataframe thead th {\n",
       "        text-align: right;\n",
       "    }\n",
       "</style>\n",
       "<table border=\"1\" class=\"dataframe\">\n",
       "  <thead>\n",
       "    <tr style=\"text-align: right;\">\n",
       "      <th></th>\n",
       "      <th>App</th>\n",
       "      <th>Category</th>\n",
       "      <th>Rating</th>\n",
       "      <th>Reviews</th>\n",
       "      <th>Size</th>\n",
       "      <th>Installs</th>\n",
       "      <th>Type</th>\n",
       "      <th>Price</th>\n",
       "      <th>Content Rating</th>\n",
       "    </tr>\n",
       "    <tr>\n",
       "      <th>id</th>\n",
       "      <th></th>\n",
       "      <th></th>\n",
       "      <th></th>\n",
       "      <th></th>\n",
       "      <th></th>\n",
       "      <th></th>\n",
       "      <th></th>\n",
       "      <th></th>\n",
       "      <th></th>\n",
       "    </tr>\n",
       "  </thead>\n",
       "  <tbody>\n",
       "    <tr>\n",
       "      <th>2109</th>\n",
       "      <td>Facebook</td>\n",
       "      <td>SOCIAL</td>\n",
       "      <td>4.1</td>\n",
       "      <td>78158306.0</td>\n",
       "      <td>-1</td>\n",
       "      <td>1000000000</td>\n",
       "      <td>Free</td>\n",
       "      <td>0.0</td>\n",
       "      <td>Teen</td>\n",
       "    </tr>\n",
       "    <tr>\n",
       "      <th>3347</th>\n",
       "      <td>Facebook</td>\n",
       "      <td>SOCIAL</td>\n",
       "      <td>4.1</td>\n",
       "      <td>78128208.0</td>\n",
       "      <td>-1</td>\n",
       "      <td>1000000000</td>\n",
       "      <td>Free</td>\n",
       "      <td>0.0</td>\n",
       "      <td>Teen</td>\n",
       "    </tr>\n",
       "    <tr>\n",
       "      <th>290</th>\n",
       "      <td>WhatsApp Messenger</td>\n",
       "      <td>COMMUNICATION</td>\n",
       "      <td>4.4</td>\n",
       "      <td>69119316.0</td>\n",
       "      <td>-1</td>\n",
       "      <td>1000000000</td>\n",
       "      <td>Free</td>\n",
       "      <td>0.0</td>\n",
       "      <td>Everyone</td>\n",
       "    </tr>\n",
       "    <tr>\n",
       "      <th>3308</th>\n",
       "      <td>WhatsApp Messenger</td>\n",
       "      <td>COMMUNICATION</td>\n",
       "      <td>4.4</td>\n",
       "      <td>69109672.0</td>\n",
       "      <td>-1</td>\n",
       "      <td>1000000000</td>\n",
       "      <td>Free</td>\n",
       "      <td>0.0</td>\n",
       "      <td>Everyone</td>\n",
       "    </tr>\n",
       "    <tr>\n",
       "      <th>2168</th>\n",
       "      <td>Instagram</td>\n",
       "      <td>SOCIAL</td>\n",
       "      <td>4.5</td>\n",
       "      <td>66577446.0</td>\n",
       "      <td>-1</td>\n",
       "      <td>1000000000</td>\n",
       "      <td>Free</td>\n",
       "      <td>0.0</td>\n",
       "      <td>Teen</td>\n",
       "    </tr>\n",
       "  </tbody>\n",
       "</table>\n",
       "</div>"
      ],
      "text/plain": [
       "                     App       Category  Rating     Reviews Size    Installs  \\\n",
       "id                                                                             \n",
       "2109            Facebook         SOCIAL     4.1  78158306.0   -1  1000000000   \n",
       "3347            Facebook         SOCIAL     4.1  78128208.0   -1  1000000000   \n",
       "290   WhatsApp Messenger  COMMUNICATION     4.4  69119316.0   -1  1000000000   \n",
       "3308  WhatsApp Messenger  COMMUNICATION     4.4  69109672.0   -1  1000000000   \n",
       "2168           Instagram         SOCIAL     4.5  66577446.0   -1  1000000000   \n",
       "\n",
       "      Type  Price Content Rating  \n",
       "id                                \n",
       "2109  Free    0.0           Teen  \n",
       "3347  Free    0.0           Teen  \n",
       "290   Free    0.0       Everyone  \n",
       "3308  Free    0.0       Everyone  \n",
       "2168  Free    0.0           Teen  "
      ]
     },
     "execution_count": 174,
     "metadata": {},
     "output_type": "execute_result"
    }
   ],
   "source": [
    "top_installed_and_reviewed_apps = df.sort_values(by=[\"Installs\", \"Reviews\"], ascending=False)\n",
    "top_installed_and_reviewed_apps.head()"
   ]
  },
  {
   "cell_type": "code",
   "execution_count": 175,
   "id": "6e055c10",
   "metadata": {
    "execution": {
     "iopub.execute_input": "2022-11-21T18:30:03.256606Z",
     "iopub.status.busy": "2022-11-21T18:30:03.256089Z",
     "iopub.status.idle": "2022-11-21T18:30:03.259566Z",
     "shell.execute_reply": "2022-11-21T18:30:03.258979Z"
    },
    "id": "8dzkuAeygi7l",
    "papermill": {
     "duration": 0.044104,
     "end_time": "2022-11-21T18:30:03.262027",
     "exception": false,
     "start_time": "2022-11-21T18:30:03.217923",
     "status": "completed"
    },
    "tags": []
   },
   "outputs": [],
   "source": [
    "top_10_installed_and_rated_apps= top_installed_and_rated_apps.head(10)"
   ]
  },
  {
   "cell_type": "code",
   "execution_count": 176,
   "id": "0e921c2e",
   "metadata": {
    "execution": {
     "iopub.execute_input": "2022-11-21T18:30:03.337242Z",
     "iopub.status.busy": "2022-11-21T18:30:03.336608Z",
     "iopub.status.idle": "2022-11-21T18:30:03.343425Z",
     "shell.execute_reply": "2022-11-21T18:30:03.342711Z"
    },
    "id": "Z7wmCN9zgqTV",
    "outputId": "21129fec-702c-46c2-e5e2-bc7691b43567",
    "papermill": {
     "duration": 0.047085,
     "end_time": "2022-11-21T18:30:03.345562",
     "exception": false,
     "start_time": "2022-11-21T18:30:03.298477",
     "status": "completed"
    },
    "tags": []
   },
   "outputs": [
    {
     "data": {
      "text/plain": [
       "id\n",
       "2110         SOCIAL\n",
       "2168         SOCIAL\n",
       "2321    PHOTOGRAPHY\n",
       "2366    PHOTOGRAPHY\n",
       "2395    PHOTOGRAPHY\n",
       "1365           GAME\n",
       "1411           GAME\n",
       "1458           GAME\n",
       "1573           GAME\n",
       "3300           GAME\n",
       "Name: Category, dtype: object"
      ]
     },
     "execution_count": 176,
     "metadata": {},
     "output_type": "execute_result"
    }
   ],
   "source": [
    "top_10_installed_and_rated_apps.Category.sort_values(ascending=False)"
   ]
  },
  {
   "cell_type": "code",
   "execution_count": 177,
   "id": "a42432b1",
   "metadata": {
    "execution": {
     "iopub.execute_input": "2022-11-21T18:30:03.422280Z",
     "iopub.status.busy": "2022-11-21T18:30:03.421642Z",
     "iopub.status.idle": "2022-11-21T18:30:03.430190Z",
     "shell.execute_reply": "2022-11-21T18:30:03.429148Z"
    },
    "id": "Wwb-egU3gu6V",
    "outputId": "152589ab-babf-4f08-d9c7-b2814ec079be",
    "papermill": {
     "duration": 0.049903,
     "end_time": "2022-11-21T18:30:03.432173",
     "exception": false,
     "start_time": "2022-11-21T18:30:03.382270",
     "status": "completed"
    },
    "tags": []
   },
   "outputs": [
    {
     "data": {
      "text/plain": [
       "8190"
      ]
     },
     "execution_count": 177,
     "metadata": {},
     "output_type": "execute_result"
    }
   ],
   "source": [
    "# всего 8190 приложений\n",
    "df[\"App\"].nunique()"
   ]
  },
  {
   "cell_type": "code",
   "execution_count": 178,
   "id": "b5abf9b0",
   "metadata": {
    "execution": {
     "iopub.execute_input": "2022-11-21T18:30:03.506953Z",
     "iopub.status.busy": "2022-11-21T18:30:03.506611Z",
     "iopub.status.idle": "2022-11-21T18:30:03.513988Z",
     "shell.execute_reply": "2022-11-21T18:30:03.513076Z"
    },
    "id": "QIY58fGPg3DZ",
    "outputId": "262b21db-8058-4304-a22c-7b15d00b75b8",
    "papermill": {
     "duration": 0.046849,
     "end_time": "2022-11-21T18:30:03.515696",
     "exception": false,
     "start_time": "2022-11-21T18:30:03.468847",
     "status": "completed"
    },
    "tags": []
   },
   "outputs": [
    {
     "data": {
      "text/plain": [
       "id\n",
       "2110            Teen\n",
       "2168            Teen\n",
       "1365    Everyone 10+\n",
       "1411    Everyone 10+\n",
       "1458    Everyone 10+\n",
       "1573    Everyone 10+\n",
       "3300    Everyone 10+\n",
       "2321        Everyone\n",
       "2366        Everyone\n",
       "2395        Everyone\n",
       "Name: Content Rating, dtype: object"
      ]
     },
     "execution_count": 178,
     "metadata": {},
     "output_type": "execute_result"
    }
   ],
   "source": [
    "top_10_installed_and_rated_apps[\"Content Rating\"].sort_values(ascending=False)"
   ]
  },
  {
   "cell_type": "code",
   "execution_count": 179,
   "id": "b41bcc2a",
   "metadata": {
    "execution": {
     "iopub.execute_input": "2022-11-21T18:30:03.822128Z",
     "iopub.status.busy": "2022-11-21T18:30:03.821542Z",
     "iopub.status.idle": "2022-11-21T18:30:03.831114Z",
     "shell.execute_reply": "2022-11-21T18:30:03.829725Z"
    },
    "id": "4h0JiLy1hi8o",
    "outputId": "a31c1522-c698-442a-dfe5-7da8d6dc5662",
    "papermill": {
     "duration": 0.054231,
     "end_time": "2022-11-21T18:30:03.833747",
     "exception": false,
     "start_time": "2022-11-21T18:30:03.779516",
     "status": "completed"
    },
    "tags": []
   },
   "outputs": [
    {
     "data": {
      "text/plain": [
       "Everyone           7083\n",
       "Teen               1021\n",
       "Mature 17+          411\n",
       "Everyone 10+        359\n",
       "Adults only 18+       3\n",
       "Unrated               1\n",
       "Name: Content Rating, dtype: int64"
      ]
     },
     "execution_count": 179,
     "metadata": {},
     "output_type": "execute_result"
    }
   ],
   "source": [
    "#Count for content rating in each of the category\n",
    "df[\"Content Rating\"].value_counts(ascending=False)"
   ]
  },
  {
   "cell_type": "code",
   "execution_count": 180,
   "id": "6bc0a970",
   "metadata": {
    "execution": {
     "iopub.execute_input": "2022-11-21T18:30:03.911180Z",
     "iopub.status.busy": "2022-11-21T18:30:03.910300Z",
     "iopub.status.idle": "2022-11-21T18:30:04.073052Z",
     "shell.execute_reply": "2022-11-21T18:30:04.072150Z"
    },
    "id": "XLdWrK9vSUeg",
    "outputId": "6a2a2520-84ca-4886-8a3f-6433b536d6e3",
    "papermill": {
     "duration": 0.203947,
     "end_time": "2022-11-21T18:30:04.075591",
     "exception": false,
     "start_time": "2022-11-21T18:30:03.871644",
     "status": "completed"
    },
    "tags": []
   },
   "outputs": [
    {
     "data": {
      "text/plain": [
       "<matplotlib.legend.Legend at 0x1c3e69b5490>"
      ]
     },
     "execution_count": 180,
     "metadata": {},
     "output_type": "execute_result"
    },
    {
     "data": {
      "image/png": "[encoded data removed]",
      "text/plain": [
       "<Figure size 600x600 with 1 Axes>"
      ]
     },
     "metadata": {},
     "output_type": "display_data"
    }
   ],
   "source": [
    "# pie chart, показывающий распределение среди различных категорий \n",
    "fig, ax = plt.subplots(figsize=(6, 6), subplot_kw=dict(aspect=\"equal\"))\n",
    "number_of_apps = df[\"Content Rating\"].value_counts()\n",
    "labels = number_of_apps.index\n",
    "sizes = number_of_apps.values\n",
    "ax.pie(sizes,labeldistance=2,autopct='%1.1f%%')\n",
    "ax.legend(labels=labels,loc=\"right\",bbox_to_anchor=(0.9, 0, 0.5, 1))"
   ]
  },
  {
   "cell_type": "code",
   "execution_count": 182,
   "id": "b1c6856d",
   "metadata": {
    "execution": {
     "iopub.execute_input": "2022-11-21T18:30:05.016325Z",
     "iopub.status.busy": "2022-11-21T18:30:05.015981Z",
     "iopub.status.idle": "2022-11-21T18:30:05.024552Z",
     "shell.execute_reply": "2022-11-21T18:30:05.023698Z"
    },
    "id": "h77eyhaBiIM1",
    "outputId": "767d4037-f150-4685-e965-1fe5b7ecc8e6",
    "papermill": {
     "duration": 0.050201,
     "end_time": "2022-11-21T18:30:05.026408",
     "exception": false,
     "start_time": "2022-11-21T18:30:04.976207",
     "status": "completed"
    },
    "tags": []
   },
   "outputs": [
    {
     "data": {
      "text/plain": [
       "0.00    8268\n",
       "2.99     110\n",
       "0.99     104\n",
       "4.99      68\n",
       "1.99      59\n",
       "3.99      55\n",
       "1.49      30\n",
       "2.49      20\n",
       "5.99      14\n",
       "9.99      14\n",
       "Name: Price, dtype: int64"
      ]
     },
     "execution_count": 182,
     "metadata": {},
     "output_type": "execute_result"
    }
   ],
   "source": [
    "# Цены на приложения\n",
    "df[\"Price\"].value_counts().sort_values(ascending=False).head(10)"
   ]
  },
  {
   "cell_type": "code",
   "execution_count": 183,
   "id": "1045839d",
   "metadata": {
    "execution": {
     "iopub.execute_input": "2022-11-21T18:30:05.106325Z",
     "iopub.status.busy": "2022-11-21T18:30:05.105983Z",
     "iopub.status.idle": "2022-11-21T18:30:05.113171Z",
     "shell.execute_reply": "2022-11-21T18:30:05.112081Z"
    },
    "id": "x58hNsi3iNud",
    "outputId": "459f5dc7-ca7a-438c-f7cf-a51a7e2fb9e0",
    "papermill": {
     "duration": 0.05011,
     "end_time": "2022-11-21T18:30:05.115410",
     "exception": false,
     "start_time": "2022-11-21T18:30:05.065300",
     "status": "completed"
    },
    "tags": []
   },
   "outputs": [
    {
     "data": {
      "text/plain": [
       "73"
      ]
     },
     "execution_count": 183,
     "metadata": {},
     "output_type": "execute_result"
    }
   ],
   "source": [
    "df.Price.nunique()"
   ]
  },
  {
   "cell_type": "code",
   "execution_count": 184,
   "id": "a3db865a",
   "metadata": {
    "execution": {
     "iopub.execute_input": "2022-11-21T18:30:05.195690Z",
     "iopub.status.busy": "2022-11-21T18:30:05.195285Z",
     "iopub.status.idle": "2022-11-21T18:30:05.203335Z",
     "shell.execute_reply": "2022-11-21T18:30:05.202416Z"
    },
    "id": "T7GWnsdRi8bq",
    "outputId": "2e99fa2f-0121-4a8b-8eb3-02d2e1494739",
    "papermill": {
     "duration": 0.050394,
     "end_time": "2022-11-21T18:30:05.205146",
     "exception": false,
     "start_time": "2022-11-21T18:30:05.154752",
     "status": "completed"
    },
    "tags": []
   },
   "outputs": [
    {
     "data": {
      "text/plain": [
       "Free    8268\n",
       "Paid     610\n",
       "Name: Type, dtype: int64"
      ]
     },
     "execution_count": 184,
     "metadata": {},
     "output_type": "execute_result"
    }
   ],
   "source": [
    "df.Type.value_counts()"
   ]
  },
  {
   "cell_type": "code",
   "execution_count": 185,
   "id": "7d9c9937",
   "metadata": {
    "execution": {
     "iopub.execute_input": "2022-11-21T18:30:06.304130Z",
     "iopub.status.busy": "2022-11-21T18:30:06.303800Z",
     "iopub.status.idle": "2022-11-21T18:30:06.312603Z",
     "shell.execute_reply": "2022-11-21T18:30:06.311712Z"
    },
    "id": "IZkG5TzPqv-1",
    "outputId": "66d90fb2-4457-4ada-9fe6-b63c7e1ab06b",
    "papermill": {
     "duration": 0.05219,
     "end_time": "2022-11-21T18:30:06.314401",
     "exception": false,
     "start_time": "2022-11-21T18:30:06.262211",
     "status": "completed"
    },
    "tags": []
   },
   "outputs": [
    {
     "data": {
      "text/plain": [
       "0.00    8268\n",
       "2.99     110\n",
       "0.99     104\n",
       "4.99      68\n",
       "1.99      59\n",
       "Name: Price, dtype: int64"
      ]
     },
     "execution_count": 185,
     "metadata": {},
     "output_type": "execute_result"
    }
   ],
   "source": [
    "# Посмотрим также на 5 самых вероятных вариантов цены для приложения \n",
    "df[\"Price\"].value_counts().nlargest(5).sort_values(ascending=False)"
   ]
  },
  {
   "cell_type": "code",
   "execution_count": 186,
   "id": "9e333329",
   "metadata": {
    "execution": {
     "iopub.execute_input": "2022-11-21T18:30:06.397170Z",
     "iopub.status.busy": "2022-11-21T18:30:06.396266Z",
     "iopub.status.idle": "2022-11-21T18:30:06.554267Z",
     "shell.execute_reply": "2022-11-21T18:30:06.553402Z"
    },
    "id": "rXo0kkPsq52_",
    "outputId": "1a1a8eee-008a-45a2-c4d6-ec3d6e2a6225",
    "papermill": {
     "duration": 0.201481,
     "end_time": "2022-11-21T18:30:06.556356",
     "exception": false,
     "start_time": "2022-11-21T18:30:06.354875",
     "status": "completed"
    },
    "tags": []
   },
   "outputs": [
    {
     "data": {
      "image/png": "[encoded data removed]",
      "text/plain": [
       "<Figure size 640x480 with 1 Axes>"
      ]
     },
     "metadata": {},
     "output_type": "display_data"
    }
   ],
   "source": [
    "# данный график показывает, что почти все приложения бесплатные\n",
    "df[\"Price\"].value_counts().nlargest(5).sort_values(ascending=False).plot.bar()\n",
    "plt.ylabel(\"Number of Apps\")\n",
    "plt.xlabel(\"Prices in Dollars\")\n",
    "plt.title(\"Playstore - Prices\")\n",
    "plt.show()"
   ]
  },
  {
   "cell_type": "markdown",
   "id": "0db0e807",
   "metadata": {
    "id": "craZbqAk8sgo",
    "papermill": {
     "duration": 0.048195,
     "end_time": "2022-11-21T18:30:12.653104",
     "exception": false,
     "start_time": "2022-11-21T18:30:12.604909",
     "status": "completed"
    },
    "tags": []
   },
   "source": [
    "# **Заключение**\n"
   ]
  },
  {
   "cell_type": "markdown",
   "id": "e42d2165",
   "metadata": {
    "id": "7RHiSc1B85E9",
    "papermill": {
     "duration": 0.047077,
     "end_time": "2022-11-21T18:30:12.747398",
     "exception": false,
     "start_time": "2022-11-21T18:30:12.700321",
     "status": "completed"
    },
    "tags": []
   },
   "source": [
    "Google Play Store действительно обладает званием крупнейшего рынка приложений в мире, превосходя даже Apple App Store по количеству загрузок. Однако любопытно, что, несмотря на огромное количество загрузок, Play Store генерирует всего половину дохода по сравнению с App Store. Давайте рассмотрим проблемы, которые вы выявили в ходе анализа данных:\n",
    "\n",
    "1. **Обратная связь пользователей и коммуникация с разработчиками**:\n",
    "   - **Функция обратной связи для пользователей**: Внедрение функции, позволяющей пользователям уведомлять разработчиков о неудовлетворительных обновлениях приложения, является ценной идеей. Такая прямая коммуникация может предотвратить дальнейшее падение оценок для приложений с низкой установкой из-за негативных отзывов.\n",
    "   - **Устранение несоответствия оценок**: Решение проблемы несоответствия оценок на меньшем масштабе имеет важное значение. Обеспечение того, чтобы оценки точно отражали мнение пользователей, обеспечит более надежное представление о качестве приложения.\n",
    "\n",
    "2. **Определение параметров успеха приложения**:\n",
    "   - **Количество установок**: Общее количество установок является важным показателем успешности приложения. Однако также следует учитывать другие факторы, такие как распределение оценок 4 и 5 относительно общего числа оценок, соотношение установок к оценкам и содержание приложения."
   ]
  }
 ],
 "metadata": {
  "kernelspec": {
   "display_name": "Python 3 (ipykernel)",
   "language": "python",
   "name": "python3"
  },
  "language_info": {
   "codemirror_mode": {
    "name": "ipython",
    "version": 3
   },
   "file_extension": ".py",
   "mimetype": "text/x-python",
   "name": "python",
   "nbconvert_exporter": "python",
   "pygments_lexer": "ipython3",
   "version": "3.11.3"
  },
  "papermill": {
   "default_parameters": {},
   "duration": 27.264648,
   "end_time": "2022-11-21T18:30:13.609758",
   "environment_variables": {},
   "exception": null,
   "input_path": "__notebook__.ipynb",
   "output_path": "__notebook__.ipynb",
   "parameters": {},
   "start_time": "2022-11-21T18:29:46.345110",
   "version": "2.3.4"
  }
 },
 "nbformat": 4,
 "nbformat_minor": 5
}
